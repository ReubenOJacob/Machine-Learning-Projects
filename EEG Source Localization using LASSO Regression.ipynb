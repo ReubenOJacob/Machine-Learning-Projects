{
  "cells": [
    {
      "cell_type": "markdown",
      "metadata": {
        "id": "-LymaggkbMe0"
      },
      "source": [
        "### Student Name: Reuben Oommen Jacob\n",
        "### Student Net Id: N16440385"
      ]
    },
    {
      "cell_type": "markdown",
      "metadata": {
        "id": "h3jibWOobMe2"
      },
      "source": [
        "# Lab:  Source Localization for EEG\n",
        "\n",
        "EEG or [Electroencephalography](https://en.wikipedia.org/wiki/Electroencephalography) is a powerful tool for neuroscientists in understanding brain activity.  In EEG, a patient wears a headset with electrodes that measures voltages at a number of points on the scalp.  These voltages arise from ionic currents within the brain.  A common *inverse problem* is to estimate the which parts of the brain caused the measured response.  Source localization is useful in understanding which parts of the brain are involved in certain tasks.  A key challenge in this inverse problem is that the number of unknowns (possible locations in the brain) is much larger than the number of measurements.  In this lab, we will use LASSO regression on a real EEG dataset to overcome this problem and determine the brain region that is active under an auditory stimulus.\n",
        "\n",
        "In addition to the concepts in the [prostate LASSO demo](./demo_prostate.ipynb) you will learn to:\n",
        "* Represent responses of multi-channel time-series data, such as EEG, using linear models\n",
        "* Perform LASSO and Ridge regression\n",
        "* Select the regularization level via cross-validation\n",
        "* Visually compare the sparsity between the solutions\n",
        "\n",
        "We first download standard packages."
      ]
    },
    {
      "cell_type": "code",
      "execution_count": 1,
      "metadata": {
        "id": "8RLp01bYbMe3"
      },
      "outputs": [],
      "source": [
        "import numpy as np\n",
        "import matplotlib.pyplot as plt\n",
        "import pickle\n",
        "\n",
        "from sklearn.linear_model import Lasso, Ridge, ElasticNet\n",
        "from sklearn.metrics import r2_score\n",
        "from sklearn.model_selection import train_test_split"
      ]
    },
    {
      "cell_type": "markdown",
      "metadata": {
        "id": "vr7Iw1EsbMe3"
      },
      "source": [
        "## Load the Data\n",
        "\n",
        "The data in this lab is taken from one of the sample datasets in the [MNE website](https://martinos.org/mne/stable/index.html). The sample data is a recording from one subject who experienced some auditory stimulus on the left ear.    \n",
        "\n",
        "The raw data is very large (`1.5G`) and also requires that you install the `mne` python package. To make this lab easier, I have extracted and processed a small section of the data. The following command will download a `pickle` file `eeg_dat.p` to your local machine.  If you do want to create the data yourself, the program to create the data is in this directory in the github repository."
      ]
    },
    {
      "cell_type": "code",
      "execution_count": 2,
      "metadata": {
        "id": "Cuws6YRjbMe4",
        "outputId": "9f1eeb1f-757b-4805-a473-ac93d50e98de",
        "colab": {
          "base_uri": "https://localhost:8080/"
        }
      },
      "outputs": [
        {
          "output_type": "stream",
          "name": "stdout",
          "text": [
            "Fetching file eeg_dat.p [53MB].  This may take a minute..\n",
            "File eeg_dat.p downloaded\n"
          ]
        }
      ],
      "source": [
        "fn_src ='https://drive.google.com/uc?export=download&id=1RzQpKONOcXSMxH2ZzOI4iVMiTgD6ttSl'\n",
        "fn_dst ='eeg_dat.p'\n",
        "\n",
        "import os\n",
        "from six.moves import urllib\n",
        "\n",
        "if os.path.isfile(fn_dst):\n",
        "    print('File %s is already downloaded' % fn_dst)\n",
        "else:        \n",
        "    print('Fetching file %s [53MB].  This may take a minute..' % fn_dst)\n",
        "    urllib.request.urlretrieve(fn_src, fn_dst)\n",
        "    print('File %s downloaded' % fn_dst)"
      ]
    },
    {
      "cell_type": "markdown",
      "metadata": {
        "id": "d6-8FQR4bMe4"
      },
      "source": [
        "Now run the following command which will get the data from the `pickle` file."
      ]
    },
    {
      "cell_type": "code",
      "execution_count": 3,
      "metadata": {
        "id": "ion1M8XBbMe5"
      },
      "outputs": [],
      "source": [
        "import pickle\n",
        "fn = 'eeg_dat.p'\n",
        "with open(fn, 'rb') as fp:\n",
        "    [X,Y] = pickle.load(fp)"
      ]
    },
    {
      "cell_type": "markdown",
      "metadata": {
        "id": "9ogKjnTUbMe5"
      },
      "source": [
        "To understand the data, there are three key variables:\n",
        "* `nt`    = number of time steps that we measure data\n",
        "* `nchan` = number of channels (i.e. electrodes) measured in each time step\n",
        "* `ncur`  = number of currents in the brain that we want to estimate.  \n",
        "\n",
        "Each current comes from one brain region (called a *voxel*) in either the `x`, `y` or `z` direction.  So,\n",
        "\n",
        "    nvoxels = ncur / 3\n",
        "    \n",
        "The components of the `X` and `Y` matrices are:\n",
        "*  `Y[i,k]` = electric field measurement on channel `i` at time `k`\n",
        "*  `X[i,j]` = sensitivity of channel `i` to current `j`.\n",
        "\n",
        "Using `X.shape` and `Y.shape` compute and print `nt`, `nchan`, `ncur` and `nvoxels`."
      ]
    },
    {
      "cell_type": "code",
      "execution_count": 4,
      "metadata": {
        "id": "Mq4fgRi3bMe6",
        "colab": {
          "base_uri": "https://localhost:8080/"
        },
        "outputId": "8b0b0f80-effe-4315-94ba-ffe326c4b974"
      },
      "outputs": [
        {
          "output_type": "stream",
          "name": "stdout",
          "text": [
            "nt = 85\n",
            "ncur = 22494\n",
            "nchan = 305\n",
            "nvoxels = 7498\n"
          ]
        }
      ],
      "source": [
        "# TODO 1\n",
        "# nt = ...\n",
        "# ncur = ...\n",
        "# nchan = ...\n",
        "# nvoxels\n",
        "nchan,ncur=X.shape\n",
        "nt= Y.shape[1]\n",
        "nvoxels = ncur/3\n",
        "print('nt = %d' % nt)\n",
        "print('ncur = %d' % ncur)\n",
        "print('nchan = %d' % nchan)\n",
        "\n",
        "print('nvoxels = %d' % nvoxels)"
      ]
    },
    {
      "cell_type": "markdown",
      "metadata": {
        "id": "uhBFyY9NbMe6"
      },
      "source": [
        "## Ridge Regression\n",
        "\n",
        "Our goal is to estimate the currents in the brain from the measurements `Y`.  One simple linear model is:\n",
        "\n",
        "    Y[i,k]  = \\sum_j X[i,j]*W[j,k]+ b[k]\n",
        "\n",
        "where `W[j,k]` is the value of current `j` at time `k` and `b[k]` is a bias.  We can solve for the current matrix `W` via linear regression.  \n",
        "\n",
        "Howeever, there is a problem:\n",
        "*  There are `nt x ncur` unknowns in `W`\n",
        "*  There are only `nt x nchan` measurements in `Y`.\n",
        "\n",
        "In this problem, we have:\n",
        "\n",
        "    number of measurements  << number of unknowns\n",
        "    \n",
        "We need to use regularization in these circumstances.  We first try Ridge regression.\n",
        "\n",
        "First split the data into training and test.  Use the `train_test_split` function with `test_size=0.33`."
      ]
    },
    {
      "cell_type": "code",
      "execution_count": 5,
      "metadata": {
        "id": "iZMK-W-sbMe6"
      },
      "outputs": [],
      "source": [
        "# TODO 2\n",
        "# Xtr,Xts,Ytr,Yts = train_test_split(...) \n",
        "Xtr,Xts,Ytr,Yts = train_test_split(X, Y, test_size=0.33) "
      ]
    },
    {
      "cell_type": "markdown",
      "metadata": {
        "id": "WwV0B6a_bMe6"
      },
      "source": [
        "Use the `Ridge` regression object in `sklearn` to fit the model on the training data.  Use a regularization, `alpha=1`."
      ]
    },
    {
      "cell_type": "code",
      "execution_count": 6,
      "metadata": {
        "id": "NbMqoUo_bMe7"
      },
      "outputs": [],
      "source": [
        "# TODO 3\n",
        "# regr = Ridge(...)\n",
        "regr = Ridge(alpha=1)"
      ]
    },
    {
      "cell_type": "markdown",
      "metadata": {
        "id": "Y57G-eOxbMe7"
      },
      "source": [
        "Preict the values `Y` on both the training and test data.  Use the `r2_score` method to measure the `R^2` value on both the training and test.  You will see that `R^2` value is large for the training data, it is very low for the test data.  This suggest that even with regularization, the model is over-fitting the data."
      ]
    },
    {
      "cell_type": "code",
      "execution_count": 7,
      "metadata": {
        "id": "u8M7wNKabMe7",
        "colab": {
          "base_uri": "https://localhost:8080/"
        },
        "outputId": "bbf932c4-50cd-4239-9108-205b0f1d6b0c"
      },
      "outputs": [
        {
          "output_type": "stream",
          "name": "stdout",
          "text": [
            "R^2 Training = 0.594470\n",
            "R^2 Test = 0.149669\n"
          ]
        }
      ],
      "source": [
        "# TODO 4\n",
        "# rsq_tr = ...\n",
        "# rsq_ts = ....\n",
        "regr.fit(Xtr, Ytr)\n",
        "Ytrhat = regr.predict(Xtr)\n",
        "Ytshat = regr.predict(Xts)\n",
        "rsqtr = r2_score(Ytr, Ytrhat)\n",
        "rsqts = r2_score(Yts, Ytshat)\n",
        "\n",
        "print('R^2 Training = %f' %rsqtr)\n",
        "print('R^2 Test = %f' %rsqts)\n"
      ]
    },
    {
      "cell_type": "markdown",
      "metadata": {
        "id": "efRV1gP6bMe7"
      },
      "source": [
        "Next, try to see if we can get a better `R^2` score using different values of `alpha`.  Use cross-validation to measure the test `R^2` for 20 `alpha` values logarithmically spaced from `10^{-2}` to `10^{2}` (use `np.logspace()`).  You can use regular cross-validation.  You do not need to do `K`-fold."
      ]
    },
    {
      "cell_type": "code",
      "execution_count": 8,
      "metadata": {
        "id": "AIr-CyyFbMe7"
      },
      "outputs": [],
      "source": [
        "# TODO 5\n",
        "\n",
        "alpha = np.logspace(-2,2,20)\n",
        "rsqs_trarray = np.zeros(20)\n",
        "rsqs_tsarray = np.zeros(20)\n",
        "for i in range(20):\n",
        "  regr = Ridge(alpha = alpha[i])\n",
        "  regr.fit(Xtr,Ytr)\n",
        "  Ytrhat = regr.predict(Xtr) \n",
        "  Ytshat = regr.predict(Xts)\n",
        "  rsqtr = r2_score(Ytr, Ytrhat)\n",
        "  rsqts = r2_score(Yts, Ytshat)\n",
        "  rsqs_trarray[i] = rsqtr\n",
        "  rsqs_tsarray[i] = rsqts"
      ]
    },
    {
      "cell_type": "markdown",
      "metadata": {
        "id": "uqmRs8qDbMe7"
      },
      "source": [
        "Plot the test `R^2` vs. `alpha`.  And print the maximum test `R^2`.  You should see that the maximum test `R^2` is still not very high."
      ]
    },
    {
      "cell_type": "code",
      "execution_count": 10,
      "metadata": {
        "id": "p3WFn0-gbMe7",
        "colab": {
          "base_uri": "https://localhost:8080/",
          "height": 300
        },
        "outputId": "d326cf9f-2849-4965-b90d-2625df5cfaeb"
      },
      "outputs": [
        {
          "output_type": "stream",
          "name": "stdout",
          "text": [
            "The maximum test R^2 is 0.189927\n"
          ]
        },
        {
          "output_type": "display_data",
          "data": {
            "text/plain": [
              "<Figure size 432x288 with 1 Axes>"
            ],
            "image/png": "[encoded data removed]"
          },
          "metadata": {
            "needs_background": "light"
          }
        }
      ],
      "source": [
        "# TODO 6\n",
        "plt.semilogx(alpha, rsqs_tsarray)\n",
        "imax = np.argmax(rsqs_tsarray)\n",
        "plt.xlabel('Alpha')\n",
        "plt.ylabel('R2')\n",
        "\n",
        "R2Max = rsqs_tsarray[imax]\n",
        "print('The maximum test R^2 is %f' % R2Max)"
      ]
    },
    {
      "cell_type": "markdown",
      "metadata": {
        "id": "T-Y7emUAbMe8"
      },
      "source": [
        "Now, let's take a look at the solution. \n",
        "\n",
        "* Find the optimal regularization `alpha` from the cross-validation\n",
        "* Re-fit the model at the optimal `alpha`\n",
        "* Get the current matrix `W` from the coefficients in the linear model.  These are stored in `regr.coef_`.  You may need a transpose\n",
        "* For each current `j` compute `Wrms[j] =  sqrt( sum_k W[j,k]**2 )` which is root mean squared current.\n",
        "\n",
        "You will see that the vector `Wrms` is not sparse.  This means that the solution that is found with Ridge regression finds currents in all locations."
      ]
    },
    {
      "cell_type": "code",
      "execution_count": 12,
      "metadata": {
        "id": "0dVsnt58bMe8",
        "colab": {
          "base_uri": "https://localhost:8080/"
        },
        "outputId": "141efe8f-6816-46f5-d8e9-a92dd8ca98e6"
      },
      "outputs": [
        {
          "output_type": "stream",
          "name": "stdout",
          "text": [
            "[0.35454972 0.14636193 0.18234554 ... 0.05110372 0.03779886 0.07484169]\n"
          ]
        }
      ],
      "source": [
        "# TODO 7\n",
        "regr = Ridge(alpha = alpha[imax])\n",
        "regr.fit(Xtr, Ytr)\n",
        "W=regr.coef_.transpose()\n",
        "Wrms = np.sqrt(np.sum(W**2,axis = 1))\n",
        "\n",
        "print(Wrms)"
      ]
    },
    {
      "cell_type": "markdown",
      "metadata": {
        "id": "vidXUfM8bMe8"
      },
      "source": [
        "## LASSO Regression\n",
        "\n",
        "We can improve the estimate by imposing sparsity.  Biologically, we know that only a limited number of brain regions should be involved in the reponse to a particular stimuli.  As a result, we would expect that the current matrix `W[j,k]` to be zero for most values `j,k`.  We can impose this constraint using LASSO regularization.\n",
        "\n",
        "Re-fit the training data using the `Lasso` model with `alpha=1e-3`.  Also set `max_iter=100` and `tol=0.01`.  The LASSO solver is much slower, so this make take a minute."
      ]
    },
    {
      "cell_type": "code",
      "execution_count": 13,
      "metadata": {
        "id": "ioG7E5A4bMe8",
        "colab": {
          "base_uri": "https://localhost:8080/"
        },
        "outputId": "0a515c8e-6505-4488-91e2-d63318458b4e"
      },
      "outputs": [
        {
          "output_type": "execute_result",
          "data": {
            "text/plain": [
              "Lasso(alpha=0.001, max_iter=100, tol=0.01)"
            ]
          },
          "metadata": {},
          "execution_count": 13
        }
      ],
      "source": [
        "# TODO 8\n",
        "regr = Lasso(alpha = 1e-3, max_iter=100, tol=0.01)\n",
        "regr.fit(Xtr, Ytr)"
      ]
    },
    {
      "cell_type": "markdown",
      "metadata": {
        "id": "sb2QxgRRbMe8"
      },
      "source": [
        "Now, test the model on the test data and measure the `R^2` value.  You should get a much better fit than with the Ridge regression solution.  "
      ]
    },
    {
      "cell_type": "code",
      "execution_count": 14,
      "metadata": {
        "id": "yy7WvUR1bMe8",
        "colab": {
          "base_uri": "https://localhost:8080/"
        },
        "outputId": "c4e4fced-c9c0-459b-9a1c-48a8eaf7d23f"
      },
      "outputs": [
        {
          "output_type": "stream",
          "name": "stdout",
          "text": [
            "R2 from Lasso=0.144158\n"
          ]
        }
      ],
      "source": [
        "# TODO 9\n",
        "Ytslhat = regr.predict(Xts)\n",
        "rsql = r2_score(Yts, Ytslhat)\n",
        "\n",
        "print('R2 from Lasso=%f' %rsql)"
      ]
    },
    {
      "cell_type": "markdown",
      "metadata": {
        "id": "yqBhwxw_bMe8"
      },
      "source": [
        "We can now search for the optimal `alpha`.  Use cross-validation to find the `alpha` logarithically space between `alpha=10^{-3}` and `alpha=10^{-4}`.  Each fit takes some time, so use only 5 values of `alpha`. Also for each `alpha` store the current matrix.  This way, you will not have to re-fit the model."
      ]
    },
    {
      "cell_type": "code",
      "execution_count": 26,
      "metadata": {
        "id": "GPI6wzS3bMe8"
      },
      "outputs": [],
      "source": [
        "# TODO 10\n",
        "\n",
        "alphal = np.logspace(-3,-4,5)\n",
        "rsqsl_tsarray = np.zeros(5)\n",
        "for i in range(5):\n",
        "  regr2 = Lasso(alpha = alphal[i],max_iter=100, tol=0.01)\n",
        "  regr2.fit(Xtr,Ytr)\n",
        "  Ytslhat = regr2.predict(Xts)\n",
        "  rsqlts = r2_score(Yts, Ytslhat)\n",
        "  rsqsl_tsarray[i] = rsqlts\n",
        "\n",
        "\n",
        "\n",
        "  \n"
      ]
    },
    {
      "cell_type": "markdown",
      "metadata": {
        "id": "IKwcYV80bMe8"
      },
      "source": [
        "Plot the `r^2` value vs. `alpha`.  Print the optimal `r^2`.  You should see it is much higher than with the best Ridge Regression case."
      ]
    },
    {
      "cell_type": "code",
      "execution_count": 27,
      "metadata": {
        "id": "XKglERzLbMe8",
        "colab": {
          "base_uri": "https://localhost:8080/",
          "height": 300
        },
        "outputId": "003ad9f7-f855-4319-8f71-97587144e634"
      },
      "outputs": [
        {
          "output_type": "stream",
          "name": "stdout",
          "text": [
            "The maximum test R^2 is 0.325587\n"
          ]
        },
        {
          "output_type": "display_data",
          "data": {
            "text/plain": [
              "<Figure size 432x288 with 1 Axes>"
            ],
            "image/png": "[encoded data removed]"
          },
          "metadata": {
            "needs_background": "light"
          }
        }
      ],
      "source": [
        "# TODO 11\n",
        "\n",
        "plt.semilogx(alphal, rsqsl_tsarray)\n",
        "imax = np.argmax(rsqsl_tsarray)\n",
        "max_R2 = rsqsl_tsarray[imax]\n",
        "plt.xlabel('alpha')\n",
        "plt.ylabel('R^2')\n",
        "print('The maximum test R^2 is %f' % max_R2)"
      ]
    },
    {
      "cell_type": "markdown",
      "metadata": {
        "id": "ROt7xo5GbMe9"
      },
      "source": [
        "Display the current matrix `W` for the optimal `alpha` as you did in the Ridge Regression case.  You will see that is much sparser."
      ]
    },
    {
      "cell_type": "code",
      "execution_count": 36,
      "metadata": {
        "id": "IJfQNjiAbMe9",
        "colab": {
          "base_uri": "https://localhost:8080/"
        },
        "outputId": "733fc1d9-5936-40cc-abde-e7eac96ab221"
      },
      "outputs": [
        {
          "output_type": "stream",
          "name": "stdout",
          "text": [
            "[[ 0.          0.          0.         ...  0.          0.\n",
            "   0.        ]\n",
            " [-0.         -0.         -0.         ... -0.         -0.\n",
            "  -0.        ]\n",
            " [-0.54397343 -0.61101397 -0.         ... -0.         -0.\n",
            "  -0.        ]\n",
            " ...\n",
            " [ 0.          0.          0.         ...  0.          0.\n",
            "   0.        ]\n",
            " [-0.         -0.         -0.         ... -0.         -0.\n",
            "  -0.        ]\n",
            " [ 0.          0.          0.         ...  0.          0.\n",
            "   0.        ]]\n"
          ]
        }
      ],
      "source": [
        "# TODO 12\n",
        "regr2 = Lasso(alpha = alphal[imax])\n",
        "regr2.fit(Xtr,Ytr)\n",
        "W=regr2.coef_.transpose()\n",
        "print(W)"
      ]
    },
    {
      "cell_type": "markdown",
      "metadata": {
        "id": "u8nL3mCybMe9"
      },
      "source": [
        "## More fun (NOT GRADED)\n",
        "\n",
        "If you want to more on this lab:\n",
        "* Install the [MNE python package](https://martinos.org/mne/stable/index.html).  This is an amazing package with many tools for processing EEG data.\n",
        "* In particular, you can use the above results to visualize where in the brain the currents sources are.\n",
        "* You can also improve the fitting with more regularization.  For example, we know that the currents will be non-zero in groups:  If the current is non-zero for one time, it is likely to non-zero for all time.  You can use the Group LASSO method.\n",
        "* You can combine these results to make predictions about what the patient is seeing or hearing or thinking."
      ]
    },
    {
      "cell_type": "code",
      "execution_count": null,
      "metadata": {
        "id": "KS_g34fTbMe9"
      },
      "outputs": [],
      "source": []
    }
  ],
  "metadata": {
    "kernelspec": {
      "display_name": "Python 3",
      "language": "python",
      "name": "python3"
    },
    "language_info": {
      "codemirror_mode": {
        "name": "ipython",
        "version": 3
      },
      "file_extension": ".py",
      "mimetype": "text/x-python",
      "name": "python",
      "nbconvert_exporter": "python",
      "pygments_lexer": "ipython3",
      "version": "3.8.5"
    },
    "colab": {
      "provenance": [],
      "collapsed_sections": []
    }
  },
  "nbformat": 4,
  "nbformat_minor": 0
}
