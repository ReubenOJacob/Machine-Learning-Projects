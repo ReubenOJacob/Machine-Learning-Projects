{
  "cells": [
    {
      "cell_type": "markdown",
      "metadata": {
        "id": "ca7ysOtDmU0Z"
      },
      "source": [
        " # Lab:  Transfer Learning with a Pre-Trained Deep Neural Network\n",
        "\n",
        "As we discussed earlier, state-of-the-art neural networks involve millions of parameters that are prohibitively difficult to train from scratch.  In this lab, we will illustrate a powerful technique called *fine-tuning* where we start with a large pre-trained network and then re-train only the final layers to adapt to a new task.  The method is also called *transfer learning* and can produce excellent results on very small datasets with very little computational time.  \n",
        "\n",
        "This lab is based partially on this\n",
        "[excellent blog](https://blog.keras.io/building-powerful-image-classification-models-using-very-little-data.html).  In performing the lab, you will learn to:\n",
        "* Build a custom image dataset\n",
        "* Fine tune the final layers of an existing deep neural network for a new classification task.\n",
        "* Load images with a `DataGenerator`.\n",
        "\n",
        "The lab has two versions:\n",
        "* *CPU version*:  In this version, you use lower resolution images so that the lab can be performed on your laptop.  The resulting accuracy is lower.  The code will also take considerable time to execute.\n",
        "* *GPU version*:  This version uses higher resolution images but requires a GPU instance. See the [notes](../GCP/getting_started.md) on setting up a GPU instance on Google Cloud Platform.  The GPU training is much faster (< 1 minute).  \n",
        "\n",
        "**MS students must complete the GPU version** of this lab."
      ]
    },
    {
      "cell_type": "markdown",
      "metadata": {
        "id": "s7jnDexvmU0c"
      },
      "source": [
        "## Create a Dataset\n",
        "\n",
        "In this example, we will try to develop a classifier that can discriminate between two classes:  `cars` and `bicycles`.  One could imagine this type of classifier would be useful in vehicle vision systems.   The first task is to build a dataset.  \n",
        "\n",
        "TODO:  Create training and test datasets with:\n",
        "* 1000 training images of cars\n",
        "* 1000 training images of bicylces\n",
        "* 300 test images of cars\n",
        "* 300 test images of bicylces\n",
        "* The images don't need to be the same size.  But, you can reduce the resolution if you need to save disk space.\n",
        "\n",
        "The images should be organized in the following directory structure:\n",
        "\n",
        "    ./train\n",
        "        /car\n",
        "           car_0000.jpg\n",
        "           car_0001.jpg\n",
        "           ...\n",
        "           car_0999.jpg\n",
        "        /bicycle\n",
        "           bicycle_0000.jpg\n",
        "           bicycle_0001.jpg\n",
        "           ...\n",
        "           bicycle_0999.jpg\n",
        "    ./test\n",
        "        /car\n",
        "           car_1001.jpg\n",
        "           car_1001.jpg\n",
        "           ...\n",
        "           car_1299.jpg\n",
        "        /bicycle\n",
        "           bicycle_1000.jpg\n",
        "           bicycle_1001.jpg\n",
        "           ...\n",
        "           bicycle_1299.jpg\n",
        "           \n",
        "The naming of the files within the directories does not matter.  The `ImageDataGenerator` class below will find the filenames.  Just make sure there are the correct number of files in each directory.\n",
        "           \n",
        "A nice automated way of building such a dataset if through the [FlickrAPI](demo2_flickr_images.ipynb).  Remember that if you run the FlickrAPI twice, it may collect the same images.  So, you need to run it once and split the images into training and test directories.         \n",
        "        "
      ]
    },
    {
      "cell_type": "code",
      "source": [
        "pip install flickrapi"
      ],
      "metadata": {
        "colab": {
          "base_uri": "https://localhost:8080/"
        },
        "id": "SDUAEk6aDbsB",
        "outputId": "0b9bfaa8-d045-4425-944a-0f02b475dc9e"
      },
      "execution_count": 22,
      "outputs": [
        {
          "output_type": "stream",
          "name": "stdout",
          "text": [
            "Looking in indexes: https://pypi.org/simple, https://us-python.pkg.dev/colab-wheels/public/simple/\n",
            "Collecting flickrapi\n",
            "  Downloading flickrapi-2.4.0-py2.py3-none-any.whl (26 kB)\n",
            "Requirement already satisfied: requests>=2.2.1 in /usr/local/lib/python3.7/dist-packages (from flickrapi) (2.23.0)\n",
            "Requirement already satisfied: six>=1.5.2 in /usr/local/lib/python3.7/dist-packages (from flickrapi) (1.15.0)\n",
            "Requirement already satisfied: requests-oauthlib>=0.4.0 in /usr/local/lib/python3.7/dist-packages (from flickrapi) (1.3.1)\n",
            "Collecting requests-toolbelt>=0.3.1\n",
            "  Downloading requests_toolbelt-0.10.1-py2.py3-none-any.whl (54 kB)\n",
            "\u001b[K     |████████████████████████████████| 54 kB 2.8 MB/s \n",
            "\u001b[?25hRequirement already satisfied: urllib3!=1.25.0,!=1.25.1,<1.26,>=1.21.1 in /usr/local/lib/python3.7/dist-packages (from requests>=2.2.1->flickrapi) (1.24.3)\n",
            "Requirement already satisfied: certifi>=2017.4.17 in /usr/local/lib/python3.7/dist-packages (from requests>=2.2.1->flickrapi) (2022.9.24)\n",
            "Requirement already satisfied: idna<3,>=2.5 in /usr/local/lib/python3.7/dist-packages (from requests>=2.2.1->flickrapi) (2.10)\n",
            "Requirement already satisfied: chardet<4,>=3.0.2 in /usr/local/lib/python3.7/dist-packages (from requests>=2.2.1->flickrapi) (3.0.4)\n",
            "Requirement already satisfied: oauthlib>=3.0.0 in /usr/local/lib/python3.7/dist-packages (from requests-oauthlib>=0.4.0->flickrapi) (3.2.2)\n",
            "Installing collected packages: requests-toolbelt, flickrapi\n",
            "Successfully installed flickrapi-2.4.0 requests-toolbelt-0.10.1\n"
          ]
        }
      ]
    },
    {
      "cell_type": "code",
      "source": [
        "import flickrapi\n",
        "import urllib.request\n",
        "import matplotlib.pyplot as plt\n",
        "import numpy as np\n",
        "import skimage.io\n",
        "import skimage.transform\n",
        "import requests\n",
        "from io import BytesIO\n",
        "%matplotlib inline"
      ],
      "metadata": {
        "id": "nqVmtGFkE23_"
      },
      "execution_count": 24,
      "outputs": []
    },
    {
      "cell_type": "code",
      "source": [
        "api_key = u'49286b0b6f3b715fca25a3ebc2603504'\n",
        "api_secret = u'0cd8076077dd2ded'\n",
        "flickr = flickrapi.FlickrAPI(api_key, api_secret)"
      ],
      "metadata": {
        "id": "u46uaYuaFAfd"
      },
      "execution_count": 25,
      "outputs": []
    },
    {
      "cell_type": "code",
      "source": [
        "KeywordCar = 'car'\n",
        "KeywordBicycle = 'bicycle'\n",
        "\n",
        "Photos_Car = flickr.walk(text=KeywordCar, tag_mode='all', tags=KeywordCar,extras='url_c',\\\n",
        "                     sort='relevance',per_page=100)\n",
        "\n",
        "\n",
        "\n",
        "Photos_Bicycle = flickr.walk(text=KeywordBicycle, tag_mode='all',tags=KeywordBicycle,extras='url_c',\\\n",
        "                         sort='relevance',per_page=100)"
      ],
      "metadata": {
        "id": "rrc-zGUwFBi1"
      },
      "execution_count": 31,
      "outputs": []
    },
    {
      "cell_type": "code",
      "source": [
        "def create_folder(dir_name):\n",
        "  import os\n",
        "  dir_exists = os.path.isdir(dir_name)\n",
        "  if not dir_exists:\n",
        "    os.mkdir(dir_name)\n",
        "    print(\"Making directory %s\" % dir_name)\n",
        "  else:\n",
        "    print(\"Will store images in directory %s\" % dir_name)\n",
        "\n",
        "create_folder('train')\n",
        "create_folder('test')\n",
        "create_folder('train/car')\n",
        "create_folder('train/bicycle')\n",
        "create_folder('test/car')\n",
        "create_folder('test/bicycle')"
      ],
      "metadata": {
        "colab": {
          "base_uri": "https://localhost:8080/"
        },
        "id": "UaRGKEHfHZLg",
        "outputId": "075c0116-0e52-4986-d3d1-bb606d828d80"
      },
      "execution_count": 33,
      "outputs": [
        {
          "output_type": "stream",
          "name": "stdout",
          "text": [
            "Will store images in directory train\n",
            "Will store images in directory test\n",
            "Will store images in directory train/car\n",
            "Will store images in directory train/bicycle\n",
            "Will store images in directory test/car\n",
            "Will store images in directory test/bicycle\n"
          ]
        }
      ]
    },
    {
      "cell_type": "code",
      "source": [
        "import warnings\n",
        "def download_photo(photos,nimage,dir_name,keyword):\n",
        "  i = 0\n",
        "  nrow = 224\n",
        "  ncol = 224\n",
        "  for photo in photos:\n",
        "    url=photo.get('url_c')\n",
        "    if not (url is None):    \n",
        "      # Create a file from the URL\n",
        "      # This may only work in Python3\n",
        "      response = requests.get(url)\n",
        "      file = BytesIO(response.content)\n",
        "\n",
        "      # Read image from file\n",
        "      im = skimage.io.imread(file)\n",
        "\n",
        "      # Resize images\n",
        "      im1 = skimage.transform.resize(im,(nrow,ncol),mode='constant')\n",
        "\n",
        "      # Convert to uint8, suppress the warning about the precision loss\n",
        "      with warnings.catch_warnings():\n",
        "          warnings.simplefilter(\"ignore\")\n",
        "          im2 = skimage.img_as_ubyte(im1)\n",
        "\n",
        "      # Save the image\n",
        "      local_name = '{0:s}/{1:s}_{2:04d}.jpg'.format(dir_name,keyword, i)\n",
        "      skimage.io.imsave(local_name, im2)\n",
        "      #print(local_name)\n",
        "      i = i + 1\n",
        "\n",
        "    if (i >= nimage):\n",
        "      break"
      ],
      "metadata": {
        "id": "LGl8fZSXI3jV"
      },
      "execution_count": 40,
      "outputs": []
    },
    {
      "cell_type": "code",
      "source": [
        "download_photo(Photos_Car, 1000,'train/car','car')\n",
        "download_photo(Photos_Bicycle, 1000,'train/bicycle','bicycle')\n",
        "download_photo(Photos_Car, 300,'test/car','car')\n",
        "download_photo(Photos_Bicycle, 300,'test/bicycle','bicycle')"
      ],
      "metadata": {
        "id": "qY35TaXWSHAH"
      },
      "execution_count": 42,
      "outputs": []
    },
    {
      "cell_type": "markdown",
      "metadata": {
        "id": "8CkzG7xNmU0d"
      },
      "source": [
        "## Loading a Pre-Trained Deep Network\n",
        "\n",
        "We follow the [VGG16 demo](./demo3_vgg16.ipynb) to load a pre-trained deep VGG16 network.  First, run a command to verify your instance is connected to a GPU."
      ]
    },
    {
      "cell_type": "code",
      "execution_count": 43,
      "metadata": {
        "id": "O-gcOiHzmU0d",
        "colab": {
          "base_uri": "https://localhost:8080/"
        },
        "outputId": "2e73c3aa-4be0-4ac1-b585-0918324f7c97"
      },
      "outputs": [
        {
          "output_type": "stream",
          "name": "stdout",
          "text": [
            "[name: \"/device:CPU:0\"\n",
            "device_type: \"CPU\"\n",
            "memory_limit: 268435456\n",
            "locality {\n",
            "}\n",
            "incarnation: 332580132795351726\n",
            "xla_global_id: -1\n",
            "]\n"
          ]
        }
      ],
      "source": [
        "# TODO 1:\n",
        "import keras\n",
        "import tensorflow as tf\n",
        "from scipy import misc\n",
        "import numpy as np\n",
        "import matplotlib.pyplot as plt\n",
        "import pandas as pd\n",
        "\n",
        "from tensorflow.python.client import device_lib\n",
        "print(device_lib.list_local_devices())"
      ]
    },
    {
      "cell_type": "markdown",
      "metadata": {
        "id": "2myj2fg3mU0e"
      },
      "source": [
        "Now load the appropriate tensorflow packages."
      ]
    },
    {
      "cell_type": "code",
      "execution_count": 44,
      "metadata": {
        "collapsed": true,
        "id": "IP0q-gfhmU0h"
      },
      "outputs": [],
      "source": [
        "from tensorflow.keras import applications\n",
        "from tensorflow.keras.preprocessing.image import ImageDataGenerator\n",
        "from tensorflow.keras import optimizers\n",
        "from tensorflow.keras.models import Sequential\n",
        "from tensorflow.keras.layers import Dropout, Flatten, Dense\n"
      ]
    },
    {
      "cell_type": "markdown",
      "metadata": {
        "id": "jjt5oK8bmU0i"
      },
      "source": [
        "We also load some standard packages."
      ]
    },
    {
      "cell_type": "code",
      "execution_count": 45,
      "metadata": {
        "id": "no26uNXymU0i"
      },
      "outputs": [],
      "source": [
        "import numpy as np\n",
        "import matplotlib.pyplot as plt"
      ]
    },
    {
      "cell_type": "markdown",
      "metadata": {
        "id": "V_dcpmuYmU0i"
      },
      "source": [
        "Clear the Keras session."
      ]
    },
    {
      "cell_type": "code",
      "execution_count": 46,
      "metadata": {
        "collapsed": true,
        "id": "RzOIG6dZmU0i"
      },
      "outputs": [],
      "source": [
        "# TODO 2:\n",
        "import tensorflow.keras.backend as K\n",
        "K.clear_session()"
      ]
    },
    {
      "cell_type": "markdown",
      "metadata": {
        "id": "XwIvQytemU0j"
      },
      "source": [
        "Set the dimensions of the input image.  The sizes below would work on a GPU machine.  But, if you have a CPU image, you can use a smaller image size, like `64 x 64`."
      ]
    },
    {
      "cell_type": "code",
      "execution_count": 47,
      "metadata": {
        "id": "SV4u-tHrmU0j"
      },
      "outputs": [],
      "source": [
        "# TODO 3:  Set to smaller values if you are using a CPU.  \n",
        "# Otherwise, do not change this code.\n",
        "nrow = 150\n",
        "ncol = 150"
      ]
    },
    {
      "cell_type": "markdown",
      "metadata": {
        "id": "9ngadsvhmU0j"
      },
      "source": [
        "Now we follow the [VGG16 demo](./vgg16.ipynb) and load the deep VGG16 network.  Alternatively, you can use any other pre-trained model in keras.  When using the `applications.VGG16` method you will need to:\n",
        "* Set `include_top=False` to not include the top layer\n",
        "* Set the `image_shape` based on the above dimensions.  Remember, `image_shape` should be `height x width x 3` since the images are color."
      ]
    },
    {
      "cell_type": "code",
      "execution_count": 48,
      "metadata": {
        "collapsed": true,
        "id": "eTAmKVtPmU0j"
      },
      "outputs": [],
      "source": [
        "# TODO 4:  Load the VGG16 network\n",
        "# input_shape = ...\n",
        "# base_model = applications.VGG16(weights='imagenet', ...)\n",
        "\n",
        "# Select 'xception' or 'vgg16'\n",
        "\n",
        "\n",
        "pre_trained = 'vgg16'\n",
        "# Load appropriate packages\n",
        "from tensorflow.keras.applications.xception import Xception\n",
        "from tensorflow.keras.applications.vgg16 import VGG16\n",
        "from tensorflow.keras.preprocessing import image\n",
        "from tensorflow.keras.applications.vgg16 import decode_predictions,preprocess_input\n",
        "\n",
        "\n",
        "base_model = VGG16(include_top=False,input_shape=(nrow,ncol,3),weights='imagenet')\n"
      ]
    },
    {
      "cell_type": "markdown",
      "metadata": {
        "id": "RSpiq10RmU0j"
      },
      "source": [
        "To create now new model, we create a Sequential model.  Then, loop over the layers in `base_model.layers` and add each layer to the new model."
      ]
    },
    {
      "cell_type": "code",
      "execution_count": 49,
      "metadata": {
        "collapsed": true,
        "id": "TNHKJ9HkmU0j"
      },
      "outputs": [],
      "source": [
        "# Create a new model\n",
        "model = Sequential()\n",
        "\n",
        "# TODO 5:  Loop over base_model.layers and add each layer to model\n",
        "\n",
        "for layer in base_model.layers:\n",
        "  model.add(layer)"
      ]
    },
    {
      "cell_type": "markdown",
      "metadata": {
        "id": "t2MUMP_amU0k"
      },
      "source": [
        "Next, loop through the layers in `model`, and freeze each layer by setting `layer.trainable = False`.  This way, you will not have to *re-train* any of the existing layers."
      ]
    },
    {
      "cell_type": "code",
      "execution_count": 50,
      "metadata": {
        "collapsed": true,
        "id": "C2RqK1qvmU0k"
      },
      "outputs": [],
      "source": [
        "# TODO 6\n",
        "for layer in model.layers:\n",
        "  layer.trainable=False"
      ]
    },
    {
      "cell_type": "markdown",
      "metadata": {
        "id": "LX3Wz1w-mU0k"
      },
      "source": [
        "Now, add the following layers to `model`:\n",
        "* A `Flatten()` layer which reshapes the outputs to a single channel.\n",
        "* A fully-connected layer with 256 output units and `relu` activation\n",
        "* A `Dropout(0.5)` layer.\n",
        "* A final fully-connected layer.  Since this is a binary classification, there should be one output and `sigmoid` activation."
      ]
    },
    {
      "cell_type": "code",
      "execution_count": 51,
      "metadata": {
        "collapsed": true,
        "id": "acE57i4EmU0k"
      },
      "outputs": [],
      "source": [
        "# TODO 7\n",
        "# model.add(...)\n",
        "# model.add(...)\n",
        "# ....\n",
        "\n",
        "model.add(Flatten())\n",
        "model.add(Dense(256, activation = 'relu'))\n",
        "model.add(Dropout(0.5))\n",
        "model.add(Dense(1, activation = 'sigmoid'))"
      ]
    },
    {
      "cell_type": "markdown",
      "metadata": {
        "id": "MyqQcBFVmU0k"
      },
      "source": [
        "Print the model summary.  This will display the number of trainable parameters vs. the non-trainable parameters."
      ]
    },
    {
      "cell_type": "code",
      "execution_count": 52,
      "metadata": {
        "collapsed": true,
        "id": "QXSdNVtvmU0k",
        "colab": {
          "base_uri": "https://localhost:8080/"
        },
        "outputId": "e3b185a9-75d3-4ac4-b65f-d97433a4a80f"
      },
      "outputs": [
        {
          "output_type": "stream",
          "name": "stdout",
          "text": [
            "Model: \"sequential\"\n",
            "_________________________________________________________________\n",
            " Layer (type)                Output Shape              Param #   \n",
            "=================================================================\n",
            " block1_conv1 (Conv2D)       (None, 150, 150, 64)      1792      \n",
            "                                                                 \n",
            " block1_conv2 (Conv2D)       (None, 150, 150, 64)      36928     \n",
            "                                                                 \n",
            " block1_pool (MaxPooling2D)  (None, 75, 75, 64)        0         \n",
            "                                                                 \n",
            " block2_conv1 (Conv2D)       (None, 75, 75, 128)       73856     \n",
            "                                                                 \n",
            " block2_conv2 (Conv2D)       (None, 75, 75, 128)       147584    \n",
            "                                                                 \n",
            " block2_pool (MaxPooling2D)  (None, 37, 37, 128)       0         \n",
            "                                                                 \n",
            " block3_conv1 (Conv2D)       (None, 37, 37, 256)       295168    \n",
            "                                                                 \n",
            " block3_conv2 (Conv2D)       (None, 37, 37, 256)       590080    \n",
            "                                                                 \n",
            " block3_conv3 (Conv2D)       (None, 37, 37, 256)       590080    \n",
            "                                                                 \n",
            " block3_pool (MaxPooling2D)  (None, 18, 18, 256)       0         \n",
            "                                                                 \n",
            " block4_conv1 (Conv2D)       (None, 18, 18, 512)       1180160   \n",
            "                                                                 \n",
            " block4_conv2 (Conv2D)       (None, 18, 18, 512)       2359808   \n",
            "                                                                 \n",
            " block4_conv3 (Conv2D)       (None, 18, 18, 512)       2359808   \n",
            "                                                                 \n",
            " block4_pool (MaxPooling2D)  (None, 9, 9, 512)         0         \n",
            "                                                                 \n",
            " block5_conv1 (Conv2D)       (None, 9, 9, 512)         2359808   \n",
            "                                                                 \n",
            " block5_conv2 (Conv2D)       (None, 9, 9, 512)         2359808   \n",
            "                                                                 \n",
            " block5_conv3 (Conv2D)       (None, 9, 9, 512)         2359808   \n",
            "                                                                 \n",
            " block5_pool (MaxPooling2D)  (None, 4, 4, 512)         0         \n",
            "                                                                 \n",
            " flatten (Flatten)           (None, 8192)              0         \n",
            "                                                                 \n",
            " dense (Dense)               (None, 256)               2097408   \n",
            "                                                                 \n",
            " dropout (Dropout)           (None, 256)               0         \n",
            "                                                                 \n",
            " dense_1 (Dense)             (None, 1)                 257       \n",
            "                                                                 \n",
            "=================================================================\n",
            "Total params: 16,812,353\n",
            "Trainable params: 2,097,665\n",
            "Non-trainable params: 14,714,688\n",
            "_________________________________________________________________\n"
          ]
        }
      ],
      "source": [
        "\n",
        "# TODO 8\n",
        "model.summary()"
      ]
    },
    {
      "cell_type": "markdown",
      "metadata": {
        "id": "HXYWkPEhmU0k"
      },
      "source": [
        "## Using Generators to Load Data\n",
        "\n",
        "Up to now, the training data has been represented in a large matrix.  This is not possible for image data when the datasets are very large.  For these applications, the `keras` package provides a `ImageDataGenerator` class that can fetch images on the fly from a directory of images.  Using multi-threading, training can be performed on one mini-batch while the image reader can read files for the next mini-batch. The code below creates an `ImageDataGenerator` for the training data.  In addition to the reading the files, the `ImageDataGenerator` creates random deformations of the image to expand the total dataset size.  When the training data is limited, using data augmentation is very important."
      ]
    },
    {
      "cell_type": "code",
      "execution_count": 53,
      "metadata": {
        "id": "EcRT3gY8mU0l",
        "outputId": "de4a4ba4-b975-4e10-a96d-6af03724575e",
        "colab": {
          "base_uri": "https://localhost:8080/"
        }
      },
      "outputs": [
        {
          "output_type": "stream",
          "name": "stdout",
          "text": [
            "Found 2000 images belonging to 2 classes.\n"
          ]
        }
      ],
      "source": [
        "train_data_dir = './train'\n",
        "batch_size = 32\n",
        "train_datagen = ImageDataGenerator(rescale=1./255,\n",
        "                                   shear_range=0.2,\n",
        "                                   zoom_range=0.2,\n",
        "                                   horizontal_flip=True)\n",
        "train_generator = train_datagen.flow_from_directory(\n",
        "                        train_data_dir,\n",
        "                        target_size=(nrow,ncol),\n",
        "                        batch_size=batch_size,\n",
        "                        class_mode='binary')"
      ]
    },
    {
      "cell_type": "markdown",
      "metadata": {
        "id": "_rK7qHTDmU0l"
      },
      "source": [
        "Now, create a similar `test_generator` for the test data."
      ]
    },
    {
      "cell_type": "code",
      "execution_count": 54,
      "metadata": {
        "collapsed": true,
        "id": "K_nQ1O3hmU0m",
        "colab": {
          "base_uri": "https://localhost:8080/"
        },
        "outputId": "4d961ff6-4e47-43da-ec27-caea1e7de256"
      },
      "outputs": [
        {
          "output_type": "stream",
          "name": "stdout",
          "text": [
            "Found 600 images belonging to 2 classes.\n"
          ]
        }
      ],
      "source": [
        "# TODO 9\n",
        "# test_generator = ...\n",
        "\n",
        "test_data_dir = './test'\n",
        "batch_size = 32\n",
        "test_datagen = ImageDataGenerator(rescale=1./255,shear_range=0.2,zoom_range=0.2,horizontal_flip=True)\n",
        "test_generator = train_datagen.flow_from_directory(test_data_dir,target_size=(nrow,ncol),batch_size=batch_size,class_mode='binary')"
      ]
    },
    {
      "cell_type": "markdown",
      "metadata": {
        "id": "IsOtdlsbmU0m"
      },
      "source": [
        "The following function displays images that will be useful below."
      ]
    },
    {
      "cell_type": "code",
      "execution_count": 55,
      "metadata": {
        "collapsed": true,
        "id": "pxiH5dfHmU0m"
      },
      "outputs": [],
      "source": [
        "# Display the image\n",
        "def disp_image(im):\n",
        "    if (len(im.shape) == 2):\n",
        "        # Gray scale image\n",
        "        plt.imshow(im, cmap='gray')    \n",
        "    else:\n",
        "        # Color image.  \n",
        "        im1 = (im-np.min(im))/(np.max(im)-np.min(im))*255\n",
        "        im1 = im1.astype(np.uint8)\n",
        "        plt.imshow(im1)    \n",
        "        \n",
        "    # Remove axis ticks\n",
        "    plt.xticks([])\n",
        "    plt.yticks([])\n",
        "\n",
        "\n",
        "   "
      ]
    },
    {
      "cell_type": "markdown",
      "metadata": {
        "id": "7thLNlXEmU0m"
      },
      "source": [
        "To see how the `train_generator` works, use the `train_generator.next()` method to get a minibatch of data `X,y`.  Display the first 8 images in this mini-batch and label the image with the class label.  You should see that bicycles have `y=0` and cars have `y=1`."
      ]
    },
    {
      "cell_type": "code",
      "execution_count": 71,
      "metadata": {
        "collapsed": true,
        "id": "vHXdfulomU0m",
        "colab": {
          "base_uri": "https://localhost:8080/",
          "height": 155
        },
        "outputId": "44ec81db-15b9-437f-dd92-3d15fdd00d7e"
      },
      "outputs": [
        {
          "output_type": "stream",
          "name": "stdout",
          "text": [
            "<class 'numpy.ndarray'>\n",
            "<class 'numpy.ndarray'>\n",
            "<class 'numpy.ndarray'>\n",
            "<class 'numpy.float32'>\n"
          ]
        },
        {
          "output_type": "display_data",
          "data": {
            "text/plain": [
              "<Figure size 432x288 with 8 Axes>"
            ],
            "image/png": "[encoded data removed]"
          },
          "metadata": {}
        }
      ],
      "source": [
        "# TODO 10\n",
        "\n",
        "mini_batch_x,mini_batch_y = train_generator.next()\n",
        "print(type(mini_batch_x))\n",
        "print(type(mini_batch_x[0]))\n",
        "print(type(mini_batch_y))\n",
        "print(type(mini_batch_y[0]))\n",
        "\n",
        "for i in range(8):\n",
        "  plt.subplot(1,8,i+1)\n",
        "  plt.title('%d' % mini_batch_y[i])\n",
        "  disp_image(mini_batch_x[i])\n"
      ]
    },
    {
      "cell_type": "markdown",
      "metadata": {
        "id": "v8BMeG5ImU0m"
      },
      "source": [
        "## Train the Model\n",
        "\n",
        "Compile the model.  Select the correct `loss` function, `optimizer` and `metrics`.  Remember that we are performing binary classification."
      ]
    },
    {
      "cell_type": "code",
      "execution_count": 73,
      "metadata": {
        "collapsed": true,
        "id": "QdTTrYFBmU0n"
      },
      "outputs": [],
      "source": [
        "# TODO 11\n",
        "# model.compile(...)\n",
        "\n",
        "lr = 1e-4\n",
        "decay = 1e-5\n",
        "\n",
        "opt = optimizers.Adam(learning_rate=lr, decay=decay)\n",
        "\n",
        "hist = model.compile(loss='binary_crossentropy',optimizer=opt,metrics=['accuracy'])"
      ]
    },
    {
      "cell_type": "markdown",
      "metadata": {
        "id": "FCSMjc0FmU0n"
      },
      "source": [
        "When using an `ImageDataGenerator`, we have to set two parameters manually:\n",
        "* `steps_per_epoch =  training data size // batch_size`\n",
        "* `validation_steps =  test data size // batch_size`\n",
        "\n",
        "We can obtain the training and test data size from `train_generator.n` and `test_generator.n`, respectively."
      ]
    },
    {
      "cell_type": "code",
      "execution_count": 74,
      "metadata": {
        "collapsed": true,
        "id": "xMvMAbaTmU0n"
      },
      "outputs": [],
      "source": [
        "# TODO 12\n",
        "\n",
        "steps_per_epoch = train_generator.n//batch_size\n",
        "validation_steps = test_generator.n//batch_size"
      ]
    },
    {
      "cell_type": "markdown",
      "metadata": {
        "id": "TNgtaqWRmU0n"
      },
      "source": [
        "Now, we run the fit.  If you are using a CPU on a regular laptop, each epoch will take about 3-4 minutes, so you should be able to finish 5 epochs or so within 20 minutes.  On a reasonable GPU, even with the larger images, it will take about 10 seconds per epoch.\n",
        "* If you use `(nrow,ncol) = (64,64)` images, you should get around 90% accuracy after 5 epochs.\n",
        "* If you use `(nrow,ncol) = (150,150)` images, you should get around 96% accuracy after 5 epochs.  But, this will need a GPU.\n",
        "\n",
        "You will get full credit for either version.  With more epochs, you may get slightly higher, but you will have to play with the damping.\n",
        "\n",
        "Remember to record the history of the fit, so that you can plot the training and validation accuracy curve."
      ]
    },
    {
      "cell_type": "code",
      "execution_count": 75,
      "metadata": {
        "collapsed": true,
        "id": "FoE_Lp5xmU0o",
        "colab": {
          "base_uri": "https://localhost:8080/"
        },
        "outputId": "5bf3b807-ffa4-45de-fd99-f323a080c9c1"
      },
      "outputs": [
        {
          "output_type": "stream",
          "name": "stderr",
          "text": [
            "/usr/local/lib/python3.7/dist-packages/ipykernel_launcher.py:9: UserWarning: `Model.fit_generator` is deprecated and will be removed in a future version. Please use `Model.fit`, which supports generators.\n",
            "  if __name__ == '__main__':\n"
          ]
        },
        {
          "output_type": "stream",
          "name": "stdout",
          "text": [
            "Epoch 1/5\n",
            "62/62 [==============================] - 580s 9s/step - loss: 0.2595 - accuracy: 0.8892 - val_loss: 0.1083 - val_accuracy: 0.9653\n",
            "Epoch 2/5\n",
            "62/62 [==============================] - 575s 9s/step - loss: 0.0860 - accuracy: 0.9746 - val_loss: 0.0771 - val_accuracy: 0.9792\n",
            "Epoch 3/5\n",
            "62/62 [==============================] - 573s 9s/step - loss: 0.0681 - accuracy: 0.9776 - val_loss: 0.0718 - val_accuracy: 0.9705\n",
            "Epoch 4/5\n",
            "62/62 [==============================] - 573s 9s/step - loss: 0.0545 - accuracy: 0.9837 - val_loss: 0.0724 - val_accuracy: 0.9757\n",
            "Epoch 5/5\n",
            "62/62 [==============================] - 576s 9s/step - loss: 0.0502 - accuracy: 0.9807 - val_loss: 0.0712 - val_accuracy: 0.9740\n"
          ]
        }
      ],
      "source": [
        "nepochs = 5  # Number of epochs\n",
        "\n",
        "# Call the fit_generator function\n",
        "hist = model.fit_generator(\n",
        "    train_generator,\n",
        "    steps_per_epoch=steps_per_epoch,\n",
        "    epochs=nepochs,\n",
        "    validation_data=test_generator,\n",
        "    validation_steps=validation_steps)"
      ]
    },
    {
      "cell_type": "code",
      "execution_count": 84,
      "metadata": {
        "collapsed": true,
        "id": "MdFnTIuJmU0o",
        "colab": {
          "base_uri": "https://localhost:8080/",
          "height": 282
        },
        "outputId": "3005545c-1866-4894-efc4-83d500fe9b6d"
      },
      "outputs": [
        {
          "output_type": "execute_result",
          "data": {
            "text/plain": [
              "<matplotlib.legend.Legend at 0x7f7b85c86f90>"
            ]
          },
          "metadata": {},
          "execution_count": 84
        },
        {
          "output_type": "display_data",
          "data": {
            "text/plain": [
              "<Figure size 432x288 with 1 Axes>"
            ],
            "image/png": "[encoded data removed]"
          },
          "metadata": {
            "needs_background": "light"
          }
        }
      ],
      "source": [
        "# Plot the training accuracy and validation accuracy curves on the same figure.\n",
        "\n",
        "# TODO 13\n",
        "\n",
        "Accuracy = hist.history['accuracy']\n",
        "ValidationAccuracy = hist.history['val_accuracy']\n",
        "plt.plot(Accuracy, '-', linewidth=3)\n",
        "plt.plot(ValidationAccuracy, '-', linewidth=3)\n",
        "plt.legend(['Accuracy', 'ValidationAccuracy'])"
      ]
    },
    {
      "cell_type": "markdown",
      "metadata": {
        "id": "q1K5akpNmU0o"
      },
      "source": [
        "## Plotting the Error Images\n",
        "\n",
        "Now try to plot some images that were in error:\n",
        "\n",
        "*  Generate a mini-batch `Xts,yts` from the `test_generator.next()` method\n",
        "*  Get the class probabilities using the `model.predict( )` method and compute predicted labels `yhat`.\n",
        "*  Get the images where `yts[i] ~= yhat[i]`.\n",
        "*  If you did not get any prediction error in one minibatch, run it multiple times.\n",
        "*  After you a get a few error images (say 4-8), plot the error images with the true labels and class probabilities predicted by the classifie"
      ]
    },
    {
      "cell_type": "code",
      "execution_count": 93,
      "metadata": {
        "collapsed": true,
        "id": "IRc0LJlkmU0o",
        "colab": {
          "base_uri": "https://localhost:8080/",
          "height": 121
        },
        "outputId": "d221d99f-7f14-4236-99ab-37169d63acd2"
      },
      "outputs": [
        {
          "output_type": "stream",
          "name": "stdout",
          "text": [
            "1/1 [==============================] - 7s 7s/step\n",
            "(2, 150, 150, 3)\n"
          ]
        },
        {
          "output_type": "display_data",
          "data": {
            "text/plain": [
              "<Figure size 432x288 with 2 Axes>"
            ],
            "image/png": "[encoded data removed]"
          },
          "metadata": {}
        }
      ],
      "source": [
        "# TODO 14\n",
        "\n",
        "Xts,yts = test_generator.next()\n",
        "y_hat=model.predict(Xts)\n",
        "\n",
        "\n",
        "error = (np.abs(y_hat - yts[:,None])>0.1).flatten()\n",
        "ErrorPctures = Xts[error]\n",
        "ErrorPrediction = y_hat[error]\n",
        "print(ErrorPctures.shape)\n",
        "for i in range(ErrorPctures.shape[0]):\n",
        "\n",
        "  plt.subplot(1,8,i+1)\n",
        "  plt.title('%d' % ErrorPrediction[i])\n",
        "  disp_image(ErrorPctures[i])\n",
        "\n",
        "\n",
        "\n"
      ]
    },
    {
      "cell_type": "code",
      "execution_count": null,
      "metadata": {
        "collapsed": true,
        "id": "cByGuq7GmU0o"
      },
      "outputs": [],
      "source": []
    }
  ],
  "metadata": {
    "kernelspec": {
      "display_name": "Python 3",
      "language": "python",
      "name": "python3"
    },
    "language_info": {
      "codemirror_mode": {
        "name": "ipython",
        "version": 3
      },
      "file_extension": ".py",
      "mimetype": "text/x-python",
      "name": "python",
      "nbconvert_exporter": "python",
      "pygments_lexer": "ipython3",
      "version": "3.8.5"
    },
    "colab": {
      "provenance": []
    }
  },
  "nbformat": 4,
  "nbformat_minor": 0
}
