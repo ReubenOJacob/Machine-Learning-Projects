{
  "cells": [
    {
      "cell_type": "markdown",
      "metadata": {
        "id": "VW5wG94PqV1_"
      },
      "source": [
        "# Lab:  Nonlinear Least Squares for Modeling Materials\n",
        "\n",
        "Nonlinear least squares (NLLS) is a widely-used method for modeling data.  In NLLS, we wish to fit a model of the form,\n",
        "\n",
        "     yhat = g(x,w)\n",
        "     \n",
        "where `w` is a vector of paramters and `x` is the vector of predictors.  We find `w` by minimizing a least-squares function \n",
        "\n",
        "     f(w) = \\sum_i (y_i - g(x_i,w))^2\n",
        "     \n",
        "where the summation is over training samples `(x_i,y_i)`.  This is similar to linear least-squares, but the function `g(x,w)` may not be linear in `w`.  In general, this optimization has no closed-form expression.  So numerical optimization must be used.  \n",
        "\n",
        "In this lab, we will implement gradient descent on NLLS in a problem of physical modeling of materials.  Specifically, we will estimate parameters for expansion of copper as a function of temperature using a real dataset.  In doing this lab, you will learn to:\n",
        "* Set up a nonlinear least squares as an unconstrained optimization function\n",
        "* Compute initial parameter estimates for a simple rational model\n",
        "* Compute the gradients of the least squares objective\n",
        "* Implement gradient descent for minimizing the objective\n",
        "* Implement momentum gradient descent\n",
        "* Visualize the convergence of the algorithm\n",
        "\n",
        "We first import some key packages."
      ]
    },
    {
      "cell_type": "code",
      "execution_count": 1,
      "metadata": {
        "id": "oG09o0W0qV2B"
      },
      "outputs": [],
      "source": [
        "import pandas as pd\n",
        "import numpy as np\n",
        "import matplotlib.pyplot as plt\n",
        "from sklearn.linear_model import Ridge, LinearRegression"
      ]
    },
    {
      "cell_type": "markdown",
      "metadata": {
        "id": "NfwEikQlqV2C"
      },
      "source": [
        "## Load the Data\n",
        "\n",
        "The NIST agency has an excellent [nonlinear regression website](https://www.itl.nist.gov/div898/strd/nls/nls_main.shtml) that has several datasets for nonlinear regression problems.  In this lab, we will use the data from a NIST study involving the thermal expansion of copper. The response variable is the coefficient of thermal expansion, and the predictor variable is temperature in degrees kelvin.  \n",
        "\n",
        "> Hahn, T., NIST (1979), Copper Thermal Expansion Study.  (unpublished}\n",
        "\n",
        "You can download the data as follows."
      ]
    },
    {
      "cell_type": "code",
      "execution_count": 6,
      "metadata": {
        "id": "1oUkd8FMqV2C",
        "outputId": "f79d916a-61cf-4157-8054-37f9cf4f23e3",
        "colab": {
          "base_uri": "https://localhost:8080/",
          "height": 206
        }
      },
      "outputs": [
        {
          "output_type": "execute_result",
          "data": {
            "text/plain": [
              "      y0     x0  dummy\n",
              "0  0.591  24.41    NaN\n",
              "1  1.547  34.82    NaN\n",
              "2  2.902  44.09    NaN\n",
              "3  2.894  45.07    NaN\n",
              "4  4.703  54.98    NaN"
            ],
            "text/html": [
              "\n",
              "  <div id=\"df-4f9b6fc4-6378-48cd-b755-18240a9003e9\">\n",
              "    <div class=\"colab-df-container\">\n",
              "      <div>\n",
              "<style scoped>\n",
              "    .dataframe tbody tr th:only-of-type {\n",
              "        vertical-align: middle;\n",
              "    }\n",
              "\n",
              "    .dataframe tbody tr th {\n",
              "        vertical-align: top;\n",
              "    }\n",
              "\n",
              "    .dataframe thead th {\n",
              "        text-align: right;\n",
              "    }\n",
              "</style>\n",
              "<table border=\"1\" class=\"dataframe\">\n",
              "  <thead>\n",
              "    <tr style=\"text-align: right;\">\n",
              "      <th></th>\n",
              "      <th>y0</th>\n",
              "      <th>x0</th>\n",
              "      <th>dummy</th>\n",
              "    </tr>\n",
              "  </thead>\n",
              "  <tbody>\n",
              "    <tr>\n",
              "      <th>0</th>\n",
              "      <td>0.591</td>\n",
              "      <td>24.41</td>\n",
              "      <td>NaN</td>\n",
              "    </tr>\n",
              "    <tr>\n",
              "      <th>1</th>\n",
              "      <td>1.547</td>\n",
              "      <td>34.82</td>\n",
              "      <td>NaN</td>\n",
              "    </tr>\n",
              "    <tr>\n",
              "      <th>2</th>\n",
              "      <td>2.902</td>\n",
              "      <td>44.09</td>\n",
              "      <td>NaN</td>\n",
              "    </tr>\n",
              "    <tr>\n",
              "      <th>3</th>\n",
              "      <td>2.894</td>\n",
              "      <td>45.07</td>\n",
              "      <td>NaN</td>\n",
              "    </tr>\n",
              "    <tr>\n",
              "      <th>4</th>\n",
              "      <td>4.703</td>\n",
              "      <td>54.98</td>\n",
              "      <td>NaN</td>\n",
              "    </tr>\n",
              "  </tbody>\n",
              "</table>\n",
              "</div>\n",
              "      <button class=\"colab-df-convert\" onclick=\"convertToInteractive('df-4f9b6fc4-6378-48cd-b755-18240a9003e9')\"\n",
              "              title=\"Convert this dataframe to an interactive table.\"\n",
              "              style=\"display:none;\">\n",
              "        \n",
              "  <svg xmlns=\"http://www.w3.org/2000/svg\" height=\"24px\"viewBox=\"0 0 24 24\"\n",
              "       width=\"24px\">\n",
              "    <path d=\"M0 0h24v24H0V0z\" fill=\"none\"/>\n",
              "    <path d=\"M18.56 5.44l.94 2.06.94-2.06 2.06-.94-2.06-.94-.94-2.06-.94 2.06-2.06.94zm-11 1L8.5 8.5l.94-2.06 2.06-.94-2.06-.94L8.5 2.5l-.94 2.06-2.06.94zm10 10l.94 2.06.94-2.06 2.06-.94-2.06-.94-.94-2.06-.94 2.06-2.06.94z\"/><path d=\"M17.41 7.96l-1.37-1.37c-.4-.4-.92-.59-1.43-.59-.52 0-1.04.2-1.43.59L10.3 9.45l-7.72 7.72c-.78.78-.78 2.05 0 2.83L4 21.41c.39.39.9.59 1.41.59.51 0 1.02-.2 1.41-.59l7.78-7.78 2.81-2.81c.8-.78.8-2.07 0-2.86zM5.41 20L4 18.59l7.72-7.72 1.47 1.35L5.41 20z\"/>\n",
              "  </svg>\n",
              "      </button>\n",
              "      \n",
              "  <style>\n",
              "    .colab-df-container {\n",
              "      display:flex;\n",
              "      flex-wrap:wrap;\n",
              "      gap: 12px;\n",
              "    }\n",
              "\n",
              "    .colab-df-convert {\n",
              "      background-color: #E8F0FE;\n",
              "      border: none;\n",
              "      border-radius: 50%;\n",
              "      cursor: pointer;\n",
              "      display: none;\n",
              "      fill: #1967D2;\n",
              "      height: 32px;\n",
              "      padding: 0 0 0 0;\n",
              "      width: 32px;\n",
              "    }\n",
              "\n",
              "    .colab-df-convert:hover {\n",
              "      background-color: #E2EBFA;\n",
              "      box-shadow: 0px 1px 2px rgba(60, 64, 67, 0.3), 0px 1px 3px 1px rgba(60, 64, 67, 0.15);\n",
              "      fill: #174EA6;\n",
              "    }\n",
              "\n",
              "    [theme=dark] .colab-df-convert {\n",
              "      background-color: #3B4455;\n",
              "      fill: #D2E3FC;\n",
              "    }\n",
              "\n",
              "    [theme=dark] .colab-df-convert:hover {\n",
              "      background-color: #434B5C;\n",
              "      box-shadow: 0px 1px 3px 1px rgba(0, 0, 0, 0.15);\n",
              "      filter: drop-shadow(0px 1px 2px rgba(0, 0, 0, 0.3));\n",
              "      fill: #FFFFFF;\n",
              "    }\n",
              "  </style>\n",
              "\n",
              "      <script>\n",
              "        const buttonEl =\n",
              "          document.querySelector('#df-4f9b6fc4-6378-48cd-b755-18240a9003e9 button.colab-df-convert');\n",
              "        buttonEl.style.display =\n",
              "          google.colab.kernel.accessAllowed ? 'block' : 'none';\n",
              "\n",
              "        async function convertToInteractive(key) {\n",
              "          const element = document.querySelector('#df-4f9b6fc4-6378-48cd-b755-18240a9003e9');\n",
              "          const dataTable =\n",
              "            await google.colab.kernel.invokeFunction('convertToInteractive',\n",
              "                                                     [key], {});\n",
              "          if (!dataTable) return;\n",
              "\n",
              "          const docLinkHtml = 'Like what you see? Visit the ' +\n",
              "            '<a target=\"_blank\" href=https://colab.research.google.com/notebooks/data_table.ipynb>data table notebook</a>'\n",
              "            + ' to learn more about interactive tables.';\n",
              "          element.innerHTML = '';\n",
              "          dataTable['output_type'] = 'display_data';\n",
              "          await google.colab.output.renderOutput(dataTable, element);\n",
              "          const docLink = document.createElement('div');\n",
              "          docLink.innerHTML = docLinkHtml;\n",
              "          element.appendChild(docLink);\n",
              "        }\n",
              "      </script>\n",
              "    </div>\n",
              "  </div>\n",
              "  "
            ]
          },
          "metadata": {},
          "execution_count": 6
        }
      ],
      "source": [
        "url = 'https://itl.nist.gov/div898/strd/nls/data/LINKS/DATA/Hahn1.dat'\n",
        "df = pd.read_csv(url, skiprows=60, sep=' ',skipinitialspace=True, names=['y0','x0','dummy'])\n",
        "df.head()"
      ]
    },
    {
      "cell_type": "markdown",
      "metadata": {
        "id": "KFOWM8mQqV2D"
      },
      "source": [
        "Extract the `x0` and `y0` into arrays.  Rescale, `x0` and `y0` to values between `0` and `1` by dividing `x0` and `y0` by the maximum value.  Store the scaled values in vectors `x` and `y`.  The rescaling will help with the conditioning of the fitting.  Plot, `y` vs. `x`. "
      ]
    },
    {
      "cell_type": "code",
      "execution_count": 55,
      "metadata": {
        "id": "QocAYY8wqV2D",
        "colab": {
          "base_uri": "https://localhost:8080/",
          "height": 265
        },
        "outputId": "a04c3721-496f-4565-fd71-71615a4186f2"
      },
      "outputs": [
        {
          "output_type": "display_data",
          "data": {
            "text/plain": [
              "<Figure size 432x288 with 1 Axes>"
            ],
            "image/png": "[encoded data removed]"
          },
          "metadata": {
            "needs_background": "light"
          }
        }
      ],
      "source": [
        "# TODO 1\n",
        "# x0 = ...\n",
        "# y0 = ...\n",
        "# x = x0/np.max(x0)\n",
        "# y = y0/np.max(y0)\n",
        "# plt.plot(...)\n",
        "\n",
        "x0 = np.array(df['x0'])\n",
        "y0 = np.array(df['y0'])\n",
        "x = x0/np.max(x0)\n",
        "y = y0/np.max(y0)\n",
        "plt.plot(x,y,'o')\n",
        "plt.grid()\n"
      ]
    },
    {
      "cell_type": "markdown",
      "metadata": {
        "id": "cs1yGM9dqV2E"
      },
      "source": [
        "To make the problem a little more challenging, we will add some noise.  Add random Gaussian noise with mean 0 and std. dev = 0.02 to `y`.  Store the noisy results in `yn`. You can use the `np.random.normal()` function to add Gaussian noise. Plot `yn` vs. `x`."
      ]
    },
    {
      "cell_type": "code",
      "execution_count": 57,
      "metadata": {
        "id": "PtHWX8b5qV2E",
        "colab": {
          "base_uri": "https://localhost:8080/",
          "height": 265
        },
        "outputId": "3d67ca81-5134-437a-d56c-ae39c1c96baf"
      },
      "outputs": [
        {
          "output_type": "display_data",
          "data": {
            "text/plain": [
              "<Figure size 432x288 with 1 Axes>"
            ],
            "image/png": "[encoded data removed]"
          },
          "metadata": {
            "needs_background": "light"
          }
        }
      ],
      "source": [
        "# TODO 2\n",
        "# yn = y + ...\n",
        "\n",
        "Len = len(y0)\n",
        "yn = y + np.random.normal(0,0.02,Len)\n",
        "plt.plot(x,y,'o')\n",
        "plt.plot(x,yn,'o')\n",
        "plt.grid()"
      ]
    },
    {
      "cell_type": "markdown",
      "metadata": {
        "id": "GOgYazSVqV2E"
      },
      "source": [
        "Split the data `(x,yn)` into training and test.  Let `xtr,ytr` be training data and `xts,yts` be the test data.  You can use the `train_test_split` function.  Set `test_size=0.33` so that 1/3 of the samples are held out for test."
      ]
    },
    {
      "cell_type": "code",
      "execution_count": 58,
      "metadata": {
        "id": "JS_zTkfhqV2F"
      },
      "outputs": [],
      "source": [
        "from sklearn.model_selection import train_test_split\n",
        "\n",
        "# TODO 3\n",
        "# xtr, xts, ytr, yts = ...\n",
        "\n",
        "xtr, xts, ytr, yts = train_test_split(x,yn,test_size=0.33,shuffle=True)\n"
      ]
    },
    {
      "cell_type": "markdown",
      "metadata": {
        "id": "xNupsW2IqV2F"
      },
      "source": [
        "## Initial Fit for a Rational Model\n",
        "\n",
        "The [NIST website](https://www.itl.nist.gov/div898/strd/nls/data/hahn1.shtml) suggests using a *rational* model of the form,\n",
        "\n",
        "      yhat = (a[0] + a[1]*x + ... + a[d]*x^d)/(1 + b[0]*x + ... + b[d-1]*x^d)\n",
        "      \n",
        "with `d=3`.  The model parameters are `w = [a[0],...,a[d],b[0],...,b[d-1]]` so there are `2d+1` parameters total.    Complete the function below that takes vectors `w` and `x` and predicts a set of values `yhat` using the above model.\n",
        "   "
      ]
    },
    {
      "cell_type": "code",
      "execution_count": 59,
      "metadata": {
        "id": "GeJNL0cdqV2F"
      },
      "outputs": [],
      "source": [
        "\n",
        "\n",
        "def predict(w,x):\n",
        "    \n",
        "    # Get the length\n",
        "    d = (len(w)-1)//2\n",
        "    \n",
        "    # TODO 4.  Extract a and b from w\n",
        "    # a = ...\n",
        "    # b = ...\n",
        "\n",
        "    a = w[:d+1]\n",
        "    b = w[d+1:]\n",
        "    \n",
        "    # TODO 5.  Compute yhat.  You may use the np.polyval function\n",
        "    # But, remember you must flip the order the a and b\n",
        "    # yhat = ....\n",
        "    reversea = a[::-1]\n",
        "    reverseb = b[::-1]\n",
        "\n",
        "    numerator = np.polyval(reversea,x)\n",
        "    denominator = 1+x*np.polyval(reverseb,x)\n",
        "    yhat = numerator/denominator\n",
        "    return yhat"
      ]
    },
    {
      "cell_type": "markdown",
      "metadata": {
        "id": "C2L6N2fWqV2G"
      },
      "source": [
        "When we fit with a nonlinear model, most methods only get convergence to a local minima.  So, you need a good initial condition.  For a rational model, one way to get is to realize that if:\n",
        "\n",
        "\n",
        "    y ~= (a[0] + a[1]*x + ... + a[d]*x^d)/(1 + b[0]*x + ... + b[d-1]*x^d)\n",
        "    \n",
        "Then:\n",
        "\n",
        "    y ~= a[0] + a[1]*x + ... + a[d]*x^d - b[0]*x*y + ... - b[d-1]*x^d*y.\n",
        "    \n",
        "So, we can solve for the the parameters `w = [a,b]` from linear regression of the predictors,\n",
        "\n",
        "    Z[i,:] = [ x[i], ... , x[i]**d, y[i]*x[i], ... , y[i}*x[i]**d ] "
      ]
    },
    {
      "cell_type": "code",
      "execution_count": 66,
      "metadata": {
        "id": "lOqNxXIZqV2G"
      },
      "outputs": [],
      "source": [
        "d = 3\n",
        "\n",
        "# TODO 6.  Create the transformed feature matrix\n",
        "# Z = ...\n",
        "p = np.arange(1,d+1)\n",
        "NumeratorZ = xtr[:,None]**p[None,:]\n",
        "DenominatorZ = -ytr[:,None]*NumeratorZ\n",
        "ZFinal = np.hstack((NumeratorZ, DenominatorZ))\n",
        "\n",
        "# TODO 7.  Fit with parameters with linear regression\n",
        "# regr = LinearRegression()\n",
        "# regr.fit(...)\n",
        "regr = LinearRegression()\n",
        "regr.fit(ZFinal,ytr)\n",
        "\n",
        "# TODO 8\n",
        "# Extract the parameters from regr.coef_ and regr.intercept_ and store the parameter vector in winit\n",
        "# winit = ...\n",
        "\n",
        "rc = regr.coef_\n",
        "ri = regr.intercept_\n",
        "winit = np.hstack((ri,rc))"
      ]
    },
    {
      "cell_type": "markdown",
      "metadata": {
        "id": "BofFb04tqV2G"
      },
      "source": [
        "Now plot the predicted values of the `yhat` vs. `x` using your estimated parameter `winit` for 1000 values `x` in `[0,1]`.  On the same plot, plot `yts` vs. `xts`.  You will see that you get a horrible fit."
      ]
    },
    {
      "cell_type": "code",
      "execution_count": 65,
      "metadata": {
        "id": "ar6Wxw-MqV2G",
        "colab": {
          "base_uri": "https://localhost:8080/",
          "height": 283
        },
        "outputId": "80f52d0e-1593-4d72-e8a9-8aa03c8b3188"
      },
      "outputs": [
        {
          "output_type": "execute_result",
          "data": {
            "text/plain": [
              "[<matplotlib.lines.Line2D at 0x7f5b8ff82a90>]"
            ]
          },
          "metadata": {},
          "execution_count": 65
        },
        {
          "output_type": "display_data",
          "data": {
            "text/plain": [
              "<Figure size 432x288 with 1 Axes>"
            ],
            "image/png": "[encoded data removed]"
          },
          "metadata": {
            "needs_background": "light"
          }
        }
      ],
      "source": [
        "# TODO 9\n",
        "# xp = ...\n",
        "# yhat = ...\n",
        "# plot(...)\n",
        "\n",
        "\n",
        "xp = np.linspace(0,1,1000)\n",
        "yhat = predict(winit,xp)\n",
        "plt.plot(xp,yhat)\n",
        "plt.plot(xts, yts, 'o')"
      ]
    },
    {
      "cell_type": "markdown",
      "metadata": {
        "id": "vlKHAj5GqV2G"
      },
      "source": [
        "The reason the previous fit is poor is that the denominator in `yhat` goes close to zero.   To avoid this problem, we can use Ridge regression, to try to keep the parameters close to zero.  Re-run the fit above with `Ridge` with `alpha = 1e-3`. You should see you get a reasonable, but not perfect fit."
      ]
    },
    {
      "cell_type": "code",
      "execution_count": 67,
      "metadata": {
        "id": "lzNb3-TtqV2H",
        "colab": {
          "base_uri": "https://localhost:8080/",
          "height": 283
        },
        "outputId": "c5e3d085-df23-4c07-b626-34473a064e9c"
      },
      "outputs": [
        {
          "output_type": "execute_result",
          "data": {
            "text/plain": [
              "[<matplotlib.lines.Line2D at 0x7f5b8f7a7710>]"
            ]
          },
          "metadata": {},
          "execution_count": 67
        },
        {
          "output_type": "display_data",
          "data": {
            "text/plain": [
              "<Figure size 432x288 with 1 Axes>"
            ],
            "image/png": "[encoded data removed]"
          },
          "metadata": {
            "needs_background": "light"
          }
        }
      ],
      "source": [
        "# TODO 10.  Fit with parameters with linear regression\n",
        "# regr = Ridge(alpha=1e-3)\n",
        "# regr.fit(...)\n",
        "\n",
        "regr = Ridge(alpha=1e-3)\n",
        "regr.fit(ZFinal,ytr)\n",
        "\n",
        "# TODO 11\n",
        "# Extract the parameters from regr.coef_ and regr.intercept_\n",
        "# winit = ...\n",
        "rc = regr.coef_\n",
        "ri = regr.intercept_\n",
        "winit = np.hstack((ri,rc))\n",
        "\n",
        "# TODO 12\n",
        "# Plot the results as above.\n",
        "\n",
        "xp = np.linspace(0,1,1000)\n",
        "yhat = predict(winit,xp)\n",
        "plt.plot(xp,yhat)\n",
        "plt.plot(xts, yts, '*')"
      ]
    },
    {
      "cell_type": "markdown",
      "metadata": {
        "id": "Q8l8c-TmqV2H"
      },
      "source": [
        "## Creating a Loss Function\n",
        "\n",
        "We can now use gradient descent to improve our initial estimate.  Complete the following function to compute\n",
        "\n",
        "    f(w) = 0.5*\\sum_i (y[i] - yhat[i])^2\n",
        "    \n",
        "and `fgrad`, the gradient of `f(w)`."
      ]
    },
    {
      "cell_type": "code",
      "execution_count": 87,
      "metadata": {
        "id": "nGLpIhkBqV2H"
      },
      "outputs": [],
      "source": [
        "def feval(w,x,y):\n",
        "        \n",
        "    \n",
        "    # TODO 13.  Parse w\n",
        "    # a = ...\n",
        "    # b = ...\n",
        "    D = (len(w)-1)//2\n",
        "    a = w[:D+1]\n",
        "    b = w[D+1:]\n",
        "    \n",
        "    # TODO 14.  Znum[i,j] = x[i]**j\n",
        "    Znum=np.zeros((x.shape[0],4))\n",
        "    for i in range(0,x.shape[0]):\n",
        "      for j in range(0,4):\n",
        "        Znum[i,j] = x[i]**j\n",
        "\n",
        "      \n",
        "    # TODO 15.  Zden[i,j] = x[i]**(j+1)\n",
        "    Zden=np.zeros((x.shape[0],3))\n",
        "    for i in range(0,x.shape[0]):\n",
        "        for j in range(0,3):\n",
        "          Zden[i,j] = x[i]**(j+1)\n",
        "    \n",
        "    # TODO 16.  Compute yhat \n",
        "    # Compute the numerator and denominator\n",
        "    \n",
        "    RNumerator = Znum.dot(a)\n",
        "    RDenominator = Zden.dot(b)\n",
        "    yhat = RNumerator/(1+RDenominator)\n",
        "\n",
        "    \n",
        "    # TODO 17.  Compute loss\n",
        "    # f = ...\n",
        "    \n",
        "    f = 0.5*np.sum((yhat-y)**2)\n",
        "    \n",
        "    # TODO 18.  Compute gradients\n",
        "    # fgrad = ...\n",
        "    diff= yhat-y\n",
        "    EDenominator = diff/(1+RDenominator)\n",
        "    dJda = EDenominator.dot(Znum)\n",
        "    ENumerator = -diff*yhat/(1+RDenominator)\n",
        "    dJdb = ENumerator.dot(Zden)\n",
        "    fgrad = np.hstack((dJda, dJdb))\n",
        "    \n",
        "    return f, fgrad\n"
      ]
    },
    {
      "cell_type": "markdown",
      "metadata": {
        "id": "jsjyBVRVqV2H"
      },
      "source": [
        "Test the gradient function:\n",
        "* Take `w0=winit` and compute `f0,fgrad0 = feval(w0,xtr,ytr)`\n",
        "* Take `w1` very close to `w0` and compute `f1,fgrad1 = feval(w1,xtr,ytr)`\n",
        "* Verify that `f1-f0` is close to the predicted value based on the gradient."
      ]
    },
    {
      "cell_type": "code",
      "execution_count": 188,
      "metadata": {
        "id": "6U4_bQPyqV2H",
        "colab": {
          "base_uri": "https://localhost:8080/"
        },
        "outputId": "b97d1645-d45f-40fd-de14-10d411e5c45d"
      },
      "outputs": [
        {
          "output_type": "stream",
          "name": "stdout",
          "text": [
            "[6.089365747752318e-08, 6.0419421069661e-08]\n"
          ]
        }
      ],
      "source": [
        "# TODO 19\n",
        "w0=winit\n",
        "step = 1e-6\n",
        "\n",
        "\n",
        "length = len(winit)\n",
        "w1 = w0 + np.random.normal(0,1,length)*step\n",
        "\n",
        "\n",
        "\n",
        "f0, fgrad0 = feval(w0,xtr,ytr)\n",
        "f1, fgrad1 = feval(w1,xtr,ytr)\n",
        "f1_f0 = fgrad0.dot(w1-w0)\n",
        "\n",
        "print([f1-f0, f1_f0])\n",
        "\n"
      ]
    },
    {
      "cell_type": "markdown",
      "metadata": {
        "id": "E9XT5I_AqV2H"
      },
      "source": [
        "## Implement gradient descent\n",
        "\n",
        "We will now try to minimize the loss function with gradient descent.  Using the function `feval` defined above, implement gradient descent.  Run gradient descent with a step size of `alpha=1e-6` starting at `w=winit`.  Run it for `nit=10000` iterations.  Compute `fgd[it]`= the objective function on iteration `it`.  Plot `fgd[it]` vs. `it`.  \n",
        "\n",
        "You should see that the training loss decreases, but it still hasn't converged after 10000 iterations."
      ]
    },
    {
      "cell_type": "code",
      "execution_count": 208,
      "metadata": {
        "id": "f79t3KF8qV2H",
        "colab": {
          "base_uri": "https://localhost:8080/",
          "height": 279
        },
        "outputId": "39a63a65-90ba-453d-ece5-55b344bc3092"
      },
      "outputs": [
        {
          "output_type": "display_data",
          "data": {
            "text/plain": [
              "<Figure size 432x288 with 1 Axes>"
            ],
            "image/png": "[encoded data removed]"
          },
          "metadata": {
            "needs_background": "light"
          }
        }
      ],
      "source": [
        "# TODO 20\n",
        "# fgd = ...\n",
        "nit = 10000\n",
        "step = 1e-6\n",
        "\n",
        "\n",
        "\n",
        "fgd=np.zeros(nit)\n",
        "fgrads=np.zeros((nit,7))\n",
        "w0=winit\n",
        "for it in range(nit):\n",
        "  \n",
        "  f0, fgrad0 = feval(w0,x,y)\n",
        "  \n",
        "   \n",
        "  w0 = w0 - step*fgrad0\n",
        "  fgd[it]=f0\n",
        "  fgrads[it,:]=fgrad0\n",
        "  \n",
        "plt.plot(fgd)\n",
        "plt.xlabel('Iteration')\n",
        "plt.ylabel('Training loss')\n",
        "plt.grid()\n",
        "plt.show()\n",
        "\n",
        "\n",
        "\n",
        "\n",
        "\n"
      ]
    },
    {
      "cell_type": "markdown",
      "metadata": {
        "id": "jtKzUjtRqV2H"
      },
      "source": [
        "Now, try to get a faster convergence with adaptive step-size using the Armijo rule. Implement the gradient descent with adaptive step size.  Let `fadapt[it]` be the loss function on iteration `it`.  Plot `fadapt[it]` and `fgd[it]` vs. `it` on the same graph.  You should see a slight improvement, but not much."
      ]
    },
    {
      "cell_type": "code",
      "execution_count": 217,
      "metadata": {
        "scrolled": true,
        "id": "d1GfLsY5qV2I",
        "colab": {
          "base_uri": "https://localhost:8080/",
          "height": 269
        },
        "outputId": "24e54699-322d-4578-ad90-aefa3e47cc32"
      },
      "outputs": [
        {
          "output_type": "display_data",
          "data": {
            "text/plain": [
              "<Figure size 432x288 with 1 Axes>"
            ],
            "image/png": "[encoded data removed]"
          },
          "metadata": {
            "needs_background": "light"
          }
        }
      ],
      "source": [
        "# TODO 21\n",
        "# fadapt = ...\n",
        "nit = 10000\n",
        "step = 1e-6  # Initial step\n",
        "\"\"\"\n",
        "wa = winit\n",
        "fadapt = np.zeros(nit)\n",
        "f0, fgrad0 = feval(wa,xtr,ytr)\n",
        "\n",
        "\n",
        "for it in range(nit):\n",
        "  w1 = wa - step*fgrad0\n",
        "  f1, fgrad1 = feval(w1,xtr,ytr)\n",
        "  alpha = 0.5\n",
        "  if (f1-f0 < alpha*fgrad0.dot(w1-wa)) and (f1 < f0):\n",
        "    step = step*2\n",
        "    f0 = f1\n",
        "    fgrad0 = fgrad1\n",
        "    wa = w1\n",
        "  else:\n",
        "    step = 0.5*step\n",
        "  fadapt[it] = f0\n",
        "\n",
        "plt.plot(fgd)\n",
        "plt.plot(fadapt)\n",
        "plt.xlabel('Iteration')\n",
        "plt.ylabel('Training loss')\n",
        "plt.grid()\n",
        "\"\"\"\n",
        "fadaptt=np.zeros(nit)\n",
        "fgrads=np.zeros((nit,7))\n",
        "w0=winit\n",
        "w00 = winit\n",
        "f00, fgrad00 = feval(w0,x,y)\n",
        "\n",
        "for it in range(nit):\n",
        "  w11 = w00 - step*fgrad0\n",
        "  fadapt, fgrad11 = feval(w11,x,y)\n",
        "  df_est = fgrad0.dot(w11-w00)\n",
        "  alpha = 0.5\n",
        "  if (fadapt-f00 < alpha*df_est) and (fadapt < f00):\n",
        "    step = step*2\n",
        "    f00 = fadapt\n",
        "    fgrad00 = fgrad11\n",
        "    w00 = w11\n",
        "  else:\n",
        "    step = step/2\n",
        "   \n",
        "  fadaptt[it]=f00\n",
        "  fgrads[it,:]=fgrad00\n",
        "  \n",
        "  \n",
        "t = np.arange(nit)\n",
        "plt.semilogx(t, fadaptt)\n",
        "plt.semilogx(t, fgd)\n",
        "plt.grid()\n",
        "plt.show()\n",
        "\n",
        "\n"
      ]
    },
    {
      "cell_type": "markdown",
      "metadata": {
        "id": "BgBv9OZlqV2I"
      },
      "source": [
        "Using he final estimate for `w` from the adaptive step-size plot the predicted values of the `yhat` vs. `x` usfor 1000 values `x` in `[0,1]`.  On the same plot, plot `yhat` vs. `x` for the initial parameter `w=winit`.  Also, plot `yts` vs. `xts`.  You should see that gradient descent was able to improve the estimat slightly, although the initial estimate was not too bad."
      ]
    },
    {
      "cell_type": "code",
      "execution_count": 210,
      "metadata": {
        "id": "iBWwV3m6qV2I",
        "colab": {
          "base_uri": "https://localhost:8080/",
          "height": 265
        },
        "outputId": "5169fe26-1fd9-48eb-eb76-eb4981f261b5"
      },
      "outputs": [
        {
          "output_type": "display_data",
          "data": {
            "text/plain": [
              "<Figure size 432x288 with 1 Axes>"
            ],
            "image/png": "[encoded data removed]"
          },
          "metadata": {
            "needs_background": "light"
          }
        }
      ],
      "source": [
        "# TODO 22\n",
        "# xp = np.linspace(...)\n",
        "# yhat = ...\n",
        "# plot(...)\n",
        "\n",
        "xp = np.linspace(0,1,1000)\n",
        "yhat = predict(w0,xp)\n",
        "plt.plot(xp,yhat)\n",
        "plt.plot(xts,yts,'*')\n",
        "plt.show()"
      ]
    },
    {
      "cell_type": "markdown",
      "metadata": {
        "id": "9b0xdCBIqV2I"
      },
      "source": [
        "## Momentum Gradient Descent\n",
        "\n",
        "This section is bonus.\n",
        "\n",
        "One way to improve gradient descent is to use *momentum*.  In momentum gradient descent, the update rule is:\n",
        "\n",
        "    f, fgrad = feval(w,...)\n",
        "    z = beta*z + fgrad\n",
        "    w = w - step*z\n",
        "    \n",
        "This is similar to gradient descent, except that there is a second order term on the gradient.  Implement this algorithm with `beta = 0.99` and `step=1e-3`.   Compare the convergence of the loss function with gradient descent.  "
      ]
    },
    {
      "cell_type": "code",
      "execution_count": 228,
      "metadata": {
        "id": "i1qR_4s7qV2I"
      },
      "outputs": [],
      "source": [
        "# TODO 23\n",
        "nit = 1000\n",
        "step = 1e-5\n",
        "beta = 0.99\n"
      ]
    },
    {
      "cell_type": "code",
      "execution_count": null,
      "metadata": {
        "id": "3dsG-sw8qV2I"
      },
      "outputs": [],
      "source": [
        "# TODO 24\n",
        "# plot yhat vs. x"
      ]
    },
    {
      "cell_type": "markdown",
      "metadata": {
        "id": "WGfwHqtpqV2I"
      },
      "source": [
        "## Beyond This Lab\n",
        "In this lab, we have just touched at some of the ideas in optimization.  There are several other important algorithms that you can explore:\n",
        "* [Levenberg-Marquardt](https://en.wikipedia.org/wiki/Levenberg%E2%80%93Marquardt_algorithm) method for non-linear least squares\n",
        "* Newton's method\n",
        "* More difficult non-linear least squares problems."
      ]
    },
    {
      "cell_type": "code",
      "execution_count": null,
      "metadata": {
        "id": "Lilge0HcqV2I"
      },
      "outputs": [],
      "source": []
    }
  ],
  "metadata": {
    "kernelspec": {
      "display_name": "Python 3",
      "language": "python",
      "name": "python3"
    },
    "language_info": {
      "codemirror_mode": {
        "name": "ipython",
        "version": 3
      },
      "file_extension": ".py",
      "mimetype": "text/x-python",
      "name": "python",
      "nbconvert_exporter": "python",
      "pygments_lexer": "ipython3",
      "version": "3.8.5"
    },
    "colab": {
      "provenance": [],
      "collapsed_sections": []
    }
  },
  "nbformat": 4,
  "nbformat_minor": 0
}
