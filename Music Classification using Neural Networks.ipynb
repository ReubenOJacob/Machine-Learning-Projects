{
 "cells": [
  {
   "cell_type": "markdown",
   "metadata": {
    "id": "LSYFwr7_frIP"
   },
   "source": [
    "# Lab:  Neural Networks for Music Classification\n",
    "\n",
    "In addition to the concepts in the [MNIST neural network demo](./demo2_mnist_neural.ipynb), in this lab, you will learn to:\n",
    "* Load a file from a URL\n",
    "* Extract simple features from audio samples for machine learning tasks such as speech recognition and classification\n",
    "* Build a simple neural network for music classification using these features\n",
    "* Use a callback to store the loss and accuracy history in the training process\n",
    "* Optimize the learning rate of the neural network\n",
    "\n",
    "To illustrate the basic concepts, we will look at a relatively simple music classification problem.  Given a sample of music, we want to determine which instrument (e.g. trumpet, violin, piano) is playing.  This dataset was generously supplied by [Prof. Juan Bello](http://steinhardt.nyu.edu/faculty/Juan_Pablo_Bello) at NYU Stenihardt  and his former PhD student Eric Humphrey (now at Spotify).  They have a complete website dedicated to deep learning methods in music informatics:\n",
    "\n",
    "http://marl.smusic.nyu.edu/wordpress/projects/feature-learning-deep-architectures/deep-learning-python-tutorial/\n",
    "\n",
    "You can also check out Juan's <a href=\"http://www.nyu.edu/classes/bello/ACA.html\">course</a>.\n",
    "\n"
   ]
  },
  {
   "cell_type": "markdown",
   "metadata": {
    "id": "leVEWi8wfrIR"
   },
   "source": [
    "## Loading Tensorflow\n",
    "\n",
    "Before starting this lab, you will need to install [Tensorflow](https://www.tensorflow.org/install/).  If you are using [Google colaboratory](https://colab.research.google.com), Tensorflow is already installed.  Run the following command to ensure Tensorflow is installed."
   ]
  },
  {
   "cell_type": "code",
   "execution_count": 116,
   "metadata": {
    "id": "H2uM0msYfrIR"
   },
   "outputs": [],
   "source": [
    "import tensorflow as tf"
   ]
  },
  {
   "cell_type": "markdown",
   "metadata": {
    "id": "mlhhcHpkfrIR"
   },
   "source": [
    "Then, load the other packages."
   ]
  },
  {
   "cell_type": "code",
   "execution_count": 117,
   "metadata": {
    "id": "Eq0Dm2W9frIS"
   },
   "outputs": [],
   "source": [
    "import numpy as np\n",
    "import matplotlib\n",
    "import matplotlib.pyplot as plt"
   ]
  },
  {
   "cell_type": "markdown",
   "metadata": {
    "id": "Lu3BGXhJfrIS"
   },
   "source": [
    "## Audio Feature Extraction with Librosa\n",
    "\n",
    "The key to audio classification is to extract the correct features. In addition to `keras`, we will need the `librosa` package.  The `librosa` package in python has a rich set of methods extracting the features of audio samples commonly used in machine learning tasks such as speech recognition and sound classification. \n",
    "\n",
    "Installation instructions and complete documentation for the package are given on the [librosa main page](https://librosa.github.io/librosa/).  On most systems, you should be able to simply use:\n",
    "\n",
    "    pip install librosa\n",
    "    \n",
    "For Unix, you may need to load some additional packages:\n",
    "\n",
    "    sudo apt-get install build-essential\n",
    "    sudo apt-get install libxext-dev python-qt4 qt4-dev-tools\n",
    "    pip install librosa\n",
    "    \n",
    "After you have installed the package, try to import it."
   ]
  },
  {
   "cell_type": "code",
   "execution_count": 118,
   "metadata": {
    "id": "eyPUsQK_frIS"
   },
   "outputs": [],
   "source": [
    "import librosa\n",
    "import librosa.display\n",
    "import librosa.feature"
   ]
  },
  {
   "cell_type": "markdown",
   "metadata": {
    "id": "4Zq3KlhmfrIS"
   },
   "source": [
    "In this lab, we will use a set of music samples from the website:\n",
    "\n",
    "http://theremin.music.uiowa.edu\n",
    "\n",
    "This website has a great set of samples for audio processing.  Look on the web for how to use the `requests.get` and `file.write` commands to load the file at the URL provided into your working directory.\n",
    "\n",
    "You can play the audio sample by copying the file to your local machine and playing it on any media player.  If you listen to it you will hear a soprano saxaphone (with vibrato) playing four notes (C, C#, D, Eb)."
   ]
  },
  {
   "cell_type": "code",
   "execution_count": 119,
   "metadata": {
    "id": "coGZ-OKyfrIS"
   },
   "outputs": [],
   "source": [
    "import requests\n",
    "fn = \"SopSax.Vib.pp.C6Eb6.aiff\"\n",
    "url = \"http://theremin.music.uiowa.edu/sound files/MIS/Woodwinds/sopranosaxophone/\"+fn\n",
    "\n",
    "# TODO 1:  Load the file from url and save it in a file under the name fn\n",
    "\n",
    "with open (fn, \"wb\") as f:\n",
    "    f.write(requests.get(url).content)"
   ]
  },
  {
   "cell_type": "markdown",
   "metadata": {
    "id": "yOKZuk3nfrIT"
   },
   "source": [
    "Next, use `librosa` command `librosa.load` to read the audio file with filename `fn` and get the samples `y` and sample rate `sr`."
   ]
  },
  {
   "cell_type": "code",
   "execution_count": 120,
   "metadata": {
    "id": "SgofjK8TfrIT"
   },
   "outputs": [],
   "source": [
    "# TODO 2\n",
    "# y, sr = ...\n",
    "\n",
    "y, sr = librosa.load(fn)"
   ]
  },
  {
   "cell_type": "markdown",
   "metadata": {
    "id": "gvf0Sd7ifrIT"
   },
   "source": [
    "Extracting features from audio files is an entire subject on its own right.  A commonly used set of features are called the Mel Frequency Cepstral Coefficients (MFCCs).  These are derived from the so-called mel spectrogram which is something like a regular spectrogram, but the power and frequency are represented in log scale, which more naturally aligns with human perceptual processing.  You can run the code below to display the mel spectrogram from the audio sample.\n",
    "\n",
    "You can easily see the four notes played in the audio track.  You also see the 'harmonics' of each notes, which are other tones at integer multiples of the fundamental frequency of each note."
   ]
  },
  {
   "cell_type": "code",
   "execution_count": 121,
   "metadata": {
    "id": "1Hj0e4YgfrIT"
   },
   "outputs": [
    {
     "data": {
      "image/png": "[encoded data removed]",
      "text/plain": [
       "<Figure size 432x288 with 2 Axes>"
      ]
     },
     "metadata": {
      "needs_background": "light"
     },
     "output_type": "display_data"
    }
   ],
   "source": [
    "S = librosa.feature.melspectrogram(y=y, sr=sr, n_mels=128, fmax=8000)\n",
    "librosa.display.specshow(librosa.amplitude_to_db(S),\n",
    "                         y_axis='mel', fmax=8000, x_axis='time')\n",
    "plt.colorbar(format='%+2.0f dB')\n",
    "plt.title('Mel spectrogram')\n",
    "plt.tight_layout()"
   ]
  },
  {
   "cell_type": "markdown",
   "metadata": {
    "id": "jJWC2jX4frIT"
   },
   "source": [
    "## Downloading the Data\n",
    "\n",
    "Using the MFCC features described above, Eric Humphrey and Juan Bellow have created a complete data set that can used for instrument classification.  Essentially, they collected a number of data files from the website above.  For each audio file, the segmented the track into notes and then extracted 120 MFCCs for each note.  The goal is to recognize the instrument from the 120 MFCCs.  The process of feature extraction is quite involved.  So, we will just use their processed data provided at:\n",
    "\n",
    "https://github.com/marl/dl4mir-tutorial/blob/master/README.md\n",
    "\n",
    "Note the password.  Load the four files into some directory, say  `instrument_dataset`.  Then, load them with the commands."
   ]
  },
  {
   "cell_type": "code",
   "execution_count": 122,
   "metadata": {
    "id": "idBAk5EffrIT"
   },
   "outputs": [],
   "source": [
    "#data_dir = r\"C:\\Users\\reube\\Downloads\\instrument_dataset.tgz\"\n",
    "Xtr = np.load(r\"C:\\Users\\reube\\Downloads\\uiowa_train_data.npy\")\n",
    "ytr = np.load(r\"C:\\Users\\reube\\Downloads\\uiowa_train_labels.npy\")\n",
    "Xts = np.load(r\"C:\\Users\\reube\\Downloads\\uiowa_test_data.npy\")\n",
    "yts = np.load(r\"C:\\Users\\reube\\Downloads\\uiowa_test_labels.npy\")"
   ]
  },
  {
   "cell_type": "markdown",
   "metadata": {
    "id": "QVirlGAYfrIT"
   },
   "source": [
    "Looking at the data files:\n",
    "* What are the number of training and test samples?\n",
    "* What is the number of features for each sample?\n",
    "* How many classes (i.e. instruments) are there per class?\n"
   ]
  },
  {
   "cell_type": "code",
   "execution_count": 123,
   "metadata": {
    "id": "DybcQNi8frIT"
   },
   "outputs": [
    {
     "name": "stdout",
     "output_type": "stream",
     "text": [
      "Number of training samples :  66247\n",
      "Number of test samples : 14904\n",
      "Number of features for each sample:  120\n",
      "Number of classes per class : 10\n"
     ]
    }
   ],
   "source": [
    "# TODO 3\n",
    "\n",
    "print('Number of training samples : ',Xtr.shape[0])\n",
    "print('Number of test samples :',Xts.shape[0])\n",
    "print('Number of features for each sample: ',Xtr.shape[1])\n",
    "print('Number of classes per class :',np.unique(ytr).size)"
   ]
  },
  {
   "cell_type": "markdown",
   "metadata": {
    "id": "YDrV5wpJfrIT"
   },
   "source": [
    "Before continuing, you must scale the training and test data, `Xtr` and `Xts`.  Compute the mean and std deviation of each feature in `Xtr` and create a new training data set, `Xtr_scale`, by subtracting the mean and dividing by the std deviation.  Also compute a scaled test data set, `Xts_scale` using the mean and std deviation learned from the training data set."
   ]
  },
  {
   "cell_type": "code",
   "execution_count": 124,
   "metadata": {
    "id": "iLIRuqXxfrIU"
   },
   "outputs": [],
   "source": [
    "# TODO 4: Scale the training and test matrices\n",
    "# Xtr_scale = ...\n",
    "# Xts_scale = ...\n",
    "\n",
    "Mean = np.mean(Xtr, axis=0)\n",
    "StandardDeviation = np.std(Xtr, axis=0)\n",
    "\n",
    "Xtr_scale = (Xtr - Mean[None, :]) / StandardDeviation[None, :]\n",
    "Xts_scale= (Xts - Mean[None, :]) / StandardDeviation[None, :]"
   ]
  },
  {
   "cell_type": "markdown",
   "metadata": {
    "collapsed": true,
    "id": "Ue8h8ctbfrIU"
   },
   "source": [
    "## Building a Neural Network Classifier\n",
    "\n",
    "Following the example in [MNIST neural network demo](./mnist_neural.ipynb), clear the keras session.  Then, create a neural network `model` with:\n",
    "* `nh=256` hidden units\n",
    "* `sigmoid` activation\n",
    "* select the input and output shapes correctly\n",
    "* print the model summary"
   ]
  },
  {
   "cell_type": "code",
   "execution_count": 125,
   "metadata": {
    "id": "8flMtl9ifrIU"
   },
   "outputs": [],
   "source": [
    "from tensorflow.keras.models import Model, Sequential\n",
    "from tensorflow.keras.layers import Dense, Activation\n",
    "import tensorflow.keras.backend as K\n"
   ]
  },
  {
   "cell_type": "code",
   "execution_count": 126,
   "metadata": {
    "id": "WXIvGB9FfrIU"
   },
   "outputs": [],
   "source": [
    "# TODO 5 clear session\n",
    "\n",
    "K.clear_session()\n"
   ]
  },
  {
   "cell_type": "code",
   "execution_count": 127,
   "metadata": {
    "id": "jspUoAWIfrIU"
   },
   "outputs": [],
   "source": [
    "# TODO 6: construct the model\n",
    "Nh = 256\n",
    "Nin = Xtr_scale.shape[1]\n",
    "\n",
    "Nout = int(np.max(ytr)+1)\n",
    "\n",
    "model = Sequential()\n",
    "model.add(Dense(units=Nh, input_shape=(Nin,), activation='sigmoid',name='hidden'))\n",
    "\n",
    "model.add(Dense(units=Nout, activation='softmax', name='output'))"
   ]
  },
  {
   "cell_type": "code",
   "execution_count": 128,
   "metadata": {
    "id": "E7GLqCnjfrIU"
   },
   "outputs": [
    {
     "name": "stdout",
     "output_type": "stream",
     "text": [
      "Model: \"sequential\"\n",
      "_________________________________________________________________\n",
      " Layer (type)                Output Shape              Param #   \n",
      "=================================================================\n",
      " hidden (Dense)              (None, 256)               30976     \n",
      "                                                                 \n",
      " output (Dense)              (None, 10)                2570      \n",
      "                                                                 \n",
      "=================================================================\n",
      "Total params: 33,546\n",
      "Trainable params: 33,546\n",
      "Non-trainable params: 0\n",
      "_________________________________________________________________\n"
     ]
    }
   ],
   "source": [
    "# TODO 7:  Print the model summary\n",
    "model.summary()"
   ]
  },
  {
   "cell_type": "markdown",
   "metadata": {
    "id": "3O7vNyXZfrIU"
   },
   "source": [
    "Create an optimizer and compile the model.  Select the appropriate loss function and metrics.  For the optimizer, use the Adam optimizer with a learning rate of 0.001"
   ]
  },
  {
   "cell_type": "code",
   "execution_count": 129,
   "metadata": {
    "id": "iPyEQlLhfrIU",
    "scrolled": true
   },
   "outputs": [],
   "source": [
    "# TODO 8\n",
    "# opt = ...\n",
    "# model.compile(...)\n",
    "\n",
    "from tensorflow.keras import optimizers\n",
    "\n",
    "opt = optimizers.Adam(learning_rate=0.001)\n",
    "model.compile(optimizer=opt,loss='sparse_categorical_crossentropy', metrics=['accuracy'])"
   ]
  },
  {
   "cell_type": "markdown",
   "metadata": {
    "id": "zVbjtBazfrIU"
   },
   "source": [
    "Fit the model for 10 epochs using the scaled data for both the training and validation.  Use the `validation_data` option to pass the test data.  Also, pass the callback class create above.  Use a batch size of 100.  Your final accuracy should be >99%."
   ]
  },
  {
   "cell_type": "code",
   "execution_count": 130,
   "metadata": {
    "id": "m1TgcNclfrIU",
    "scrolled": true
   },
   "outputs": [
    {
     "name": "stdout",
     "output_type": "stream",
     "text": [
      "Epoch 1/10\n",
      "663/663 [==============================] - 5s 5ms/step - loss: 1.4562 - accuracy: 0.5147 - val_loss: 1.4842 - val_accuracy: 0.5494\n",
      "Epoch 2/10\n",
      "663/663 [==============================] - 3s 4ms/step - loss: 0.9920 - accuracy: 0.6787 - val_loss: 1.1032 - val_accuracy: 0.6704\n",
      "Epoch 3/10\n",
      "663/663 [==============================] - 2s 4ms/step - loss: 0.7279 - accuracy: 0.7714 - val_loss: 0.8426 - val_accuracy: 0.7433\n",
      "Epoch 4/10\n",
      "663/663 [==============================] - 2s 3ms/step - loss: 0.5631 - accuracy: 0.8301 - val_loss: 0.6386 - val_accuracy: 0.8009\n",
      "Epoch 5/10\n",
      "663/663 [==============================] - 2s 4ms/step - loss: 0.4511 - accuracy: 0.8685 - val_loss: 0.5122 - val_accuracy: 0.8461\n",
      "Epoch 6/10\n",
      "663/663 [==============================] - 3s 4ms/step - loss: 0.3719 - accuracy: 0.8975 - val_loss: 0.4279 - val_accuracy: 0.8783\n",
      "Epoch 7/10\n",
      "663/663 [==============================] - 2s 4ms/step - loss: 0.3142 - accuracy: 0.9162 - val_loss: 0.3632 - val_accuracy: 0.8989\n",
      "Epoch 8/10\n",
      "663/663 [==============================] - 3s 4ms/step - loss: 0.2721 - accuracy: 0.9281 - val_loss: 0.3064 - val_accuracy: 0.9194\n",
      "Epoch 9/10\n",
      "663/663 [==============================] - 2s 4ms/step - loss: 0.2389 - accuracy: 0.9375 - val_loss: 0.2765 - val_accuracy: 0.9232\n",
      "Epoch 10/10\n",
      "663/663 [==============================] - 3s 4ms/step - loss: 0.2141 - accuracy: 0.9422 - val_loss: 0.2488 - val_accuracy: 0.9304\n"
     ]
    }
   ],
   "source": [
    "# TODO 9\n",
    "\n",
    "hist = model.fit(Xtr, ytr, epochs=10, batch_size=100, validation_data=(Xts,yts))"
   ]
  },
  {
   "cell_type": "markdown",
   "metadata": {
    "id": "Ak4_JtIafrIU"
   },
   "source": [
    "Plot the validation accuracy saved in `hist.history` dictionary. This gives one accuracy value per epoch.  You should see that the validation accuracy saturates at a little higher than 99%.  After that it \"bounces around\" due to the noise in the stochastic gradient descent."
   ]
  },
  {
   "cell_type": "code",
   "execution_count": 131,
   "metadata": {
    "id": "iFM3wjccfrIU"
   },
   "outputs": [
    {
     "data": {
      "text/plain": [
       "<matplotlib.legend.Legend at 0x231089fe0a0>"
      ]
     },
     "execution_count": 131,
     "metadata": {},
     "output_type": "execute_result"
    },
    {
     "data": {
      "image/png": "[encoded data removed]",
      "text/plain": [
       "<Figure size 432x288 with 1 Axes>"
      ]
     },
     "metadata": {
      "needs_background": "light"
     },
     "output_type": "display_data"
    }
   ],
   "source": [
    "# TODO 10\n",
    "\n",
    "\n",
    "ValidationAccuracy = hist.history['val_accuracy']\n",
    "\n",
    "\n",
    "\n",
    "plt.plot(ValidationAccuracy)\n",
    "plt.grid()\n",
    "\n",
    "plt.xlabel('Epochs')\n",
    "plt.ylabel('Accuarcy')\n",
    "plt.legend([ 'Validation Accuracy'])\n"
   ]
  },
  {
   "cell_type": "markdown",
   "metadata": {
    "id": "Xr2gJv7nfrIU"
   },
   "source": [
    "Plot the loss values saved in the `hist.history` dictionary.  You should see that the loss is steadily decreasing.  Use the `semilogy` plot."
   ]
  },
  {
   "cell_type": "code",
   "execution_count": 132,
   "metadata": {
    "id": "x-eJhY0FfrIU"
   },
   "outputs": [
    {
     "data": {
      "text/plain": [
       "Text(0.5, 0, 'Epochs')"
      ]
     },
     "execution_count": 132,
     "metadata": {},
     "output_type": "execute_result"
    },
    {
     "data": {
      "image/png": "[encoded data removed]",
      "text/plain": [
       "<Figure size 432x288 with 1 Axes>"
      ]
     },
     "metadata": {
      "needs_background": "light"
     },
     "output_type": "display_data"
    }
   ],
   "source": [
    "# TODO 11\n",
    "\n",
    "plt.semilogy(np.array(hist.history['loss']))\n",
    "plt.grid()\n",
    "plt.ylabel('Loss')\n",
    "plt.xlabel('Epochs')"
   ]
  },
  {
   "cell_type": "markdown",
   "metadata": {
    "id": "no4jR5VhfrIU"
   },
   "source": [
    "## Optimizing the Learning Rate\n",
    "\n",
    "One challenge in training neural networks is the selection of the learning rate.  Rerun the above code, trying four learning rates as shown in the vector `rates`.  For each learning rate:\n",
    "* clear the session\n",
    "* construct the network\n",
    "* select the optimizer.  Use the Adam optimizer with the appropriate learrning rate.\n",
    "* train the model for 20 epochs\n",
    "* save the accuracy and losses"
   ]
  },
  {
   "cell_type": "code",
   "execution_count": 133,
   "metadata": {
    "id": "5hspwKOmfrIV",
    "scrolled": true
   },
   "outputs": [
    {
     "name": "stdout",
     "output_type": "stream",
     "text": [
      "Epoch 1/20\n",
      "663/663 [==============================] - 4s 4ms/step - loss: 0.1088 - accuracy: 0.9669 - val_loss: 0.0678 - val_accuracy: 0.9754\n",
      "Epoch 2/20\n",
      "663/663 [==============================] - 3s 4ms/step - loss: 0.0315 - accuracy: 0.9898 - val_loss: 0.0378 - val_accuracy: 0.9852\n",
      "Epoch 3/20\n",
      "663/663 [==============================] - 3s 4ms/step - loss: 0.0203 - accuracy: 0.9934 - val_loss: 0.0298 - val_accuracy: 0.9896\n",
      "Epoch 4/20\n",
      "663/663 [==============================] - 3s 4ms/step - loss: 0.0169 - accuracy: 0.9946 - val_loss: 0.0475 - val_accuracy: 0.9840\n",
      "Epoch 5/20\n",
      "663/663 [==============================] - 2s 4ms/step - loss: 0.0178 - accuracy: 0.9939 - val_loss: 0.0606 - val_accuracy: 0.9775\n",
      "Epoch 6/20\n",
      "663/663 [==============================] - 2s 4ms/step - loss: 0.0142 - accuracy: 0.9950 - val_loss: 0.0561 - val_accuracy: 0.9810\n",
      "Epoch 7/20\n",
      "663/663 [==============================] - 2s 4ms/step - loss: 0.0136 - accuracy: 0.9956 - val_loss: 0.0374 - val_accuracy: 0.9874\n",
      "Epoch 8/20\n",
      "663/663 [==============================] - 2s 4ms/step - loss: 0.0127 - accuracy: 0.9959 - val_loss: 0.0576 - val_accuracy: 0.9848\n",
      "Epoch 9/20\n",
      "663/663 [==============================] - 2s 4ms/step - loss: 0.0127 - accuracy: 0.9958 - val_loss: 0.0642 - val_accuracy: 0.9854\n",
      "Epoch 10/20\n",
      "663/663 [==============================] - 2s 4ms/step - loss: 0.0123 - accuracy: 0.9959 - val_loss: 0.0781 - val_accuracy: 0.9820\n",
      "Epoch 11/20\n",
      "663/663 [==============================] - 3s 4ms/step - loss: 0.0099 - accuracy: 0.9969 - val_loss: 0.0382 - val_accuracy: 0.9915\n",
      "Epoch 12/20\n",
      "663/663 [==============================] - 3s 4ms/step - loss: 0.0101 - accuracy: 0.9971 - val_loss: 0.0872 - val_accuracy: 0.9807\n",
      "Epoch 13/20\n",
      "663/663 [==============================] - 3s 4ms/step - loss: 0.0094 - accuracy: 0.9971 - val_loss: 0.0420 - val_accuracy: 0.9895\n",
      "Epoch 14/20\n",
      "663/663 [==============================] - 2s 3ms/step - loss: 0.0114 - accuracy: 0.9967 - val_loss: 0.0688 - val_accuracy: 0.9840\n",
      "Epoch 15/20\n",
      "663/663 [==============================] - 2s 4ms/step - loss: 0.0078 - accuracy: 0.9976 - val_loss: 0.0776 - val_accuracy: 0.9815\n",
      "Epoch 16/20\n",
      "663/663 [==============================] - 2s 3ms/step - loss: 0.0090 - accuracy: 0.9970 - val_loss: 0.0726 - val_accuracy: 0.9824\n",
      "Epoch 17/20\n",
      "663/663 [==============================] - 2s 4ms/step - loss: 0.0087 - accuracy: 0.9973 - val_loss: 0.0670 - val_accuracy: 0.9864\n",
      "Epoch 18/20\n",
      "663/663 [==============================] - 2s 3ms/step - loss: 0.0099 - accuracy: 0.9972 - val_loss: 0.1566 - val_accuracy: 0.9779\n",
      "Epoch 19/20\n",
      "663/663 [==============================] - 2s 3ms/step - loss: 0.0083 - accuracy: 0.9974 - val_loss: 0.1832 - val_accuracy: 0.9657\n",
      "Epoch 20/20\n",
      "663/663 [==============================] - 2s 3ms/step - loss: 0.0095 - accuracy: 0.9972 - val_loss: 0.0710 - val_accuracy: 0.9867\n",
      "Epoch 1/20\n",
      "663/663 [==============================] - 4s 5ms/step - loss: 0.3746 - accuracy: 0.8980 - val_loss: 0.2216 - val_accuracy: 0.9293\n",
      "Epoch 2/20\n",
      "663/663 [==============================] - 2s 4ms/step - loss: 0.1048 - accuracy: 0.9748 - val_loss: 0.1016 - val_accuracy: 0.9717\n",
      "Epoch 3/20\n",
      "663/663 [==============================] - 2s 4ms/step - loss: 0.0619 - accuracy: 0.9853 - val_loss: 0.0630 - val_accuracy: 0.9850\n",
      "Epoch 4/20\n",
      "663/663 [==============================] - 2s 4ms/step - loss: 0.0435 - accuracy: 0.9893 - val_loss: 0.0517 - val_accuracy: 0.9860\n",
      "Epoch 5/20\n",
      "663/663 [==============================] - 3s 4ms/step - loss: 0.0331 - accuracy: 0.9915 - val_loss: 0.0405 - val_accuracy: 0.9874\n",
      "Epoch 6/20\n",
      "663/663 [==============================] - 2s 4ms/step - loss: 0.0260 - accuracy: 0.9933 - val_loss: 0.0405 - val_accuracy: 0.9882\n",
      "Epoch 7/20\n",
      "663/663 [==============================] - 3s 4ms/step - loss: 0.0211 - accuracy: 0.9946 - val_loss: 0.0352 - val_accuracy: 0.9894\n",
      "Epoch 8/20\n",
      "663/663 [==============================] - 2s 4ms/step - loss: 0.0179 - accuracy: 0.9953 - val_loss: 0.0289 - val_accuracy: 0.9919\n",
      "Epoch 9/20\n",
      "663/663 [==============================] - 2s 4ms/step - loss: 0.0152 - accuracy: 0.9963 - val_loss: 0.0262 - val_accuracy: 0.9926\n",
      "Epoch 10/20\n",
      "663/663 [==============================] - 2s 4ms/step - loss: 0.0129 - accuracy: 0.9967 - val_loss: 0.0251 - val_accuracy: 0.9916\n",
      "Epoch 11/20\n",
      "663/663 [==============================] - 3s 4ms/step - loss: 0.0115 - accuracy: 0.9970 - val_loss: 0.0244 - val_accuracy: 0.9927\n",
      "Epoch 12/20\n",
      "663/663 [==============================] - 2s 4ms/step - loss: 0.0100 - accuracy: 0.9975 - val_loss: 0.0266 - val_accuracy: 0.9899\n",
      "Epoch 13/20\n",
      "663/663 [==============================] - 2s 4ms/step - loss: 0.0093 - accuracy: 0.9975 - val_loss: 0.0245 - val_accuracy: 0.9910\n",
      "Epoch 14/20\n",
      "663/663 [==============================] - 3s 4ms/step - loss: 0.0082 - accuracy: 0.9979 - val_loss: 0.0209 - val_accuracy: 0.9922\n",
      "Epoch 15/20\n",
      "663/663 [==============================] - 3s 4ms/step - loss: 0.0075 - accuracy: 0.9980 - val_loss: 0.0219 - val_accuracy: 0.9914\n",
      "Epoch 16/20\n",
      "663/663 [==============================] - 3s 4ms/step - loss: 0.0070 - accuracy: 0.9983 - val_loss: 0.0242 - val_accuracy: 0.9901\n",
      "Epoch 17/20\n",
      "663/663 [==============================] - 2s 4ms/step - loss: 0.0064 - accuracy: 0.9985 - val_loss: 0.0229 - val_accuracy: 0.9917\n",
      "Epoch 18/20\n",
      "663/663 [==============================] - 2s 4ms/step - loss: 0.0058 - accuracy: 0.9986 - val_loss: 0.0202 - val_accuracy: 0.9927\n",
      "Epoch 19/20\n",
      "663/663 [==============================] - 3s 4ms/step - loss: 0.0055 - accuracy: 0.9986 - val_loss: 0.0233 - val_accuracy: 0.9911\n",
      "Epoch 20/20\n",
      "663/663 [==============================] - 3s 4ms/step - loss: 0.0052 - accuracy: 0.9986 - val_loss: 0.0295 - val_accuracy: 0.9884\n",
      "Epoch 1/20\n",
      "663/663 [==============================] - 4s 4ms/step - loss: 1.1535 - accuracy: 0.6413 - val_loss: 0.8574 - val_accuracy: 0.6793\n",
      "Epoch 2/20\n",
      "663/663 [==============================] - 2s 4ms/step - loss: 0.5660 - accuracy: 0.8415 - val_loss: 0.5829 - val_accuracy: 0.8154\n",
      "Epoch 3/20\n",
      "663/663 [==============================] - 3s 4ms/step - loss: 0.3915 - accuracy: 0.9094 - val_loss: 0.4428 - val_accuracy: 0.8747\n",
      "Epoch 4/20\n",
      "663/663 [==============================] - 2s 4ms/step - loss: 0.3021 - accuracy: 0.9316 - val_loss: 0.3591 - val_accuracy: 0.8970\n",
      "Epoch 5/20\n",
      "663/663 [==============================] - 2s 4ms/step - loss: 0.2451 - accuracy: 0.9452 - val_loss: 0.2943 - val_accuracy: 0.9200\n",
      "Epoch 6/20\n",
      "663/663 [==============================] - 3s 4ms/step - loss: 0.2044 - accuracy: 0.9538 - val_loss: 0.2449 - val_accuracy: 0.9351\n",
      "Epoch 7/20\n",
      "663/663 [==============================] - 3s 4ms/step - loss: 0.1735 - accuracy: 0.9608 - val_loss: 0.2086 - val_accuracy: 0.9430\n",
      "Epoch 8/20\n",
      "663/663 [==============================] - 3s 4ms/step - loss: 0.1489 - accuracy: 0.9655 - val_loss: 0.1775 - val_accuracy: 0.9526\n",
      "Epoch 9/20\n",
      "663/663 [==============================] - 3s 4ms/step - loss: 0.1292 - accuracy: 0.9700 - val_loss: 0.1547 - val_accuracy: 0.9592\n",
      "Epoch 10/20\n",
      "663/663 [==============================] - 2s 4ms/step - loss: 0.1132 - accuracy: 0.9741 - val_loss: 0.1355 - val_accuracy: 0.9640\n",
      "Epoch 11/20\n",
      "663/663 [==============================] - 2s 4ms/step - loss: 0.1003 - accuracy: 0.9769 - val_loss: 0.1232 - val_accuracy: 0.9659\n",
      "Epoch 12/20\n",
      "663/663 [==============================] - 3s 4ms/step - loss: 0.0895 - accuracy: 0.9797 - val_loss: 0.1098 - val_accuracy: 0.9703\n",
      "Epoch 13/20\n",
      "663/663 [==============================] - 3s 5ms/step - loss: 0.0806 - accuracy: 0.9817 - val_loss: 0.1027 - val_accuracy: 0.9705\n",
      "Epoch 14/20\n",
      "663/663 [==============================] - 5s 7ms/step - loss: 0.0733 - accuracy: 0.9834 - val_loss: 0.0969 - val_accuracy: 0.9722\n",
      "Epoch 15/20\n",
      "663/663 [==============================] - 4s 6ms/step - loss: 0.0671 - accuracy: 0.9848 - val_loss: 0.0817 - val_accuracy: 0.9810\n",
      "Epoch 16/20\n",
      "663/663 [==============================] - 2s 4ms/step - loss: 0.0618 - accuracy: 0.9858 - val_loss: 0.0746 - val_accuracy: 0.9832\n",
      "Epoch 17/20\n",
      "663/663 [==============================] - 2s 4ms/step - loss: 0.0573 - accuracy: 0.9865 - val_loss: 0.0699 - val_accuracy: 0.9837\n",
      "Epoch 18/20\n",
      "663/663 [==============================] - 3s 4ms/step - loss: 0.0533 - accuracy: 0.9875 - val_loss: 0.0666 - val_accuracy: 0.9847\n",
      "Epoch 19/20\n",
      "663/663 [==============================] - 2s 3ms/step - loss: 0.0499 - accuracy: 0.9881 - val_loss: 0.0637 - val_accuracy: 0.9842\n",
      "Epoch 20/20\n",
      "663/663 [==============================] - 2s 3ms/step - loss: 0.0469 - accuracy: 0.9888 - val_loss: 0.0559 - val_accuracy: 0.9871\n"
     ]
    }
   ],
   "source": [
    "rates = [0.01,0.001,0.0001]\n",
    "batch_size = 100\n",
    "loss_hist = []\n",
    "\n",
    "# TODO 12\n",
    "# for lr in rate:\n",
    "#    ...\n",
    "\n",
    "for lr in rates:\n",
    "    K.clear_session()\n",
    "    \n",
    "    Nh = 256\n",
    "    Nin = Xtr_scale.shape[1]\n",
    "    Nout = int(np.max(ytr)+1)\n",
    "    \n",
    "    model = Sequential()\n",
    "    model.add(Dense(units=Nh, input_shape=(Nin,), activation='sigmoid',name='hidden'))\n",
    "    model.add(Dense(units=Nout, activation='softmax', name='output'))\n",
    "    \n",
    "    opt = optimizers.Adam(lr)\n",
    "    model.compile(optimizer=opt, loss='sparse_categorical_crossentropy',metrics=['accuracy'])\n",
    "    \n",
    "    hist = model.fit(Xtr_scale, ytr, epochs=20, batch_size=100,validation_data=(Xts_scale,yts))\n",
    "    loss_hist.append(hist.history['loss'])\n",
    "   \n"
   ]
  },
  {
   "cell_type": "markdown",
   "metadata": {
    "id": "2cKFz2vTfrIV"
   },
   "source": [
    "Plot the loss funciton vs. the epoch number for all three learning rates on one graph.  You should see that the lower learning rates are more stable, but converge slower."
   ]
  },
  {
   "cell_type": "code",
   "execution_count": 134,
   "metadata": {
    "id": "o8obBPU6frIV"
   },
   "outputs": [
    {
     "data": {
      "text/plain": [
       "Text(0, 0.5, 'Loss function')"
      ]
     },
     "execution_count": 134,
     "metadata": {},
     "output_type": "execute_result"
    },
    {
     "data": {
      "image/png": "[encoded data removed]",
      "text/plain": [
       "<Figure size 432x288 with 1 Axes>"
      ]
     },
     "metadata": {
      "needs_background": "light"
     },
     "output_type": "display_data"
    }
   ],
   "source": [
    "# TODO 13\n",
    "\n",
    "LossHistory = np.array(loss_hist)\n",
    "\n",
    "plt.plot(LossHistory [0, :], label='LearningRate : 0.01')\n",
    "plt.plot(LossHistory [1, :], label='LearningRate : 0.001')\n",
    "plt.plot(LossHistory [2, :], label='LearningRate : 0.0001')\n",
    "plt.grid()\n",
    "plt.legend()\n",
    "\n",
    "plt.xlabel('Epoch number')\n",
    "plt.ylabel('Loss function')"
   ]
  },
  {
   "cell_type": "code",
   "execution_count": null,
   "metadata": {
    "id": "byHlib7QfrIV"
   },
   "outputs": [],
   "source": []
  },
  {
   "cell_type": "code",
   "execution_count": null,
   "metadata": {
    "id": "akoKzMdxfrIV"
   },
   "outputs": [],
   "source": []
  }
 ],
 "metadata": {
  "anaconda-cloud": {},
  "colab": {
   "provenance": []
  },
  "kernelspec": {
   "display_name": "Python 3 (ipykernel)",
   "language": "python",
   "name": "python3"
  },
  "language_info": {
   "codemirror_mode": {
    "name": "ipython",
    "version": 3
   },
   "file_extension": ".py",
   "mimetype": "text/x-python",
   "name": "python",
   "nbconvert_exporter": "python",
   "pygments_lexer": "ipython3",
   "version": "3.9.12"
  }
 },
 "nbformat": 4,
 "nbformat_minor": 1
}
