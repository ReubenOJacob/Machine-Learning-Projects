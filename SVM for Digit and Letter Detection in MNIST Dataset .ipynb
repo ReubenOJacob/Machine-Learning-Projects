{
  "cells": [
    {
      "cell_type": "markdown",
      "metadata": {
        "id": "lCWxeHvlbFCy"
      },
      "source": [
        "# Lab: SVMs on Extended MNIST\n",
        "\n",
        "In the [MNIST demo](demo_mnist_svm.ipynb), we saw how SVMs can be used for the classic MNIST problem of digit recognition. In this lab, we are going to extend the MNIST dataset by adding a number of non-digit letters and see if the classifier can distinguish the digits from the non-digits. All non-digits will be lumped as a single 11-th class. This is a highly simplified version of 'detection' problem (as opposed to 'classification' problem). Detection is vital in OCR and related problems since the non useful characters must be rejected. \n",
        "\n",
        "In addition to the concepts in the demo, you will learn:\n",
        "* Combine multiple datasets\n",
        "* Select the SVM parameters (`C` and `gamma`) via cross-validation.\n",
        "* Use the `GridSearchCV` method to search for parameters with cross-validation.\n",
        "\n",
        "Note:  An [earlier version](lab_emnist_2017_partial.ipynb) of this lab made you manually create the combined letter and digit data.  In this lab, we will download the data from NIST website.  But, the old lab is still useful to look at if you want to see how to use `skimage` package for a number of image pre-processing tasks."
      ]
    },
    {
      "cell_type": "markdown",
      "metadata": {
        "id": "uDAldRRnbFC0"
      },
      "source": [
        "As usual, we download the standard packages"
      ]
    },
    {
      "cell_type": "code",
      "execution_count": 59,
      "metadata": {
        "collapsed": true,
        "id": "V_KL_oRIbFC0"
      },
      "outputs": [],
      "source": [
        "import numpy as np\n",
        "import matplotlib.pyplot as plt\n",
        "%matplotlib inline\n",
        "from sklearn import linear_model, preprocessing"
      ]
    },
    {
      "cell_type": "markdown",
      "metadata": {
        "id": "guVSXOMxbFC1"
      },
      "source": [
        "## Downloading the EMNIST Dataset\n",
        "\n",
        "After creating the highly popular MNIST dataset, NIST created an extended version of the dataset to include letters and digits.     The extended datase (called EMNIST) also has many more examples per class.  \n",
        "\n",
        "To download the data, first go to the [EMNIST webpage](https://www.nist.gov/itl/iad/image-group/emnist-dataset).  Near the bottom, you will see a link for `MATLAB format dataset`.  If you click on this link, you will download a `zip` file with several datasets in it.  The total file is 726M, so it may take some time and diskspace to download.  Extract two files:\n",
        "* `emnist-digits.mat`:  This is a file of digits `0` to `9`, but with more examples per class.\n",
        "* `emnist-letters.mat`:  This is a file of letters `a/A` to `z/Z`.  The lower and upper case letters are grouped into the same class.\n",
        "\n",
        "Once you get these two files, you can save yourself the diskspace and remove all the other files.\n",
        "\n",
        "You can download the files manually, or you can run the following commands which will download the files automatically.  "
      ]
    },
    {
      "cell_type": "code",
      "execution_count": 60,
      "metadata": {
        "id": "zAuxcm-obFC1",
        "colab": {
          "base_uri": "https://localhost:8080/"
        },
        "outputId": "6f51389a-9caf-4c47-9c09-c74fc1322063"
      },
      "outputs": [
        {
          "output_type": "stream",
          "name": "stdout",
          "text": [
            "Files already downloaded\n"
          ]
        }
      ],
      "source": [
        "from tqdm import tqdm\n",
        "import requests\n",
        "import os\n",
        "import zipfile\n",
        "\n",
        "def download_file(src_url, dst_fn):\n",
        "    \n",
        "    if os.path.exists(dst_fn):\n",
        "        print('File %s already exists' % dst_fn)\n",
        "        return\n",
        "    \n",
        "    print('Downloading %s' % dst_fn)\n",
        "    \n",
        "    # Streaming, so we can iterate over the response.\n",
        "    r = requests.get(src_url, stream=True)\n",
        "\n",
        "    # Total size in MB.\n",
        "    total_size = int(r.headers.get('content-length', 0)); \n",
        "    block_size = 1024\n",
        "    wrote = 0 \n",
        "    with open(dst_fn, 'wb') as f:\n",
        "        with tqdm(total=total_size//block_size, unit='kB', \n",
        "                           unit_scale=True, unit_divisor=1024) as pbar:\n",
        "            for data in r.iter_content(block_size):\n",
        "                wrote = wrote + len(data)\n",
        "                pbar.update(1)\n",
        "                f.write(data)\n",
        "    if total_size != 0 and wrote != total_size:\n",
        "        print(\"ERROR, something went wrong\") \n",
        "\n",
        "# Get file names\n",
        "matlab_dir = 'matlab'\n",
        "digits_fn =  os.path.join(matlab_dir,'emnist-digits.mat')\n",
        "letters_fn = os.path.join(matlab_dir,'emnist-letters.mat')\n",
        "\n",
        "# Check if files exists\n",
        "if os.path.exists(matlab_dir):\n",
        "    if os.path.exists(digits_fn) and os.path.exists(letters_fn):\n",
        "        print('Files already downloaded')\n",
        "        files_exists = True\n",
        "else:\n",
        "    files_exists = False\n",
        "    \n",
        "if not files_exists:\n",
        "    # First download the zip file if needed\n",
        "    src_url = \"http://www.itl.nist.gov/iaui/vip/cs_links/EMNIST/matlab.zip\"\n",
        "    dst_fn = 'matlab.zip'\n",
        "    download_file(src_url, dst_fn)\n",
        "    \n",
        "    # Then, unzip the file\n",
        "    print('Unzipping %s...' % dst_fn)\n",
        "    zip_ref = zipfile.ZipFile(dst_fn, 'r')\n",
        "    zip_ref.extractall('.')\n",
        "    zip_ref.close()\n",
        "    print('Unzip completed')"
      ]
    },
    {
      "cell_type": "markdown",
      "metadata": {
        "id": "t3rm0h8ObFC1"
      },
      "source": [
        "Since MATLAB files are still widely-used, Python has excellent routines for loading MATLAB files.  The function below uses the `scipy.io` package to extract the relevant fields from the MATLAB file.  Specifically, the function extracts the training and test data from MATLAB file. "
      ]
    },
    {
      "cell_type": "code",
      "execution_count": 61,
      "metadata": {
        "collapsed": true,
        "id": "SKrNP9EAbFC1"
      },
      "outputs": [],
      "source": [
        "import scipy.io\n",
        "def load_emnist(file_path='emnist-digits.mat'):\n",
        "    \"\"\"\n",
        "    Loads training and test data with ntr and nts training and test samples\n",
        "    The `file_path` is the location of the `eminst-balanced.mat`.\n",
        "    \"\"\"    \n",
        "    \n",
        "    # Load the MATLAB file\n",
        "    mat = scipy.io.loadmat(file_path)\n",
        "    \n",
        "    # Get the training data\n",
        "    Xtr = mat['dataset'][0][0][0][0][0][0][:]\n",
        "    ntr = Xtr.shape[0]\n",
        "    ytr = mat['dataset'][0][0][0][0][0][1][:].reshape(ntr).astype(int)\n",
        "    \n",
        "    # Get the test data\n",
        "    Xts = mat['dataset'][0][0][1][0][0][0][:]\n",
        "    nts = Xts.shape[0]\n",
        "    yts = mat['dataset'][0][0][1][0][0][1][:].reshape(nts).astype(int)\n",
        "    \n",
        "    print(\"%d training samples, %d test samples loaded\" % (ntr, nts))\n",
        "\n",
        "    return [Xtr, Xts, ytr, yts]"
      ]
    },
    {
      "cell_type": "markdown",
      "metadata": {
        "id": "KavdUni3bFC2"
      },
      "source": [
        "Use the function above to get all the digit images from the `emnist-digits.mat` file.  "
      ]
    },
    {
      "cell_type": "code",
      "execution_count": 62,
      "metadata": {
        "collapsed": true,
        "id": "Lqy90V5jbFC2",
        "colab": {
          "base_uri": "https://localhost:8080/"
        },
        "outputId": "2f916e7b-f432-4df4-937b-b519f3d80766"
      },
      "outputs": [
        {
          "output_type": "stream",
          "name": "stdout",
          "text": [
            "240000 training samples, 40000 test samples loaded\n"
          ]
        }
      ],
      "source": [
        "# TODO 1:  Load the digit data from emnist-digits.mat\n",
        "# Xtr_dig, Xts_dig, ytr_dig, yts_dig = ...\n",
        "Xtr_dig, Xts_dig, ytr_dig, yts_dig = load_emnist(digits_fn)"
      ]
    },
    {
      "cell_type": "markdown",
      "metadata": {
        "id": "RZVWwGP0bFC2"
      },
      "source": [
        "Next, use the function above to get all the letter characters from the `emnist-letters.mat` file.  "
      ]
    },
    {
      "cell_type": "code",
      "execution_count": 63,
      "metadata": {
        "collapsed": true,
        "id": "eA0L9ipdbFC2",
        "colab": {
          "base_uri": "https://localhost:8080/"
        },
        "outputId": "9d0a6eac-c320-401c-d6d6-e14e55e69e74"
      },
      "outputs": [
        {
          "output_type": "stream",
          "name": "stdout",
          "text": [
            "124800 training samples, 20800 test samples loaded\n"
          ]
        }
      ],
      "source": [
        "# TODO 2:  Load the letter data from emnist-letters.mat\n",
        "# Xtr_let, Xts_let, ytr_let, yts_let = ...\n",
        "Xtr_let, Xts_let, ytr_let, yts_let = load_emnist(letters_fn)"
      ]
    },
    {
      "cell_type": "markdown",
      "metadata": {
        "id": "Mr_vucZmbFC2"
      },
      "source": [
        "We will use the function from the demo to plot the digits."
      ]
    },
    {
      "cell_type": "code",
      "execution_count": 64,
      "metadata": {
        "collapsed": true,
        "id": "58z1-EyObFC2"
      },
      "outputs": [],
      "source": [
        "def plt_digit(x,y=None):\n",
        "    nrow = 28\n",
        "    ncol = 28\n",
        "    xsq = x.reshape((nrow,ncol))\n",
        "    plt.imshow(xsq.T,  cmap='Greys_r')\n",
        "    plt.xticks([])\n",
        "    plt.yticks([])    \n",
        "    if y != None:\n",
        "        plt.title('%d' % y)        "
      ]
    },
    {
      "cell_type": "markdown",
      "metadata": {
        "id": "VWh3fcvRbFC2"
      },
      "source": [
        "Plot 8 random samples from the digit training data.  You can use the `plt_digit` function above with `subplot` to create a nice display.  You may want to size your plot with the `plt.figure(figsize=(10,20))` command."
      ]
    },
    {
      "cell_type": "code",
      "execution_count": 65,
      "metadata": {
        "collapsed": true,
        "id": "ZWeqvGNzbFC2",
        "colab": {
          "base_uri": "https://localhost:8080/",
          "height": 86
        },
        "outputId": "d2639f3e-9386-46be-c51a-9371a97e40c5"
      },
      "outputs": [
        {
          "output_type": "display_data",
          "data": {
            "text/plain": [
              "<Figure size 432x288 with 8 Axes>"
            ],
            "image/png": "[encoded data removed]"
          },
          "metadata": {}
        }
      ],
      "source": [
        "# TODO 3:  Plot 8 random samples from the training data of the digits\n",
        "\n",
        "\n",
        "samples = Xtr_dig.shape[0]\n",
        "permutation = np.random.permutation(samples)\n",
        "# Plot the images using the subplot command\n",
        "\n",
        "for i in range(8):\n",
        "  perm = permutation[i]\n",
        "  plt.subplot(1,8,i+1)\n",
        "  plt_digit(Xtr_dig[perm,:], ytr_dig[perm])"
      ]
    },
    {
      "cell_type": "markdown",
      "metadata": {
        "id": "ERcg_kyjbFC3"
      },
      "source": [
        "Next, plot 8 samples from the letters training data.  You should see that the labels go from 0 to 25 corresponding to `a` to `z`.  Upper and lower case letters belong to the same class."
      ]
    },
    {
      "cell_type": "code",
      "execution_count": 66,
      "metadata": {
        "collapsed": true,
        "id": "d44qSLVzbFC3",
        "colab": {
          "base_uri": "https://localhost:8080/",
          "height": 86
        },
        "outputId": "c20e5494-7aee-4cda-b146-275c9b6361f5"
      },
      "outputs": [
        {
          "output_type": "display_data",
          "data": {
            "text/plain": [
              "<Figure size 432x288 with 8 Axes>"
            ],
            "image/png": "[encoded data removed]"
          },
          "metadata": {}
        }
      ],
      "source": [
        "# TODO 4:  Plot 8 random samples from the training data of the letters\n",
        "\n",
        "samples = Xtr_let.shape[0]\n",
        "permutation = np.random.permutation(samples)\n",
        "# Plot the images using the subplot command\n",
        "\n",
        "for i in range(8):\n",
        "  perm = permutation[i]\n",
        "  plt.subplot(1,8,i+1)\n",
        "  plt_digit(Xtr_let[perm,:], ytr_let[perm])"
      ]
    },
    {
      "cell_type": "markdown",
      "metadata": {
        "id": "tAGe_7TybFC3"
      },
      "source": [
        "## Creating a Non-Digit Class\n",
        "\n",
        "SVM classifiers are VERY SLOW to train.  The training is particularly slow when there are a large number of classes, since the one classifier must be trained for each pair of labels.  To make the problem easier, we are going to lump all of the letters in one class and add that class to the digits.  \n",
        "\n",
        "Before we begin, we first need to remove all the letters corresponding to `i/I`, `l/L` and `o/O`.  The reason is that these letters would get confused with the digits `0` and `1`.  Create arrays `Xtr_let_rem` and `ytr_let_rem` from the data `Xtr_let` and `ytr_let`, where the samples `i` with `ytr_let[i] == 9, 12` or `15` are removed.   Create `Xts_let_rem` and `yts_let_rem` similarly.\n",
        "\n",
        "If you are clever, you can do this without a for-loop via python broadcasting and `np.all(..., axis=1)` command.  But, you will receive full marks if you use a `for-loop`."
      ]
    },
    {
      "cell_type": "code",
      "execution_count": 67,
      "metadata": {
        "collapsed": true,
        "id": "j-wZ4vI-bFC3"
      },
      "outputs": [],
      "source": [
        "remove_list = np.array([9,12,15])\n",
        "\n",
        "# TODO 5:  Create arrays with labels 9, 12 and 15 removed\n",
        "# Xtr_let_rem, ytr_let_rem = ...\n",
        "# Xts_let_rem, yts_let_rem = ...\n",
        "\n",
        "removed = np.all(ytr_let[:,None] != remove_list[None,:], axis=1)\n",
        "\n",
        "Xtr_let_rem = Xtr_let[removed,:]\n",
        "ytr_let_rem = ytr_let[removed]\n",
        "\n",
        "removed = np.all(yts_let[:,None] != remove_list[None,:], axis=1)\n",
        "\n",
        "Xts_let_rem = Xts_let[removed,:]\n",
        "yts_let_rem = yts_let[removed]"
      ]
    },
    {
      "cell_type": "markdown",
      "metadata": {
        "id": "RiVUR_gXbFC3"
      },
      "source": [
        "Since training and testing an SVM is VERY SLOW, we will use only a small subset of the training and test data.  Of course, you will not get great results with this small dataset.  But, we can at least illustrate the basic concepts.  \n",
        "\n",
        "Create arrays `Xtr1_dig` and `ytr1_dig` by selecting 5000 random training digit samples from `Xtr_dig` and `ytr_dig`.  Create arrays `Xtr1_let` and `ytr1_let` by selecting 1000 random training letter samples from `Xtr_let_rem` and `ytr_let_rem`.  Similarly, create test arrays `Xts1_dig,Xts1_let,yts1_dig,yts1_let` with 5000 digits and 1000 letters."
      ]
    },
    {
      "cell_type": "code",
      "execution_count": 68,
      "metadata": {
        "collapsed": true,
        "id": "Q0p0gqvvbFC3"
      },
      "outputs": [],
      "source": [
        "# Number of training and test digits and letters\n",
        "ntr_dig = 5000\n",
        "ntr_let = 1000\n",
        "nts_dig = 5000\n",
        "nts_let = 1000\n",
        "\n",
        "# TODO 6 Create sub-sampled training and test data\n",
        "# Xtr1_dig, ytr1_dig = ...\n",
        "# Xts1_dig, yts1_dig = ...\n",
        "# Xtr1_let, ytr1_let = ...\n",
        "# Xts1_let, yts1_let = ... \n",
        "\n",
        "def randomselector(X,y,n):\n",
        "    n0 = X.shape[0]\n",
        "    permutation = np.random.permutation(n0)\n",
        "    X = X[permutation[:n],:]\n",
        "    Y = y[permutation[:n]]\n",
        "    return X,Y\n",
        "\n",
        "\n",
        "Xtr1_dig, ytr1_dig = randomselector(Xtr_dig,ytr_dig,ntr_dig)\n",
        "Xts1_dig, yts1_dig = randomselector(Xts_dig,yts_dig,nts_dig)\n",
        "Xtr1_let, ytr1_let = randomselector(Xtr_let_rem,ytr_let_rem,ntr_let)\n",
        "Xts1_let, yts1_let = randomselector(Xts_let_rem,yts_let_rem,nts_let)"
      ]
    },
    {
      "cell_type": "markdown",
      "metadata": {
        "id": "b7D8_4ZMbFC3"
      },
      "source": [
        "Next, we create data by combining the digit and letter arrays.\n",
        "* Create an array `Xtr` by stacking `Xtr1_dig`, `Xtr1_let`.  This should result in 6000 total samples.\n",
        "* Create a new label vector `ytr` where `ytr[i] = ytr1_dig[i]` for any digit sample and `ytr[i]=10` for any letter sample.  Thus, all the letters are lumped into a single class with label 11.\n",
        "\n",
        "Create test arrays `Xts` and `yts` similarly. \n",
        "\n",
        "You may wish to use the `np.hstack` and `np.vstack` methods."
      ]
    },
    {
      "cell_type": "code",
      "execution_count": 69,
      "metadata": {
        "collapsed": true,
        "id": "TGp6_-bLbFC3"
      },
      "outputs": [],
      "source": [
        "# TODO 7:  Create combined letter and digit training and test data\n",
        "# Xtr, ytr = ..\n",
        "# Xts, yts = ...\n",
        "YTRSAMP=10\n",
        "\n",
        "Xtr = np.vstack((Xtr1_dig,Xtr1_let))\n",
        "ytr = np.hstack((ytr1_dig, YTRSAMP*np.ones(ntr_let,dtype='int')))\n",
        "\n",
        "Xts = np.vstack((Xts1_dig,Xts1_let))\n",
        "yts = np.hstack((yts1_dig, YTRSAMP*np.ones(nts_let,dtype='int')))"
      ]
    },
    {
      "cell_type": "markdown",
      "metadata": {
        "id": "WFIT7dYobFC3"
      },
      "source": [
        "The training data above takes values from 0 to 255.  Rescale the data from -1 to 1.  This will get slightly better performance on the SVM.  Save the scaled data into arrays `Xtr1` and `Xts1`."
      ]
    },
    {
      "cell_type": "code",
      "execution_count": 70,
      "metadata": {
        "collapsed": true,
        "id": "YsKhkO3ybFC3"
      },
      "outputs": [],
      "source": [
        "# TODO 8:  Rescale the data from -1 to 1\n",
        "# Xtr1 = ...\n",
        "# Xts1 = ...\n",
        "\n",
        "Xtr1 = 2*Xtr/255.0 - 1\n",
        "Xts1 = 2*Xts/255.0 - 1"
      ]
    },
    {
      "cell_type": "markdown",
      "metadata": {
        "id": "27mGg3FEbFC3"
      },
      "source": [
        "## Run the SVM classifier\n",
        "\n",
        "First create the SVM classifer. Use an `rbf` classifier with `C=2.8` and `gamma=.0073`. We will look at how to select these parameters laters."
      ]
    },
    {
      "cell_type": "code",
      "execution_count": 71,
      "metadata": {
        "collapsed": true,
        "id": "Xrjg-bI1bFC3"
      },
      "outputs": [],
      "source": [
        "from sklearn import svm\n",
        "\n",
        "# TODO 9:  Create a classifier: a support vector classifier\n",
        "# svc = ...\n",
        "\n",
        "svc = svm.SVC(probability=False, kernel=\"rbf\", C=2.8, gamma=.0073, verbose=10)"
      ]
    },
    {
      "cell_type": "markdown",
      "metadata": {
        "id": "4WlY55fdbFC3"
      },
      "source": [
        "Fit the classifier using the scaled training data.  SVMs are insanely slow to train.  But, in this lab, we have kept the training size very small. So, the fitting should take about a minute or two."
      ]
    },
    {
      "cell_type": "code",
      "execution_count": 72,
      "metadata": {
        "collapsed": true,
        "id": "D5YuECo5bFC4",
        "colab": {
          "base_uri": "https://localhost:8080/"
        },
        "outputId": "a4f9073e-2fdc-4a85-eadd-f974ef3254b3"
      },
      "outputs": [
        {
          "output_type": "stream",
          "name": "stdout",
          "text": [
            "[LibSVM]"
          ]
        },
        {
          "output_type": "execute_result",
          "data": {
            "text/plain": [
              "SVC(C=2.8, gamma=0.0073, verbose=10)"
            ]
          },
          "metadata": {},
          "execution_count": 72
        }
      ],
      "source": [
        "# TODO 10:  Fit the classifier on the training data. \n",
        "\n",
        "svc.fit(Xtr1,ytr)"
      ]
    },
    {
      "cell_type": "markdown",
      "metadata": {
        "id": "C3JPvuA_bFC4"
      },
      "source": [
        "Measure the accuracy on the test data.  This too will take another huge amount of time.  Print the accuracy.  If you did everything right, you should get an accuracy of around 89%."
      ]
    },
    {
      "cell_type": "code",
      "execution_count": 73,
      "metadata": {
        "collapsed": true,
        "id": "uoyVgaFZbFC4",
        "colab": {
          "base_uri": "https://localhost:8080/"
        },
        "outputId": "7ae5afb6-bc93-4dd0-be4f-cc06f4cdfa2d"
      },
      "outputs": [
        {
          "output_type": "stream",
          "name": "stdout",
          "text": [
            "0.8983333333333333\n"
          ]
        }
      ],
      "source": [
        "# TODO 11:  Measure error on the test data\n",
        "\n",
        "yhat = svc.predict(Xts1)\n",
        "accuracy=np.mean(yhat == yts)\n",
        "print(accuracy)"
      ]
    },
    {
      "cell_type": "markdown",
      "metadata": {
        "id": "SzcqR2PRbFC4"
      },
      "source": [
        "The error rate is quite a bit higher than what we got in the digits only case.  Actually, had we done a classifier using all 36 labels instead of collapsing the letters to a single class, the SVM classifier would have done much better.  The reason is that the \"letters\" class is now extremely complex.  \n",
        "\n",
        "Print a confusion matrix.  You should see that the error rate on the \"letters\" class is much higher."
      ]
    },
    {
      "cell_type": "code",
      "execution_count": 74,
      "metadata": {
        "collapsed": true,
        "id": "zhHB5RH9bFC4",
        "colab": {
          "base_uri": "https://localhost:8080/",
          "height": 484
        },
        "outputId": "33204ff4-7283-4ced-aa83-13a2bd93286a"
      },
      "outputs": [
        {
          "output_type": "stream",
          "name": "stdout",
          "text": [
            "[[0.955 0.    0.    0.    0.004 0.    0.    0.002 0.002 0.    0.018]\n",
            " [0.    0.978 0.    0.    0.    0.    0.    0.    0.    0.    0.011]\n",
            " [0.    0.002 0.908 0.004 0.    0.    0.002 0.004 0.002 0.    0.039]\n",
            " [0.    0.    0.01  0.933 0.    0.01  0.    0.006 0.019 0.    0.009]\n",
            " [0.    0.    0.    0.    0.931 0.    0.    0.    0.    0.012 0.029]\n",
            " [0.    0.006 0.    0.008 0.002 0.905 0.006 0.    0.002 0.004 0.035]\n",
            " [0.002 0.    0.    0.    0.    0.002 0.947 0.    0.    0.    0.024]\n",
            " [0.    0.004 0.    0.004 0.008 0.    0.    0.928 0.002 0.033 0.01 ]\n",
            " [0.    0.01  0.002 0.015 0.006 0.002 0.004 0.    0.86  0.014 0.049]\n",
            " [0.002 0.006 0.    0.01  0.02  0.006 0.    0.018 0.006 0.912 0.009]\n",
            " [0.041 0.028 0.076 0.029 0.067 0.075 0.049 0.022 0.026 0.057 0.764]]\n"
          ]
        },
        {
          "output_type": "execute_result",
          "data": {
            "text/plain": [
              "<matplotlib.colorbar.Colorbar at 0x7fb2d0f2f290>"
            ]
          },
          "metadata": {},
          "execution_count": 74
        },
        {
          "output_type": "display_data",
          "data": {
            "text/plain": [
              "<Figure size 432x288 with 2 Axes>"
            ],
            "image/png": "[encoded data removed]"
          },
          "metadata": {
            "needs_background": "light"
          }
        }
      ],
      "source": [
        "# TODO 12:  Print a confusion matrix\n",
        "\n",
        "from sklearn.metrics import confusion_matrix\n",
        "C = confusion_matrix(yts,yhat)\n",
        "# Normalize the confusion matrix\n",
        "Csum = np.sum(C,1)\n",
        "C = C / Csum[None,:]\n",
        "# Print the confusion matrix\n",
        "print(np.array_str(C, precision=3, suppress_small=True))\n",
        "plt.imshow(C, interpolation='none')\n",
        "plt.colorbar()\n",
        "\n",
        "\n"
      ]
    },
    {
      "cell_type": "markdown",
      "metadata": {
        "id": "j1ZfSr1ZbFC4"
      },
      "source": [
        "Print:\n",
        "* What fraction of digits are mislabeled as letters?  \n",
        "* What fraction of letters are mislabeled as digits?"
      ]
    },
    {
      "cell_type": "code",
      "execution_count": 75,
      "metadata": {
        "collapsed": true,
        "id": "zLLmrqXBbFC4",
        "colab": {
          "base_uri": "https://localhost:8080/"
        },
        "outputId": "6e099b25-65ab-4ba0-80f3-432d96a08f9e"
      },
      "outputs": [
        {
          "output_type": "stream",
          "name": "stdout",
          "text": [
            "Fraction of digits are mislabeled as letters =      3.8833e-02\n",
            "Fraction of letters are mislabeled as digits =      3.9333e-02\n"
          ]
        }
      ],
      "source": [
        "# TODO 13:  Print above two error rates\n",
        "sample=10\n",
        "\n",
        "errordl = np.mean((yhat == sample) & (yts < sample))\n",
        "errorld = np.mean((yhat < sample) & (yts == sample))\n",
        "\n",
        "print('Fraction of digits are mislabeled as letters = %15.4e' % errordl)\n",
        "print('Fraction of letters are mislabeled as digits = %15.4e' % errorld)"
      ]
    },
    {
      "cell_type": "markdown",
      "metadata": {
        "id": "FUHqLsZLbFC4"
      },
      "source": [
        "## Selecting gamma and C via Cross-Validation (Using For-Loops)\n",
        "\n",
        "In the above example, and in the demo, we used a given `gamma` and `C` value.  The selection of the parameters depend on the problem and decent performance of the SVM requires that you select these parameters carefully.  The best way to select the parameters is via cross validation.  Specifically, generally, one tries different values of `gamma` and `C` and selects the pair of values the lowest test error rate.\n",
        "\n",
        "In the code below, we will try to use 3 values for `C` and `gamma` as specified in the arrays `C_test` and `gam_test`.  For each `C` and `gamma` in these arrays, fit a model on the training data and measure the accuracy on the test data.  Then, print the `C` and `gamma` that result in the best accuracy.   \n",
        "\n",
        "Normally, you would try a large number of values for each of the parameters, but an SVM is very slow to train -- even with this small data set.  So, we will just do 3 values of each.  Even then, this could take 30 minutes or so to complete. \n",
        "\n",
        "In this lab, you may do the parameter search over `C` and `gamma` in one of two ways:\n",
        "* This section:  Use for loops and manually search over the parameters.  This is more direct and you will see and control exactly what is happening.\n",
        "* Next section:  Use the `GridSearchCV` method in the `sklearn` package.  This takes a little reading, but once you learn this method, you can more easily use this for complex parameter searches.\n",
        "\n",
        "**You only need to submit the solutions to one of the two sections.**  Pick whichever one you want."
      ]
    },
    {
      "cell_type": "code",
      "execution_count": 76,
      "metadata": {
        "collapsed": true,
        "id": "5c_8aIpkbFC4",
        "colab": {
          "base_uri": "https://localhost:8080/"
        },
        "outputId": "9bfd4727-4ceb-4deb-f00a-241149222004"
      },
      "outputs": [
        {
          "output_type": "stream",
          "name": "stdout",
          "text": [
            "[LibSVM]C=  1.0000e-01 gam=  1.0000e-03 acc=0.498167\n",
            "[LibSVM]C=  1.0000e-01 gam=  1.0000e-02 acc=0.818167\n",
            "[LibSVM]C=  1.0000e-01 gam=  1.0000e-01 acc=0.223000\n",
            "[LibSVM]C=  1.0000e+00 gam=  1.0000e-03 acc=0.824333\n",
            "[LibSVM]C=  1.0000e+00 gam=  1.0000e-02 acc=0.892500\n",
            "[LibSVM]C=  1.0000e+00 gam=  1.0000e-01 acc=0.387833\n",
            "[LibSVM]C=  1.0000e+01 gam=  1.0000e-03 acc=0.857333\n",
            "[LibSVM]C=  1.0000e+01 gam=  1.0000e-02 acc=0.907333\n",
            "[LibSVM]C=  1.0000e+01 gam=  1.0000e-01 acc=0.437000\n"
          ]
        }
      ],
      "source": [
        "C_test = [0.1,1,10]\n",
        "gam_test = [0.001,0.01,0.1]\n",
        "\n",
        "nC = len(C_test)\n",
        "ngam = len(gam_test)\n",
        "acc = np.zeros((nC,ngam))\n",
        "\n",
        "# TODO 14:  Measure and print the accuracy for each C and gamma value.  Store the results in acc\n",
        "for i, C in enumerate(C_test):\n",
        "  for j, gma in enumerate(gam_test):\n",
        " \n",
        "    svc = svm.SVC(probability=False, kernel=\"rbf\", C=C,gamma=gma,verbose=10)\n",
        "    svc.fit(Xtr1,ytr)\n",
        "\n",
        "    yhat = svc.predict(Xts1)\n",
        "    acc[i,j] = np.mean(yhat == yts)\n",
        "    print('C=%12.4e gam=%12.4e acc=%f' % (C,gma,acc[i,j]))\n",
        "\n",
        "\n",
        "\n",
        "\n",
        "\n"
      ]
    },
    {
      "cell_type": "code",
      "execution_count": 77,
      "metadata": {
        "collapsed": true,
        "id": "ed0VJNPPbFC4",
        "colab": {
          "base_uri": "https://localhost:8080/"
        },
        "outputId": "c376812b-a1dc-4a97-dc65-2d4f29c02f45"
      },
      "outputs": [
        {
          "output_type": "stream",
          "name": "stdout",
          "text": [
            "[[0.49816667 0.81816667 0.223     ]\n",
            " [0.82433333 0.8925     0.38783333]\n",
            " [0.85733333 0.90733333 0.437     ]]\n"
          ]
        }
      ],
      "source": [
        "# TODO 15:  Print the accuracy matrix\n",
        "print(acc)"
      ]
    },
    {
      "cell_type": "code",
      "execution_count": 78,
      "metadata": {
        "collapsed": true,
        "id": "g5dRKQGSbFC4",
        "colab": {
          "base_uri": "https://localhost:8080/"
        },
        "outputId": "e26cad1d-d870-41c4-eb45-acc6f4253c5f"
      },
      "outputs": [
        {
          "output_type": "stream",
          "name": "stdout",
          "text": [
            "Max accuracy =   9.0733e-01\n",
            "Corresponding best C=  1.0000e+01 \n",
            "Corresponding best Gamma=   1.0000e-02\n"
          ]
        }
      ],
      "source": [
        "# TODO 16:  Print the maximum accuracy and the corresponding best C and gamma\n",
        "\n",
        "MaxAccuracy = np.max(acc)\n",
        "mcg = np.argmax(acc)\n",
        "\n",
        "x, y = np.unravel_index(mcg, (nC,ngam))\n",
        "\n",
        "print('Max accuracy = %12.4e' % MaxAccuracy)\n",
        "print('Corresponding best C=%12.4e ' % C_test[x])\n",
        "                                                    \n",
        "print('Corresponding best Gamma= %12.4e' % gam_test[y])                                                  "
      ]
    },
    {
      "cell_type": "markdown",
      "metadata": {
        "collapsed": true,
        "id": "_CAkafA7bFC4"
      },
      "source": [
        "## Using `GridSearchCV` (Optional Section)\n",
        "\n",
        "\n",
        "In the previous section, you would have likely used `for-loops` to search over the different `C` and `gamma` values.  Since this type of parameter search is so commonly used, `sklearn` has an excellent method `GridSearchCV` that can perform all the operations for you.  In this lab, `GridSearchCV` is not that useful.  But, once you get to more complex parameter searches, the `GridSearchCV` method can save you writing a lot of code.  Importantly, `GridSearchCV` supports parallelization so that fits with different parameters can be fit at the same time.  In this optional section, we will show how to use this method.  \n",
        "\n",
        "**You do not have to do this section, if you did the previous section**.  "
      ]
    },
    {
      "cell_type": "markdown",
      "metadata": {
        "id": "B5nHrfBabFC5"
      },
      "source": [
        "The `GridSearchCV` method does the train-test split in addition to the parameter search.  In this case, you have already a fixed train-test split.  So, you first need to combine the train and test data back into a single dataset.\n",
        "\n",
        "Create arrays `X` and `y` from `Xtr1`, `Xts1`, `ytr` and `yts`.  Use `np.vstack` and `np.hstack`."
      ]
    },
    {
      "cell_type": "code",
      "execution_count": 79,
      "metadata": {
        "collapsed": true,
        "id": "BXlmWsp7bFC5"
      },
      "outputs": [],
      "source": [
        "# TODO 17:  Create combined trained and test data X and y.\n",
        "# X = ...\n",
        "# y = ..."
      ]
    },
    {
      "cell_type": "markdown",
      "metadata": {
        "id": "twnxyGwfbFC5"
      },
      "source": [
        "Normally, `GridSearchCV` will do $K$-fold validation and automatically split the data into training and test in each fold.  But, in this case, we want it to perform only one fold with a specific train-test split.  To do this, we need to do the following:\n",
        "* Create a vector `test_fold` where `test_fold[i] = -1` for the samples `i` in the training data (this indicates that they should not be used as test data in any fold) and `test_fold[i] = 0` for the samples `i` in the test data (this indicates that they should be as test data in fold 0).\n",
        "* Call the method  `ps = sklearn.model_selection.PredefinedSplit(test_fold)` to create a predefined test split object."
      ]
    },
    {
      "cell_type": "code",
      "execution_count": 80,
      "metadata": {
        "collapsed": true,
        "id": "LCUY99OvbFC5"
      },
      "outputs": [],
      "source": [
        "# TODO 18:  Create a pre-defined test split object \n",
        "# import sklearn.model_selection\n",
        "# test_fold = ...\n",
        "# ps = sklearn.model_selection.PredefinedSplit(test_fold)"
      ]
    },
    {
      "cell_type": "markdown",
      "metadata": {
        "id": "6HAaSEfDbFC5"
      },
      "source": [
        "Next, read about the `GridSearchCV` method to set up a classifier that includes searching over the parameter grid.  \n",
        "* For the `param_grid` parameter, you will want to create a dictionary to search over `C` and `gamma`.  You will also need to select the `kernel` parameter.\n",
        "* Set `cv = ps` to use the fixed train-test split.\n",
        "* Set `verbose=10` to monitor the progress"
      ]
    },
    {
      "cell_type": "code",
      "execution_count": 81,
      "metadata": {
        "collapsed": true,
        "id": "b8luJVnybFC5"
      },
      "outputs": [],
      "source": [
        "# TODO 19:  Create a GridSearchCV classifier\n",
        "# clf = ..."
      ]
    },
    {
      "cell_type": "markdown",
      "metadata": {
        "id": "p3PBUoxYbFC5"
      },
      "source": [
        "Fit the classifier using the `fit` method.  The fit method will now search over all the parameters. This will take about 30 minutes."
      ]
    },
    {
      "cell_type": "code",
      "execution_count": 82,
      "metadata": {
        "collapsed": true,
        "id": "GCsyvS0BbFC5"
      },
      "outputs": [],
      "source": [
        "# TODO 20: Fit the classifier"
      ]
    },
    {
      "cell_type": "markdown",
      "metadata": {
        "id": "7M0euDIObFC5"
      },
      "source": [
        "Print the `best_score_` and `best_params_` attributes of the classifier to find the best score and parameters"
      ]
    },
    {
      "cell_type": "code",
      "execution_count": 83,
      "metadata": {
        "collapsed": true,
        "id": "7DRauA40bFC5"
      },
      "outputs": [],
      "source": [
        "# TODO 21:  Print the best parameter and score of the classifier"
      ]
    },
    {
      "cell_type": "markdown",
      "metadata": {
        "id": "pvATvHvqbFC5"
      },
      "source": [
        "Finally, you can print the test and train score from the `cv_results_['mean_test_score']` and `cv_results_['mean_train_score']`."
      ]
    },
    {
      "cell_type": "code",
      "execution_count": 84,
      "metadata": {
        "collapsed": true,
        "id": "eGVTbrKcbFC5"
      },
      "outputs": [],
      "source": [
        "# TODO 22:  Print the mean test score for each parameter value."
      ]
    },
    {
      "cell_type": "code",
      "execution_count": 84,
      "metadata": {
        "collapsed": true,
        "id": "iJSAE63mbFC5"
      },
      "outputs": [],
      "source": []
    }
  ],
  "metadata": {
    "kernelspec": {
      "display_name": "Python 3",
      "language": "python",
      "name": "python3"
    },
    "language_info": {
      "codemirror_mode": {
        "name": "ipython",
        "version": 3
      },
      "file_extension": ".py",
      "mimetype": "text/x-python",
      "name": "python",
      "nbconvert_exporter": "python",
      "pygments_lexer": "ipython3",
      "version": "3.8.5"
    },
    "colab": {
      "provenance": [],
      "collapsed_sections": []
    }
  },
  "nbformat": 4,
  "nbformat_minor": 0
}
