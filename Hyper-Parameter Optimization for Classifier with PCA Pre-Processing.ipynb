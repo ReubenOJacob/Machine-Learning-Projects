{
  "cells": [
    {
      "cell_type": "markdown",
      "metadata": {
        "id": "ppCEXEpPiHcP"
      },
      "source": [
        "# Lab:  Hyper-Parameter Optimization with PCA\n",
        "\n",
        "PCA is often applied as a pre-processing step with classifiers.  When using PCA in this manner, one must select the number of PC components to use along with parameters in classifier.  In this lab, we will demonstrate how to performing this *hyper-parameter optimization*.  In doing the lab, you will learn to:\n",
        "\n",
        "* Combine PCA with data scaling.\n",
        "* Compute and visualize PC components\n",
        "* Select the number of PCs with K-fold cross validation\n",
        "* Implement the multi-stage classifier pipeline in sklearn\n",
        "* Perform automatic parameter search using `GridSearchCV` in combination with a pipeline.\n",
        "\n",
        "We first download the basic packages."
      ]
    },
    {
      "cell_type": "code",
      "execution_count": 54,
      "metadata": {
        "id": "JmyNITUxiHcS"
      },
      "outputs": [],
      "source": [
        "import numpy as np\n",
        "import matplotlib\n",
        "import matplotlib.pyplot as plt"
      ]
    },
    {
      "cell_type": "markdown",
      "metadata": {
        "id": "o46EFcAyiHcT"
      },
      "source": [
        "## Downloading the Data\n",
        "\n",
        "We will use a very simple `wine` dataset, commonly used in teaching machine learning class.  The problem is to classify the type of red wine from features of the wine such as the `alchohol` and other chemical components.  There are three possible wine types."
      ]
    },
    {
      "cell_type": "code",
      "execution_count": 55,
      "metadata": {
        "id": "jCrkrJB5iHcT",
        "colab": {
          "base_uri": "https://localhost:8080/"
        },
        "outputId": "6eb61990-93e9-4983-d168-3386056963d6"
      },
      "outputs": [
        {
          "output_type": "stream",
          "name": "stdout",
          "text": [
            "Feature names: ['alcohol', 'malic_acid', 'ash', 'alcalinity_of_ash', 'magnesium', 'total_phenols', 'flavanoids', 'nonflavanoid_phenols', 'proanthocyanins', 'color_intensity', 'hue', 'od280/od315_of_diluted_wines', 'proline']\n",
            "Target names: ['class_0' 'class_1' 'class_2']\n"
          ]
        }
      ],
      "source": [
        "from sklearn.datasets import load_wine\n",
        "from sklearn.model_selection import KFold\n",
        "data = load_wine()\n",
        "\n",
        "# TODO 1: print the features names in data.feature_names and data.target_names\n",
        "\n",
        "print('Feature names:', data.feature_names)\n",
        "print('Target names:', data.target_names)"
      ]
    },
    {
      "cell_type": "markdown",
      "metadata": {
        "id": "O43abWRXiHcU"
      },
      "source": [
        "Get the data matrix `X` from `data.data` and the target values `y` from `data.target`.  Print the number of samples, number of features and number of classes."
      ]
    },
    {
      "cell_type": "code",
      "execution_count": 56,
      "metadata": {
        "id": "RDwJknP3iHcU",
        "colab": {
          "base_uri": "https://localhost:8080/"
        },
        "outputId": "71244d4f-53dc-42e1-97e1-dfd62c84088d"
      },
      "outputs": [
        {
          "output_type": "stream",
          "name": "stdout",
          "text": [
            "No of samples: 178\n",
            "No of features: 13\n",
            "No of classes: 3\n"
          ]
        }
      ],
      "source": [
        "# TODO 2:\n",
        "#    X = ...\n",
        "#    y = ...\n",
        "\n",
        "X = data.data\n",
        "y = data.target\n",
        "\n",
        "print('No of samples:', np.shape(X)[0])\n",
        "print('No of features:', np.shape(X)[1])\n",
        "print('No of classes:', np.size(np.unique(y)))"
      ]
    },
    {
      "cell_type": "markdown",
      "metadata": {
        "id": "3wNhxuL-iHcU"
      },
      "source": [
        "## Perform PCA for Visualization\n",
        "\n",
        "Before performing PCA, you should scale the data matrix to remove the mean and normalize the variance of the different components.  For this purpose, create a `StandardScaling` object `scaling`.  Then `fit` the scaling with the entire data `X`.  Transform the data and let `Xs` be the scaled data."
      ]
    },
    {
      "cell_type": "code",
      "execution_count": 57,
      "metadata": {
        "id": "F2WJZE-WiHcV"
      },
      "outputs": [],
      "source": [
        "from sklearn.preprocessing import StandardScaler\n",
        "\n",
        "# TODO 3:\n",
        "# scaling = ...\n",
        "# scaling.fit(...)\n",
        "# Xs = ...\n",
        "\n",
        "scaling = StandardScaler()\n",
        "scaling.fit(X)\n",
        "Xs = scaling.transform(X)"
      ]
    },
    {
      "cell_type": "markdown",
      "metadata": {
        "id": "Y5cEHzejiHcV"
      },
      "source": [
        "Now, fit a PCA on the scaled data matrix `Xs`.  You can use the `sklearn` `PCA` method.  In order that we can visualize the results set `n_components=2`.  Select `svd_solver='randomized'` and `whiten=True`.  Use the the `pca.transform` method to find, `Z`, the coefficients of `Xs` in the PCA basis."
      ]
    },
    {
      "cell_type": "code",
      "execution_count": 58,
      "metadata": {
        "id": "73Uj8cehiHcW"
      },
      "outputs": [],
      "source": [
        "from sklearn.decomposition import PCA\n",
        "\n",
        "# TODO 4:\n",
        "# ncomp = 2\n",
        "# pca = PCA(...)\n",
        "# Z = ...\n",
        "\n",
        "ncomp = 2\n",
        "pca = PCA(n_components=ncomp, svd_solver='randomized', whiten=True)\n",
        "pca.fit(Xs)\n",
        "Z = pca.transform(Xs)\n",
        "\n",
        "# Construct the PCA object"
      ]
    },
    {
      "cell_type": "markdown",
      "metadata": {
        "id": "00nlVtobiHcW"
      },
      "source": [
        "In the transformed basis, each data sample is represented by a two dimensional vector, `Z[i,0], Z[i,1]`.  Plot a scatter plot of the transformed data.  Use different marker colors for the different classes.  If you did everything, you should see that the classes are quite well separated with even two PCs."
      ]
    },
    {
      "cell_type": "code",
      "execution_count": 59,
      "metadata": {
        "id": "i7LzoNNaiHcW",
        "colab": {
          "base_uri": "https://localhost:8080/",
          "height": 296
        },
        "outputId": "bfb677b2-2f59-494d-dd61-90454942c89f"
      },
      "outputs": [
        {
          "output_type": "execute_result",
          "data": {
            "text/plain": [
              "Text(0, 0.5, 'PC2')"
            ]
          },
          "metadata": {},
          "execution_count": 59
        },
        {
          "output_type": "display_data",
          "data": {
            "text/plain": [
              "<Figure size 432x288 with 1 Axes>"
            ],
            "image/png": "[encoded data removed]"
          },
          "metadata": {
            "needs_background": "light"
          }
        }
      ],
      "source": [
        "# TODO 5:\n",
        "# plt.scatter(...)\n",
        "\n",
        "class1 = np.where(y==0)\n",
        "class2 = np.where(y==1)\n",
        "class3 = np.where(y==2)\n",
        "\n",
        "for i in class1:\n",
        "  plt.scatter(Z[i,0], Z[i,1],color='green', label='Class 1')\n",
        "\n",
        "for i in class2:\n",
        "  plt.scatter(Z[i,0], Z[i,1],color='yellow', label='Class 2')\n",
        "\n",
        "for i in class3:\n",
        "  plt.scatter(Z[i,0], Z[i,1],color='red', label='Class 3' )\n",
        "\n",
        "\n",
        "plt.legend()\n",
        "plt.xlabel('PC1')\n",
        "plt.ylabel('PC2')"
      ]
    },
    {
      "cell_type": "markdown",
      "metadata": {
        "id": "f1Oq-kgpiHcW"
      },
      "source": [
        "Now, refit the scaled data `Xs` using `n_components=nfeatures` where `nfeatures` is the number of features.  This is the maximum number of PCs.  Get the singular values from `pca.singular_values_` and plot the portion of variation as a function of the number of PCs.   The PoV for using `n` PCs is:\n",
        "\n",
        "    PoV[n]  = \\sum_{i=0}^{n-1}  s[i]**2 / \\sum_{i=0}^{d-1}  s[i]**2\n",
        "    \n",
        "where `s[i]` is the `i`-th singular value and `d` is the number of features.  You should see that the 4 PCs contains more than 70% of the variance."
      ]
    },
    {
      "cell_type": "code",
      "execution_count": 60,
      "metadata": {
        "id": "LkX05vxWiHcX",
        "colab": {
          "base_uri": "https://localhost:8080/",
          "height": 400
        },
        "outputId": "620bbaa1-acd8-4c74-c8a3-973a6ed19e38"
      },
      "outputs": [
        {
          "output_type": "stream",
          "name": "stdout",
          "text": [
            "The Singular Values are:\n",
            "[28.94203422 21.08225141 16.04371561 12.78973645 12.32374195 10.68713954\n",
            "  9.90368818  7.8760733   7.17081793  6.6828618   6.33958815  5.48097635\n",
            "  4.28967045]\n",
            "\n",
            "\n"
          ]
        },
        {
          "output_type": "execute_result",
          "data": {
            "text/plain": [
              "Text(0, 0.5, 'PoVs')"
            ]
          },
          "metadata": {},
          "execution_count": 60
        },
        {
          "output_type": "display_data",
          "data": {
            "text/plain": [
              "<Figure size 432x288 with 1 Axes>"
            ],
            "image/png": "[encoded data removed]"
          },
          "metadata": {
            "needs_background": "light"
          }
        }
      ],
      "source": [
        "# TODO 6:\n",
        "\n",
        "nfeatures = np.shape(Xs)[1]\n",
        "pca = PCA(n_components=nfeatures, svd_solver='randomized', whiten=True)\n",
        "pca.fit(Xs)\n",
        "\n",
        "print('The Singular Values are:')\n",
        "print(pca.singular_values_)\n",
        "print('\\n')\n",
        "\n",
        "PoV = np.cumsum(pca.singular_values_**2)/np.sum(pca.singular_values_**2)\n",
        "plt.plot(PoV)\n",
        "plt.xlabel('No of PCs')\n",
        "plt.ylabel('PoVs')"
      ]
    },
    {
      "cell_type": "markdown",
      "metadata": {
        "id": "xj597dSkiHcX"
      },
      "source": [
        "## Using PCA with Classification \n",
        "\n",
        "We will now use data scaling and PCA as a pre-processing step for logistic classification.  The number of PCs to use can be found with cross-validation.  Complete the code below which tries different number of PCs components to use and measures the test accuracy for each value."
      ]
    },
    {
      "cell_type": "code",
      "execution_count": 61,
      "metadata": {
        "id": "8szunllXiHcX"
      },
      "outputs": [],
      "source": [
        "from sklearn.preprocessing import StandardScaler\n",
        "from sklearn.linear_model import LogisticRegression\n",
        "nfold = 5\n",
        "\n",
        "# Create a K-fold object\n",
        "kf = KFold(n_splits=nfold)\n",
        "kf.get_n_splits(X)\n",
        "\n",
        "# Number of PCs to try\n",
        "ncomp_test = np.arange(2,12)\n",
        "num_nc = len(ncomp_test)\n",
        "\n",
        "# Accuracy:  acc[icomp,ifold]  is test accuracy when using `ncomp = ncomp_test[icomp]` in fold `ifold`.\n",
        "acc = np.zeros((num_nc,nfold))\n",
        "\n",
        "\n",
        "# ==============\n",
        "# TODO 7:(combined all)\n",
        "\n",
        "# Loop over number of components to test\n",
        "for icomp, ncomp in enumerate(ncomp_test):\n",
        "    \n",
        "    # Look over the folds\n",
        "    for ifold, I in enumerate(kf.split(X)):\n",
        "        Itr, Its = I\n",
        "\n",
        "        # TODO:  Split data into training \n",
        "        # Xtr, Xts, ytr, yts = ...\n",
        "        Xtr, Xts, ytr, yts = X[Itr], X[Its], y[Itr], y[Its]\n",
        "\n",
        "        # TODO:  Create a scaling object and fit the scaling on the training data\n",
        "        scaler = StandardScaler()\n",
        "        scaler.fit(Xtr)\n",
        "        Xtrscale = scaler.transform(Xtr)\n",
        "\n",
        "        # TODO:  Fit the PCA on the scaled training data\n",
        "        pca = PCA(n_components=ncomp, svd_solver='randomized', whiten=True)\n",
        "        pca.fit(Xtrscale)\n",
        "        Ztr = pca.transform(Xtrscale)\n",
        "\n",
        "        # TODO:  Train a classifier on the transformed training data\n",
        "        # Use a logistic regression classifier\n",
        "        #   logreg = LogisticRegression(multi_class='auto', solver='lbfgs')\n",
        "        logreg = LogisticRegression(multi_class='auto', solver='lbfgs')\n",
        "        logreg.fit(Ztr, ytr)\n",
        "\n",
        "        # TODO:  Transform the test data through data scaler and PCA\n",
        "        Xtsscale = scaler.transform(Xts)\n",
        "        Zpctransform = pca.transform(Xtsscale)\n",
        "\n",
        "        # TODO:  Predict the labels the test data\n",
        "        yhat = logreg.predict(Zpctransform)\n",
        "        \n",
        "        # TODO:  Measure the accuracy \n",
        "        #    acc[icomp, ifold] = ...\n",
        "        acc[icomp, ifold] = np.mean(yhat == yts)\n"
      ]
    },
    {
      "cell_type": "markdown",
      "metadata": {
        "id": "P2BJJ2--iHcX"
      },
      "source": [
        "Use the `plt.errorbar` function to plot the mean accuracy with error bars corresponding to the standard error of the accuracy as a function of the number of components.  Find the optimal number of PCs to use according to the normal rule and one SE rule.  If you did it correctly, you should get an accuracy of around 96%."
      ]
    },
    {
      "cell_type": "code",
      "execution_count": 62,
      "metadata": {
        "id": "usUzvGhdiHcX",
        "colab": {
          "base_uri": "https://localhost:8080/",
          "height": 331
        },
        "outputId": "c4a6a4c9-3668-40dd-fd23-9f55e827a257"
      },
      "outputs": [
        {
          "output_type": "stream",
          "name": "stdout",
          "text": [
            "The optimal accuracy is  0.9553968253968254\n",
            "The optimal number of PsC using normal rule is  11\n",
            "The optimal number of PsC using one SE rule = 7\n"
          ]
        },
        {
          "output_type": "display_data",
          "data": {
            "text/plain": [
              "<Figure size 432x288 with 1 Axes>"
            ],
            "image/png": "[encoded data removed]"
          },
          "metadata": {
            "needs_background": "light"
          }
        }
      ],
      "source": [
        "# TODO 8: (Combined all)\n",
        "# acc_mean = ...\n",
        "# acc_se = ...\n",
        "# plt.errorbar(...)\n",
        "\n",
        "StandarderrorAccuracy = np.std(acc, axis=1) / np.sqrt(nfold-1)\n",
        "MeanAccuracy = np.mean(acc, axis=1)\n",
        "\n",
        "plt.errorbar(ncomp_test, MeanAccuracy, yerr=StandarderrorAccuracy)\n",
        "plt.xlabel('Number of components')\n",
        "plt.ylabel('Mean of Accuracy')\n",
        "\n",
        "# TODO:  Optimal order with the normal rule\n",
        "optorder = np.argmax(MeanAccuracy)\n",
        "print('The optimal accuracy is ', MeanAccuracy[optorder])\n",
        "print(\"The optimal number of PC using normal rule is \", ncomp_test[optorder])\n",
        "\n",
        "# TODO:  Optimal order with one SE rule\n",
        "\n",
        "rsq_tgt = MeanAccuracy[optorder] - StandarderrorAccuracy[optorder]\n",
        "I = np.where(MeanAccuracy >= rsq_tgt)[0]\n",
        "optorder_one_se = I[0]\n",
        "dopt_one_se = ncomp_test[optorder_one_se]\n",
        "print('The optimal number of PC using one SE rule = %d' % dopt_one_se)\n"
      ]
    },
    {
      "cell_type": "markdown",
      "metadata": {
        "id": "xR0zPC9DiHcY"
      },
      "source": [
        "## Hyper-Parameter Optimization with GridCV.\n",
        "\n",
        "We will now try a more complex classifier -- a support vector classifier with a radial basis function.  When we use such a classifer, there will be a number of parameters to tune.  When the number of parameters to tune becomes large, writing a loop over multiple parameters as we did above becomes cumbersome.  The `sklearn` package has a very nice routine, `GridSearchCV` to perform this sort of parameter search.  \n",
        "\n",
        "Before, we do this we need to create an estimator `Pipeline`.  An estimator pipeline is a sequence of transformations followed by an estimator that will operate on the transformed data.  Create the following pipeline:\n",
        "\n",
        "*  Create a `StandardScaler()` object called `scaler` for the first transformation\n",
        "*  Create a `PCA()` object called `pca` for the second transformation\n",
        "*  Create a `SVC()` object called `svc` for the final SVM classifier.  Set the parameter `kernel='rbf'`.\n",
        "\n",
        "Once you have the three steps defined, you can create the pipeline with the command:\n",
        "    \n",
        "    pipe = Pipeline(steps=[('scaler', scaler), ('pca', pca), ('svc', svc)])"
      ]
    },
    {
      "cell_type": "code",
      "execution_count": 63,
      "metadata": {
        "id": "Zu9ibN1ziHcY"
      },
      "outputs": [],
      "source": [
        "from sklearn.pipeline import Pipeline\n",
        "from sklearn.model_selection import GridSearchCV\n",
        "from sklearn.svm import SVC\n",
        "\n",
        "# TODO 9:\n",
        "# scaler = ...\n",
        "# pca = ...\n",
        "# svc = ...\n",
        "# pipe = Pipeline(steps=[('scaler', scaler), ('pca', pca), ('svc', svc)])\n",
        "\n",
        "scaler = StandardScaler()\n",
        "pca = PCA()\n",
        "svc = SVC(kernel=\"rbf\")\n",
        "pipe = Pipeline(steps=[('scaler', scaler), ('pca', pca), ('svc', svc)])"
      ]
    },
    {
      "cell_type": "markdown",
      "metadata": {
        "id": "v229U6p9iHcY"
      },
      "source": [
        "We next define all the parameters that we want to search over.  Define the following arrays:\n",
        "\n",
        "*  `ncomp_test`:  values from 3 to 10 representing number of PCs to test\n",
        "*  `C_test`:  values of `C` in the SVC to test.  Use `10^{-2}, 10^{-1}, ... ,10^{3}` \n",
        "*  `gam_test`:  values of `gamma` in the SVC to test.  Use `10^{-3}, 10^{-2}, ... ,10^{1}` "
      ]
    },
    {
      "cell_type": "code",
      "execution_count": 64,
      "metadata": {
        "id": "52Sal74LiHcY"
      },
      "outputs": [],
      "source": [
        "# TODO 10:\n",
        "# ncomp_test = ...\n",
        "# c_test = ...\n",
        "# gam_test = ...\n",
        "\n",
        "ncomp_test = np.arange(3,11)\n",
        "c_test = pow(10.0, np.arange(-2,4))\n",
        "gam_test = pow(10.0, np.arange(-3,2))"
      ]
    },
    {
      "cell_type": "markdown",
      "metadata": {
        "id": "vZjLJ8XliHcY"
      },
      "source": [
        "Next, we create a dictionary `params` of the form:\n",
        "\n",
        "    params =  {'pca__n_components': ncomp_test, 'svc__C' : c_test, ...}\n",
        "    \n",
        "Each key in the dictionary is the of the form `estimator__param` and the value is the values to be tested."
      ]
    },
    {
      "cell_type": "code",
      "execution_count": 65,
      "metadata": {
        "id": "I0kS3X_iiHcY"
      },
      "outputs": [],
      "source": [
        "# TODO 11:\n",
        "# params = ...\n",
        "\n",
        "params = {'pca__n_components': ncomp_test, 'svc__C' : c_test, 'svc__gamma':gam_test}"
      ]
    },
    {
      "cell_type": "markdown",
      "metadata": {
        "id": "VuOx9BuriHcZ"
      },
      "source": [
        "Finally, an object `estimator = GridSearchCV(...)` from  `pipe` and `params`.  Set `cv=5`, `train_score=True` and `iid=False`.  Fit the estimator from the data `X,y`.  Then the estimator will perform the cross-validation over all the parameters.  This may take a minute since we are search over so many parameters."
      ]
    },
    {
      "cell_type": "code",
      "execution_count": 66,
      "metadata": {
        "id": "T_U1R7skiHcZ",
        "colab": {
          "base_uri": "https://localhost:8080/"
        },
        "outputId": "f6518d24-3f6b-4759-d079-f5552175339a"
      },
      "outputs": [
        {
          "output_type": "execute_result",
          "data": {
            "text/plain": [
              "GridSearchCV(cv=5,\n",
              "             estimator=Pipeline(steps=[('scaler', StandardScaler()),\n",
              "                                       ('pca', PCA()), ('svc', SVC())]),\n",
              "             param_grid={'pca__n_components': array([ 3,  4,  5,  6,  7,  8,  9, 10]),\n",
              "                         'svc__C': array([1.e-02, 1.e-01, 1.e+00, 1.e+01, 1.e+02, 1.e+03]),\n",
              "                         'svc__gamma': array([1.e-03, 1.e-02, 1.e-01, 1.e+00, 1.e+01])},\n",
              "             return_train_score=True)"
            ]
          },
          "metadata": {},
          "execution_count": 66
        }
      ],
      "source": [
        "# TODO 12:\n",
        "# estimator = GridSearchCV(...)\n",
        "# estimator.fit(...)\n",
        "\n",
        "estimator = GridSearchCV(pipe, params, cv=5, return_train_score=True)\n",
        "estimator.fit(X,y)"
      ]
    },
    {
      "cell_type": "markdown",
      "metadata": {
        "id": "N0MpXmb-iHcZ"
      },
      "source": [
        "Print the best test score and best parameters.  They are fields in `estimator`.  If you did it correctly, it should be a little higher than the logistic regression (about 0.97 to 0.98 accuracy)."
      ]
    },
    {
      "cell_type": "code",
      "execution_count": 67,
      "metadata": {
        "id": "1TsWzoVWiHcZ",
        "colab": {
          "base_uri": "https://localhost:8080/"
        },
        "outputId": "5d8d33f3-2fc5-467f-cc30-eac69c4b681a"
      },
      "outputs": [
        {
          "output_type": "stream",
          "name": "stdout",
          "text": [
            "TheBest test score is: 0.9777777777777779\n",
            "The Best parameters are: {'pca__n_components': 5, 'svc__C': 1.0, 'svc__gamma': 0.1}\n"
          ]
        }
      ],
      "source": [
        "# TODO 13:\n",
        "\n",
        "print('TheBest test score is:', estimator.best_score_)\n",
        "print('The Best parameters are:', estimator.best_params_)"
      ]
    },
    {
      "cell_type": "markdown",
      "metadata": {
        "id": "LHum4JGViHcZ"
      },
      "source": [
        "Finally, you can get the test score for all the parameter choices from \n",
        "\n",
        "    test_score = estimator.cv_results_['mean_test_score']\n",
        "    \n",
        "Use the `imshow` command to plot the mean test score over `gamma` and `C` for the value `n_components=5`."
      ]
    },
    {
      "cell_type": "code",
      "execution_count": 68,
      "metadata": {
        "id": "Wn9ClqkniHcZ",
        "colab": {
          "base_uri": "https://localhost:8080/",
          "height": 279
        },
        "outputId": "d842de35-e051-4ad2-c9ef-a8cc43e95c3c"
      },
      "outputs": [
        {
          "output_type": "display_data",
          "data": {
            "text/plain": [
              "<Figure size 432x288 with 2 Axes>"
            ],
            "image/png": "[encoded data removed]"
          },
          "metadata": {
            "needs_background": "light"
          }
        }
      ],
      "source": [
        "# TODO 14:\n",
        "test_score = estimator.cv_results_['mean_test_score']\n",
        "\n",
        "testscoresizeschange=test_score[60:90]\n",
        "\n",
        "plt.imshow(testscoresizeschange.reshape(6,5), aspect='auto', cmap='Reds')\n",
        "plt.xlabel('Gamma')\n",
        "plt.ylabel('C')\n",
        "plt.colorbar()\n",
        "\n",
        "ax = plt.gca()\n",
        "ax.set_xticks(np.arange(len(gam_test)))\n",
        "ax.set_xticklabels(gam_test)\n",
        "ax.set_yticks(np.arange(len(c_test)))\n",
        "_ = ax.set_yticklabels(c_test)"
      ]
    },
    {
      "cell_type": "code",
      "execution_count": 68,
      "metadata": {
        "id": "9GIF1PBfiHcZ"
      },
      "outputs": [],
      "source": []
    }
  ],
  "metadata": {
    "kernelspec": {
      "display_name": "Python 3",
      "language": "python",
      "name": "python3"
    },
    "language_info": {
      "codemirror_mode": {
        "name": "ipython",
        "version": 3
      },
      "file_extension": ".py",
      "mimetype": "text/x-python",
      "name": "python",
      "nbconvert_exporter": "python",
      "pygments_lexer": "ipython3",
      "version": "3.8.5"
    },
    "colab": {
      "provenance": []
    }
  },
  "nbformat": 4,
  "nbformat_minor": 0
}
