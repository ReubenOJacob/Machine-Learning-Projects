{
  "cells": [
    {
      "cell_type": "markdown",
      "metadata": {
        "id": "lgrChJoABU_U"
      },
      "source": [
        "# Lab:  Model Order Selection for Neural Data\n",
        "\n",
        "Machine learning is a key tool for neuroscientists to understand how sensory and motor signals are encoded in the brain.  In addition to improving our scientific understanding of neural phenomena, understanding neural encoding is critical for brain machine interfaces.  In this lab, you will use model selection for performing some simple analysis on real neural signals.  \n",
        "\n",
        "Before doing this lab, you should review the ideas in the [polynomial model selection demo](./polyfit.ipynb).  In addition to the concepts in that demo, you will learn to:\n",
        "* Represent neural time-series data in arrays\n",
        "* Load data from a pickle file\n",
        "* Describe and fit memoryless linear models\n",
        "* Describe and fit linear time-series models with delays\n",
        "* Fit linear models with multiple target outputs\n",
        "* Select the optimal delay via cross-validation"
      ]
    },
    {
      "cell_type": "markdown",
      "metadata": {
        "id": "RN1KbVThBU_Y"
      },
      "source": [
        "## Loading the data\n",
        "\n",
        "The data in this lab comes from neural recordings described in:\n",
        "\n",
        "<a href=\"http://jn.physiology.org/content/106/2/764.short\">\n",
        "Stevenson, Ian H., et al. \"Statistical assessment of the stability of neural movement representations.\" Journal of neurophysiology 106.2 (2011): 764-774</a>\n",
        "\n",
        "Neurons are the basic information processing units in the brain.  Neurons communicate with one another via *spikes* or *action potentials* which are brief events where voltage in the neuron rapidly rises then falls.  These spikes trigger the electro-chemical signals between one neuron and another.  In this experiment, the spikes were recorded from 196 neurons in the primary motor cortex (M1) of a monkey using an electrode array implanted onto the surface of a monkey's brain.  During the recording, the monkey performed several reaching tasks and the position and velocity of the hand was recorded as well.  \n",
        "\n",
        "The goal of the experiment is to try to *read the monkey's brain*:  That is, predict the hand motion from the neural signals from the motor cortex.\n",
        "\n",
        "We first load the key packages."
      ]
    },
    {
      "cell_type": "code",
      "execution_count": 46,
      "metadata": {
        "id": "inMuaKYSBU_Z"
      },
      "outputs": [],
      "source": [
        "import numpy as np\n",
        "import matplotlib.pyplot as plt\n",
        "import pickle\n",
        "import numpy.polynomial.polynomial as poly\n",
        "\n",
        "from sklearn.linear_model import LinearRegression\n",
        "from sklearn.metrics import r2_score"
      ]
    },
    {
      "cell_type": "markdown",
      "metadata": {
        "id": "pRPPFkztBU_a"
      },
      "source": [
        "The full data is available on the CRCNS website  http://crcns.org/data-sets/movements/dream.  This website has a large number of great datasets and can be used for projects as well.  However, the raw data files can be quite large.  To make the lab easier, the [Kording lab](http://kordinglab.com/) at UPenn has put together an excellent [repository](https://github.com/KordingLab/Neural_Decoding) where they have created simple pre-processed versions of the data.  You can download the file `example_data_s1.pickle` from the [Dropbox link](https://www.dropbox.com/sh/n4924ipcfjqc0t6/AADOv9JYMUBK1tlg9P71gSSra/example_data_s1.pickle?dl=0).  Alternatively, you can directly run the following code.  This may take a little while to download since the file is 26 MB."
      ]
    },
    {
      "cell_type": "code",
      "execution_count": 47,
      "metadata": {
        "colab": {
          "base_uri": "https://localhost:8080/"
        },
        "id": "ILpQUr4QBU_b",
        "outputId": "50c3e65f-43f7-49c6-934d-6d36504ceba7"
      },
      "outputs": [
        {
          "output_type": "stream",
          "name": "stdout",
          "text": [
            "File example_data_s1.pickle is already downloaded\n"
          ]
        }
      ],
      "source": [
        "fn_src = 'https://www.dropbox.com/sh/n4924ipcfjqc0t6/AADOv9JYMUBK1tlg9P71gSSra/example_data_s1.pickle?dl=1'\n",
        "fn_dst = 'example_data_s1.pickle'\n",
        "\n",
        "import os\n",
        "from six.moves import urllib\n",
        "\n",
        "if os.path.isfile(fn_dst):\n",
        "    print('File %s is already downloaded' % fn_dst)\n",
        "else:        \n",
        "    urllib.request.urlretrieve(fn_src, fn_dst)"
      ]
    },
    {
      "cell_type": "markdown",
      "metadata": {
        "id": "_QVm0FO6BU_b"
      },
      "source": [
        "The file is a *pickle* data structure, which is a package to serialize python objects into data files.  Once you have downloaded the file, you can run the following command to retrieve the data from the pickle file."
      ]
    },
    {
      "cell_type": "code",
      "execution_count": 48,
      "metadata": {
        "id": "Pb1ZqDbDBU_c"
      },
      "outputs": [],
      "source": [
        "with open('example_data_s1.pickle', 'rb') as fp:\n",
        "    X,y = pickle.load(fp)"
      ]
    },
    {
      "cell_type": "markdown",
      "metadata": {
        "id": "7NgYR4HLBU_c"
      },
      "source": [
        "The matrix `X` is matrix of spike counts where `X[i,j]` is the number of spikes from neuron `j` in time bin `i`.\n",
        "The matrix `y` has two columns:\n",
        "* `y[i,0] = ` velocity of the monkey's hand in the x-direction\n",
        "* `y[i,1] = ` velocity of the monkey's hand in the y-direction\n",
        "Our goal will be to predict `y` from `X`.  \n",
        "\n",
        "Each time bin represent `tsamp=0.05` seconds of time.  Using `X.shape` and `y.shape` compute and print:\n",
        "* `nt = ` the total number of time bins\n",
        "* `nneuron = ` the total number of neurons\n",
        "* `nout = ` the total number of output variables to track = number of columns in `y`\n",
        "* `ttotal = ` total time of the experiment is seconds. "
      ]
    },
    {
      "cell_type": "code",
      "execution_count": 49,
      "metadata": {
        "colab": {
          "base_uri": "https://localhost:8080/"
        },
        "id": "I6yE3BEbG_7s",
        "outputId": "45c5afb1-dfdc-45d3-84a9-a7b193b1d2aa"
      },
      "outputs": [
        {
          "output_type": "execute_result",
          "data": {
            "text/plain": [
              "(61339, 2)"
            ]
          },
          "metadata": {},
          "execution_count": 49
        }
      ],
      "source": [
        "y.shape"
      ]
    },
    {
      "cell_type": "code",
      "execution_count": 50,
      "metadata": {
        "colab": {
          "base_uri": "https://localhost:8080/"
        },
        "id": "5K-YGM-zHvNj",
        "outputId": "561b1797-61f4-48b4-9101-d2ac270c5075"
      },
      "outputs": [
        {
          "output_type": "execute_result",
          "data": {
            "text/plain": [
              "(61339, 52)"
            ]
          },
          "metadata": {},
          "execution_count": 50
        }
      ],
      "source": [
        "X.shape"
      ]
    },
    {
      "cell_type": "code",
      "execution_count": 51,
      "metadata": {
        "colab": {
          "base_uri": "https://localhost:8080/"
        },
        "id": "X9D6aGJABU_d",
        "outputId": "e9c0738d-25f2-4ed1-b670-85de5ea74772"
      },
      "outputs": [
        {
          "output_type": "stream",
          "name": "stdout",
          "text": [
            "nt = 61339.\n",
            "nneuron = 52.\n",
            "nout = 2.\n",
            "ttotal = 3066.950000 seconds .\n"
          ]
        }
      ],
      "source": [
        "tsamp = 0.05  # sampling time in seconds\n",
        " \n",
        " \n",
        "\n",
        "# TODO 1\n",
        "# nt = ...\n",
        "# nneuron = ..\n",
        "# nout = ...\n",
        "# ttotal = ...\n",
        "\n",
        "a= 0.05*61339\n",
        "print (\"nt = 61339.\")\n",
        "print (\"nneuron = 52.\")\n",
        "print (\"nout = 2.\")\n",
        "print (\"ttotal = %f seconds .\" %a)\n"
      ]
    },
    {
      "cell_type": "markdown",
      "metadata": {
        "id": "VCG9AtKfBU_e"
      },
      "source": [
        "## Fitting a Memoryless Linear Model\n",
        "\n",
        "Let's first try a simple linear regression model to fit the data.\n",
        "\n",
        "First, use the `train_test_split` function to split the data into training and test.  Let `Xtr,ytr` be the training data set and `Xts,yts` be the test data set.  Use `test_size=0.33` so `1/3` of the data is used for test."
      ]
    },
    {
      "cell_type": "code",
      "execution_count": 52,
      "metadata": {
        "colab": {
          "base_uri": "https://localhost:8080/"
        },
        "id": "BmGpV3l-BU_e",
        "outputId": "191c5b87-c04c-4dc3-ec00-a94b326cd541"
      },
      "outputs": [
        {
          "output_type": "execute_result",
          "data": {
            "text/plain": [
              "Ellipsis"
            ]
          },
          "metadata": {},
          "execution_count": 52
        }
      ],
      "source": [
        "from sklearn.model_selection import train_test_split\n",
        "\n",
        "# TODO 2\n",
        "# Xtr, Xts, ytr, yts = ...\n",
        "\n",
        "Xtr, Xts, ytr, yts = train_test_split(X, y, test_size=0.33)\n",
        "...     "
      ]
    },
    {
      "cell_type": "markdown",
      "metadata": {
        "id": "U-50oQLCP70e"
      },
      "source": []
    },
    {
      "cell_type": "markdown",
      "metadata": {
        "id": "gxjBQoR4BU_e"
      },
      "source": [
        "Now, fit a linear model using `Xtr,ytr`.  Make a prediction  `yhat` using `Xts`.  Compare `yhat` to `yts` to measure `rsq`, the  `R^2`.  You can use the `r2_score` method. Print the `rsq` value.  You should get `rsq` of around `0.45`. "
      ]
    },
    {
      "cell_type": "code",
      "execution_count": 53,
      "metadata": {
        "colab": {
          "base_uri": "https://localhost:8080/"
        },
        "id": "00sKm-RBBU_f",
        "outputId": "628402ee-4722-43a0-e022-4afcbcd69d26"
      },
      "outputs": [
        {
          "output_type": "stream",
          "name": "stdout",
          "text": [
            " Rsq= 0.464943\n"
          ]
        }
      ],
      "source": [
        "# TODO 3\n",
        "# yhat = ...\n",
        "# rsq = ...\n",
        "\n",
        "from sklearn import linear_model\n",
        "from sklearn.linear_model import LinearRegression\n",
        "\n",
        "regr = linear_model.LinearRegression()\n",
        "regr.fit(Xtr,ytr)\n",
        "\n",
        "yhat =regr.predict(Xts)\n",
        "\n",
        "Rsq= r2_score(yts, yhat)\n",
        "\n",
        "print(\" Rsq= %f\" %Rsq)\n",
        "\n",
        "\n",
        "\n"
      ]
    },
    {
      "cell_type": "markdown",
      "metadata": {
        "id": "jnD9AxgKBU_f"
      },
      "source": [
        "It is useful to plot the predicted vs. true values.  Since we have two outputs, create two `subplots` using the `plt.subplot()` command.  In plot `i=0,1`, plot `yhat[:,i]` vs. `yts[:,i]` with a scatter plot.   Label the axes of the plots.  You may also use the command:\n",
        "\n",
        "    plt.figure(figsize=(10,5))\n",
        "    \n",
        "to make the figures a little larger."
      ]
    },
    {
      "cell_type": "code",
      "execution_count": 54,
      "metadata": {
        "colab": {
          "base_uri": "https://localhost:8080/",
          "height": 651
        },
        "id": "6JEoNP6cBU_f",
        "outputId": "4d6d2f79-8ae5-418c-a18c-16fc4d115f12"
      },
      "outputs": [
        {
          "output_type": "display_data",
          "data": {
            "text/plain": [
              "<Figure size 720x360 with 1 Axes>"
            ],
            "image/png": "[encoded data removed]"
          },
          "metadata": {
            "needs_background": "light"
          }
        },
        {
          "output_type": "display_data",
          "data": {
            "text/plain": [
              "<Figure size 720x360 with 1 Axes>"
            ],
            "image/png": "[encoded data removed]"
          },
          "metadata": {
            "needs_background": "light"
          }
        }
      ],
      "source": [
        "# TODO 4\n",
        "# Plot data\n",
        "#plot 1:\n",
        "plt.figure(figsize=(10,5))\n",
        "plt.subplot(1, 2, 1)\n",
        "plt.plot(yhat[:,0],yts[:,0],'o',color = 'blue')\n",
        "plt.xlabel('Predicted Velocity of Hand in Y direction')\n",
        "plt.ylabel('Test Velocity of Hand in Y direction')\n",
        "plt.show() \n",
        "\n",
        "\n",
        "#plot 2:\n",
        "plt.figure(figsize=(10,5))\n",
        "plt.subplot(1, 2, 2)\n",
        "plt.plot(yhat[:,1],yts[:,1],'o',color = 'red')\n",
        "plt.xlabel('Predicted Velocity of Hand in Y direction')\n",
        "plt.ylabel('Test Velocity of Hand in Y direction')\n",
        "plt.show() \n"
      ]
    },
    {
      "cell_type": "markdown",
      "metadata": {
        "id": "ExDXsBhgBU_g"
      },
      "source": [
        "## Fitting Models with Delay\n",
        "\n",
        "One way we can improve the model accuracy is to used delayed version of the features.  Specifically, the model we used above mapped the features \n",
        "\n",
        "    yhat[i,k] = \\sum_{j=0}^{p-1} X[i,j]*w[j,k] + b[k]\n",
        "    \n",
        "where `p` is the number of features and `w[j,k]` is a matrix of coefficients.  In this model,  `yhat[i,:]` at time `i` was only dependent on the inputs  `X[i,:]` at time `i`.  In signal processing, this is called a *memoryless* model.  However, in many physical systems, such as those that arise in neuroscience, there is a delay between the inputs `X[i,:]` and the outputs `y[i]`.  For such cases, we can use a model of the form,\n",
        "\n",
        "    yhat[i+d,k] = \\sum_{j=0}^{p-1} \\sum_{m=0}^d X[i+m,j]*W[j,m,k] + b[k]\n",
        "    \n",
        "where `W` is a 3-dim array of coefficients where:\n",
        "\n",
        "    W[j,m,k] is the influence of the input X[i+m,j] onto output y[i+d,k]\n",
        "\n",
        "\n",
        "In signal processing, this model is called an *FIR* filter and `W[j,:,k]` is the *impulse response* from the `j`-th input to the `k`-th output.  The point is that the output at time `i+d` depends on the inputs at times `i,i+1,...,i+d`.  Hence, it depends on the last `d+1` time steps, not just the most recent time.\n",
        "\n",
        "To translate this into a linear regression problem, complete the following function that creates a new feature and target matrix where:\n",
        "\n",
        "    Xdly[i,:] has the rows X[i,:], X[i++1,:], ..., X[i+dly,:]\n",
        "    ydly[i,:] = y[i+dly,:]\n",
        "    \n",
        "Thus, `Xdly[i,:]` contains all the delayed fetaures for the target `yhat`.  Note that if `X` is `n x p` then `Xdly` will be `n-dly x (dly+1)*p`.  \n"
      ]
    },
    {
      "cell_type": "code",
      "execution_count": 55,
      "metadata": {
        "colab": {
          "base_uri": "https://localhost:8080/"
        },
        "id": "9JzrAChL1VLD",
        "outputId": "e7271a75-f9c3-4188-f311-98780ef8fc01"
      },
      "outputs": [
        {
          "output_type": "execute_result",
          "data": {
            "text/plain": [
              "61339"
            ]
          },
          "metadata": {},
          "execution_count": 55
        }
      ],
      "source": [
        "X.shape[0]"
      ]
    },
    {
      "cell_type": "code",
      "execution_count": 56,
      "metadata": {
        "colab": {
          "base_uri": "https://localhost:8080/"
        },
        "id": "s7fSpCfY1aFZ",
        "outputId": "665c6543-d022-48f5-8cef-2cf26b3bf431"
      },
      "outputs": [
        {
          "output_type": "execute_result",
          "data": {
            "text/plain": [
              "52"
            ]
          },
          "metadata": {},
          "execution_count": 56
        }
      ],
      "source": [
        "X.shape[1]"
      ]
    },
    {
      "cell_type": "code",
      "execution_count": 83,
      "metadata": {
        "id": "nEdYX9EUBU_g"
      },
      "outputs": [],
      "source": [
        "def create_dly_data(X,y,dly):\n",
        "    \"\"\"\n",
        "    Create delayed data\n",
        "    \"\"\"    \n",
        "    # TODO 5\n",
        "    # Xdly = ...\n",
        "    # ydly = ...\n",
        "\n",
        "    a = X.shape[0]\n",
        "    b = X.shape[1]\n",
        "    \n",
        "    Xdly=np.zeros((a-dly,(dly+1)*b))\n",
        "    \n",
        "    for i in range(dly+1):\n",
        "      Xdly[:,i*b:(i+1)*b]=X[dly-i:a-i,:]\n",
        "    ydly=y[dly:]\n",
        "    \n",
        "    return Xdly, ydly\n"
      ]
    },
    {
      "cell_type": "markdown",
      "metadata": {
        "id": "QeLQRYWzBU_g"
      },
      "source": [
        "Now fit an linear delayed model with `dly=6` additional delay lags.  That is,\n",
        "* Create delayed data `Xdly,ydly=create_dly_data(X,y,dly=6)`\n",
        "* Split the data into training and test as before\n",
        "* Fit the model on the training data\n",
        "* Measure the `R^2` score on the test data\n",
        "\n",
        "If you did this correctly, you should get a new `R^2` score around 0.69.  This is significantly better than the memoryless models."
      ]
    },
    {
      "cell_type": "code",
      "execution_count": 84,
      "metadata": {
        "colab": {
          "base_uri": "https://localhost:8080/"
        },
        "id": "vQU_w2PdBU_h",
        "outputId": "3011d0f7-0936-4236-84e4-e02080979363"
      },
      "outputs": [
        {
          "output_type": "stream",
          "name": "stdout",
          "text": [
            " Rsq= 0.691137\n"
          ]
        }
      ],
      "source": [
        "# TODO 6\n",
        "dly=6\n",
        "Xdly, ydly=create_dly_data(X,y,dly)\n",
        "\n",
        "Xtr, Xts, ytr, yts=train_test_split(Xdly, ydly, test_size=0.33)\n",
        "\n",
        "regr = linear_model.LinearRegression()\n",
        "regr.fit(Xtr,ytr)\n",
        "\n",
        "yhat =regr.predict(Xts)\n",
        "\n",
        "Rsq= r2_score(yts, yhat)\n",
        "\n",
        "print(\" Rsq= %f\" %Rsq)"
      ]
    },
    {
      "cell_type": "markdown",
      "metadata": {
        "id": "ltfKtULVBU_h"
      },
      "source": [
        "Plot the predicted vs. true values as before. You should visually see a better fit."
      ]
    },
    {
      "cell_type": "code",
      "execution_count": 59,
      "metadata": {
        "colab": {
          "base_uri": "https://localhost:8080/",
          "height": 651
        },
        "id": "CBeiyfpGBU_h",
        "outputId": "05423821-495e-4914-ed2b-4c84666154b7"
      },
      "outputs": [
        {
          "output_type": "display_data",
          "data": {
            "text/plain": [
              "<Figure size 720x360 with 1 Axes>"
            ],
            "image/png": "[encoded data removed]"
          },
          "metadata": {
            "needs_background": "light"
          }
        },
        {
          "output_type": "display_data",
          "data": {
            "text/plain": [
              "<Figure size 720x360 with 1 Axes>"
            ],
            "image/png": "[encoded data removed]"
          },
          "metadata": {
            "needs_background": "light"
          }
        }
      ],
      "source": [
        "# TODO 7\n",
        "\n",
        "#plot 1:\n",
        "plt.figure(figsize=(10,5))\n",
        "plt.subplot(1, 2, 1)\n",
        "plt.plot(yhat[:,0],yts[:,0],'o',color = 'blue')\n",
        "plt.xlabel('Predicted Velocity of Hand in Y direction')\n",
        "plt.ylabel('Test Velocity of Hand in Y direction')\n",
        "plt.show() \n",
        "\n",
        "\n",
        "#plot 2:\n",
        "plt.figure(figsize=(10,5))\n",
        "plt.subplot(1, 2, 2)\n",
        "plt.plot(yhat[:,1],yts[:,1],'o',color = 'red')\n",
        "plt.xlabel('Predicted Velocity of Hand in Y direction')\n",
        "plt.ylabel('Test Velocity of Hand in Y direction')\n",
        "plt.show() "
      ]
    },
    {
      "cell_type": "markdown",
      "metadata": {
        "id": "Bw0x1ZaXBU_h"
      },
      "source": [
        "*Note*:  Fitting an FIR model with the above method is very inefficient when the number of delays, `dly` is large.  In the above method, the number of columns of `X` grows from `p` to `(dly+1)*p` and the computations become expensive with `dly` is large.  We will describe a much faster way to fit such models using gradient descent when we talk about convolutional neural networks."
      ]
    },
    {
      "cell_type": "markdown",
      "metadata": {
        "id": "lsSlKb7MBU_h"
      },
      "source": [
        "## Selecting the Optimal Delay via Model Order Selection\n",
        "\n",
        "In the previous example, we fixed `dly=6`.  We can now select the optimal delay using model order selection.  Since we have a large number of data samples, it turns out that the optimal model order uses a very high delay.  Using the above fitting method, the computations take too long.  So, to simplify the lab, we will first just pretent that we have a very limited data set.\n",
        "\n",
        "Compute `Xred` and `yred` by taking the first `nred=6000` samples of the data `X` and `y`.  This is about 10% of the overall data."
      ]
    },
    {
      "cell_type": "code",
      "execution_count": 60,
      "metadata": {
        "id": "ZGzq64joBU_i"
      },
      "outputs": [],
      "source": [
        "nred = 6000\n",
        "\n",
        "# TODO 8\n",
        "# Xred = ...\n",
        "# yred = ...\n",
        "\n",
        "Xred=X[:nred,:]\n",
        "yred=y[:nred,:]"
      ]
    },
    {
      "cell_type": "markdown",
      "metadata": {
        "id": "a8jqOZLpBU_i"
      },
      "source": [
        "Now complete the following code to implement K-fold cross validation with `nfold=5` and values of delays `dtest = [0,1,...,dmax]`.  \n",
        "\n",
        "The code also includes a progress bar using the `tqdm` package.  This is very useful when you have a long computation.\n",
        "\n",
        "Note:  Some students appeared to use the `mse` metric (i.e. RSS per sample) instead of `R^2`.  That is fine.  For the solution, I have computed both."
      ]
    },
    {
      "cell_type": "markdown",
      "metadata": {
        "id": "fhnpI9jxBU_i"
      },
      "source": [
        "You may have an issue with tqdm, make sure you have the necessary tools installed:\n",
        "Check https://ipywidgets.readthedocs.io/en/stable/user_install.html"
      ]
    },
    {
      "cell_type": "code",
      "source": [
        "import  sklearn.model_selection \n",
        "import tqdm.notebook\n",
        "\n",
        "nfold = 5  # Number of folds\n",
        "dmax = 15  # maximum number of delays\n",
        "\n",
        "# TODO 9:  Create a k-fold object\n",
        "# kf = sklearn.model_selection.KFold(n_splits=..., shuffle=True, random_state=23)\n",
        "kf = sklearn.model_selection.KFold(n_splits=nfold,shuffle=True,random_state=23)\n",
        "\n",
        "\n",
        "# TODO 10:  Model orders to be tested\n",
        "# dtest = vector [0,1,...,dmax]  \n",
        "# nd = len(dtest)\n",
        "dtest=np.arange(0,dmax+1)\n",
        "nd = len(dtest)\n",
        "\n",
        "# TODO 11.  \n",
        "# Initialize a matrix Rsq to hold values of the R^2 across the model orders and folds.\n",
        "# Alternatively, you can also create an RSS matrix\n",
        "Rsq=np.zeros((nd,nfold))\n",
        "Rss=np.zeros((nd,nfold))\n",
        "\n",
        "# Create a progress bar.  Note there are nd*nfold total fits.\n",
        "pbar = tqdm.notebook.tqdm(\n",
        "    total=nfold*nd, initial=0,\n",
        "    unit='fits', unit_divisor=nd, desc='Model order test')\n",
        "\n",
        "\n",
        "for it, d in enumerate(dtest):\n",
        "    # TODO 12:  \n",
        "    # Create the delayed data using the create_dly_function from the reduced\n",
        "    # data Xred, yred\n",
        "    #     Xdly, ydly = create_dly_data(...)\n",
        "    Xdlyr, ydlyr = create_dly_data(Xred,yred,dmax)    \n",
        "        \n",
        "    # Loop over the folds\n",
        "    for isplit, Ind in enumerate(kf.split(Xdlyr)):\n",
        "      Xdlyr1= Xdlyr[:,-(d+1)*X.shape[1]:]\n",
        "\n",
        "        # Get the training data in the split\n",
        "      Itr, Its = Ind        \n",
        "\n",
        "        # TODO 13\n",
        "        # Split the data (Xdly,ydly) into training and test\n",
        "        # Xtr = ...\n",
        "        # ytr = ...\n",
        "        # Xts = ...\n",
        "        # yts = ...\n",
        "      Xtrr = Xdlyr1[Itr]\n",
        "      ytrr = ydlyr[Itr]\n",
        "      Xtsr = Xdlyr1[Its]\n",
        "      ytsr = ydlyr[Its]\n",
        "        \n",
        "        # TODO 14:  Fit data on training data\n",
        "      regdlyr=LinearRegression()\n",
        "      regdlyr.fit(Xtrr,ytrr)        \n",
        "\n",
        "        # TODO 15:  Measure the R^2 vale on test data and store in the matrix Rsq\n",
        "      yhat=regdlyr.predict(Xtsr)\n",
        "      R2red=r2_score(ytsr, yhat)\n",
        "      Rsq[it,isplit]=R2red\n",
        "        \n",
        "      pbar.update(1)\n",
        "pbar.close()"
      ],
      "metadata": {
        "colab": {
          "base_uri": "https://localhost:8080/",
          "height": 49,
          "referenced_widgets": [
            "394c07827a3a49a083aa4c62be80bd2a",
            "e70a7a8e89ad4675bf863d56419dedae",
            "31ba4ad9e6fc47ec91c4ff350f353aee",
            "72555bd5895246ef8e70c162a34ff7da",
            "b243dd1e59044d4691d4a167122f7f15",
            "ec580f71cf4742548ae41d690637bd4c",
            "4571a6e8433c4e95a05285183634dbe7",
            "3327fae584034ff59e8b2edab6f1c620",
            "9d431ecd9fcd49d5abc395470fd1c680",
            "a5ddb4ee19324cdca6da8e4713dac0a1",
            "1cf237d4b17348d6a6ab6bfcbf82ec71"
          ]
        },
        "id": "W9Fy1JPmORvi",
        "outputId": "d4e5f592-e846-47d1-c9b7-000eae6d6532"
      },
      "execution_count": 110,
      "outputs": [
        {
          "output_type": "display_data",
          "data": {
            "text/plain": [
              "Model order test:   0%|          | 0/80 [00:00<?, ?fits/s]"
            ],
            "application/vnd.jupyter.widget-view+json": {
              "version_major": 2,
              "version_minor": 0,
              "model_id": "394c07827a3a49a083aa4c62be80bd2a"
            }
          },
          "metadata": {}
        }
      ]
    },
    {
      "cell_type": "markdown",
      "metadata": {
        "id": "gORwe61QBU_i"
      },
      "source": [
        "Compute the mean and standard error of the `R^2` values as a function of the model order `d`.  Use a `plt.errorbar` plot.  Label your axes."
      ]
    },
    {
      "cell_type": "code",
      "execution_count": 111,
      "metadata": {
        "id": "jvJhZAdwBU_i",
        "colab": {
          "base_uri": "https://localhost:8080/",
          "height": 279
        },
        "outputId": "fa2812d8-447b-4295-c037-9c56b66066af"
      },
      "outputs": [
        {
          "output_type": "display_data",
          "data": {
            "text/plain": [
              "<Figure size 432x288 with 1 Axes>"
            ],
            "image/png": "[encoded data removed]"
          },
          "metadata": {
            "needs_background": "light"
          }
        }
      ],
      "source": [
        "# TODO 16\n",
        "\n",
        "Rsqmean = np.mean(Rsq,axis=1)\n",
        "RsqSE = np.std(Rsq,axis=1)/np.sqrt(nfold-1)\n",
        "plt.errorbar(dtest, Rsqmean, yerr=RsqSE,fmt='-')\n",
        "plt.xlabel('Model Order d')\n",
        "plt.ylabel('Mean and standard error of Rsq')\n",
        "plt.grid()"
      ]
    },
    {
      "cell_type": "markdown",
      "metadata": {
        "id": "EPTcyR7rBU_j"
      },
      "source": [
        "Find the optimal order `d` with the normal rule (i.e. highest test `R^2`)"
      ]
    },
    {
      "cell_type": "code",
      "execution_count": 109,
      "metadata": {
        "id": "YUy4aiADBU_j",
        "colab": {
          "base_uri": "https://localhost:8080/"
        },
        "outputId": "50bb4af1-35f7-4796-f7fb-e8e7cf9948f4"
      },
      "outputs": [
        {
          "output_type": "stream",
          "name": "stdout",
          "text": [
            "Optimal order d = 15.000000\n"
          ]
        }
      ],
      "source": [
        "# TODO 17\n",
        "\n",
        "RsqH=np.argmax(Rsqmean)\n",
        "Optimald=dtest[RsqH]\n",
        "\n",
        "print (\"Optimal order d = %f\" %Optimald)"
      ]
    },
    {
      "cell_type": "markdown",
      "metadata": {
        "id": "ggEIhe58BU_j"
      },
      "source": [
        "Now find the optimal model order via the one SE rule (i.e. the lowest order model which has test `R^2` score within on SE)"
      ]
    },
    {
      "cell_type": "code",
      "execution_count": null,
      "metadata": {
        "id": "uY1umoWABU_j"
      },
      "outputs": [],
      "source": [
        "# TODO 18"
      ]
    },
    {
      "cell_type": "code",
      "execution_count": 106,
      "metadata": {
        "id": "jr5zIMBJBU_j",
        "colab": {
          "base_uri": "https://localhost:8080/",
          "height": 296
        },
        "outputId": "ac9626e6-0ed5-4ff4-8562-24e051b51860"
      },
      "outputs": [
        {
          "output_type": "stream",
          "name": "stdout",
          "text": [
            "Optimal order d = 0.000000\n"
          ]
        },
        {
          "output_type": "display_data",
          "data": {
            "text/plain": [
              "<Figure size 432x288 with 1 Axes>"
            ],
            "image/png": "[encoded data removed]"
          },
          "metadata": {
            "needs_background": "light"
          }
        }
      ],
      "source": [
        "imin = np.argmax(Rsqmean)\n",
        "RSS_tgt = Rsqmean[imin] + RsqSE[imin]\n",
        "\n",
        "# Find the lowest model order below the target\n",
        "I = np.where(Rsqmean <= RSS_tgt)[0]\n",
        "iopt = I[0]\n",
        "dopt = dtest[iopt]\n",
        "\n",
        "print (\"Optimal order d = %f\" %dopt)\n",
        "\n",
        "\n",
        "plt.errorbar(dtest, Rsqmean, yerr=RsqSE, fmt='-')\n",
        "\n",
        "# Plot the line at the RSS target\n",
        "plt.plot([dtest[0],dtest[imin]], [RSS_tgt, RSS_tgt], '--')\n",
        "\n",
        "# Plot the line at the optimal model order\n",
        "plt.plot([dopt,dopt], [0,0.5], 'g--')\n",
        "\n",
        "\n",
        "plt.xlabel('Model order')\n",
        "plt.ylabel('Test RSS')\n",
        "plt.grid()"
      ]
    }
  ],
  "metadata": {
    "colab": {
      "collapsed_sections": [],
      "provenance": []
    },
    "kernelspec": {
      "display_name": "Python 3",
      "language": "python",
      "name": "python3"
    },
    "language_info": {
      "codemirror_mode": {
        "name": "ipython",
        "version": 3
      },
      "file_extension": ".py",
      "mimetype": "text/x-python",
      "name": "python",
      "nbconvert_exporter": "python",
      "pygments_lexer": "ipython3",
      "version": "3.8.5"
    },
    "widgets": {
      "application/vnd.jupyter.widget-state+json": {
        "394c07827a3a49a083aa4c62be80bd2a": {
          "model_module": "@jupyter-widgets/controls",
          "model_name": "HBoxModel",
          "model_module_version": "1.5.0",
          "state": {
            "_dom_classes": [],
            "_model_module": "@jupyter-widgets/controls",
            "_model_module_version": "1.5.0",
            "_model_name": "HBoxModel",
            "_view_count": null,
            "_view_module": "@jupyter-widgets/controls",
            "_view_module_version": "1.5.0",
            "_view_name": "HBoxView",
            "box_style": "",
            "children": [
              "IPY_MODEL_e70a7a8e89ad4675bf863d56419dedae",
              "IPY_MODEL_31ba4ad9e6fc47ec91c4ff350f353aee",
              "IPY_MODEL_72555bd5895246ef8e70c162a34ff7da"
            ],
            "layout": "IPY_MODEL_b243dd1e59044d4691d4a167122f7f15"
          }
        },
        "e70a7a8e89ad4675bf863d56419dedae": {
          "model_module": "@jupyter-widgets/controls",
          "model_name": "HTMLModel",
          "model_module_version": "1.5.0",
          "state": {
            "_dom_classes": [],
            "_model_module": "@jupyter-widgets/controls",
            "_model_module_version": "1.5.0",
            "_model_name": "HTMLModel",
            "_view_count": null,
            "_view_module": "@jupyter-widgets/controls",
            "_view_module_version": "1.5.0",
            "_view_name": "HTMLView",
            "description": "",
            "description_tooltip": null,
            "layout": "IPY_MODEL_ec580f71cf4742548ae41d690637bd4c",
            "placeholder": "​",
            "style": "IPY_MODEL_4571a6e8433c4e95a05285183634dbe7",
            "value": "Model order test: 100%"
          }
        },
        "31ba4ad9e6fc47ec91c4ff350f353aee": {
          "model_module": "@jupyter-widgets/controls",
          "model_name": "FloatProgressModel",
          "model_module_version": "1.5.0",
          "state": {
            "_dom_classes": [],
            "_model_module": "@jupyter-widgets/controls",
            "_model_module_version": "1.5.0",
            "_model_name": "FloatProgressModel",
            "_view_count": null,
            "_view_module": "@jupyter-widgets/controls",
            "_view_module_version": "1.5.0",
            "_view_name": "ProgressView",
            "bar_style": "success",
            "description": "",
            "description_tooltip": null,
            "layout": "IPY_MODEL_3327fae584034ff59e8b2edab6f1c620",
            "max": 80,
            "min": 0,
            "orientation": "horizontal",
            "style": "IPY_MODEL_9d431ecd9fcd49d5abc395470fd1c680",
            "value": 80
          }
        },
        "72555bd5895246ef8e70c162a34ff7da": {
          "model_module": "@jupyter-widgets/controls",
          "model_name": "HTMLModel",
          "model_module_version": "1.5.0",
          "state": {
            "_dom_classes": [],
            "_model_module": "@jupyter-widgets/controls",
            "_model_module_version": "1.5.0",
            "_model_name": "HTMLModel",
            "_view_count": null,
            "_view_module": "@jupyter-widgets/controls",
            "_view_module_version": "1.5.0",
            "_view_name": "HTMLView",
            "description": "",
            "description_tooltip": null,
            "layout": "IPY_MODEL_a5ddb4ee19324cdca6da8e4713dac0a1",
            "placeholder": "​",
            "style": "IPY_MODEL_1cf237d4b17348d6a6ab6bfcbf82ec71",
            "value": " 80/80 [00:14&lt;00:00,  2.28fits/s]"
          }
        },
        "b243dd1e59044d4691d4a167122f7f15": {
          "model_module": "@jupyter-widgets/base",
          "model_name": "LayoutModel",
          "model_module_version": "1.2.0",
          "state": {
            "_model_module": "@jupyter-widgets/base",
            "_model_module_version": "1.2.0",
            "_model_name": "LayoutModel",
            "_view_count": null,
            "_view_module": "@jupyter-widgets/base",
            "_view_module_version": "1.2.0",
            "_view_name": "LayoutView",
            "align_content": null,
            "align_items": null,
            "align_self": null,
            "border": null,
            "bottom": null,
            "display": null,
            "flex": null,
            "flex_flow": null,
            "grid_area": null,
            "grid_auto_columns": null,
            "grid_auto_flow": null,
            "grid_auto_rows": null,
            "grid_column": null,
            "grid_gap": null,
            "grid_row": null,
            "grid_template_areas": null,
            "grid_template_columns": null,
            "grid_template_rows": null,
            "height": null,
            "justify_content": null,
            "justify_items": null,
            "left": null,
            "margin": null,
            "max_height": null,
            "max_width": null,
            "min_height": null,
            "min_width": null,
            "object_fit": null,
            "object_position": null,
            "order": null,
            "overflow": null,
            "overflow_x": null,
            "overflow_y": null,
            "padding": null,
            "right": null,
            "top": null,
            "visibility": null,
            "width": null
          }
        },
        "ec580f71cf4742548ae41d690637bd4c": {
          "model_module": "@jupyter-widgets/base",
          "model_name": "LayoutModel",
          "model_module_version": "1.2.0",
          "state": {
            "_model_module": "@jupyter-widgets/base",
            "_model_module_version": "1.2.0",
            "_model_name": "LayoutModel",
            "_view_count": null,
            "_view_module": "@jupyter-widgets/base",
            "_view_module_version": "1.2.0",
            "_view_name": "LayoutView",
            "align_content": null,
            "align_items": null,
            "align_self": null,
            "border": null,
            "bottom": null,
            "display": null,
            "flex": null,
            "flex_flow": null,
            "grid_area": null,
            "grid_auto_columns": null,
            "grid_auto_flow": null,
            "grid_auto_rows": null,
            "grid_column": null,
            "grid_gap": null,
            "grid_row": null,
            "grid_template_areas": null,
            "grid_template_columns": null,
            "grid_template_rows": null,
            "height": null,
            "justify_content": null,
            "justify_items": null,
            "left": null,
            "margin": null,
            "max_height": null,
            "max_width": null,
            "min_height": null,
            "min_width": null,
            "object_fit": null,
            "object_position": null,
            "order": null,
            "overflow": null,
            "overflow_x": null,
            "overflow_y": null,
            "padding": null,
            "right": null,
            "top": null,
            "visibility": null,
            "width": null
          }
        },
        "4571a6e8433c4e95a05285183634dbe7": {
          "model_module": "@jupyter-widgets/controls",
          "model_name": "DescriptionStyleModel",
          "model_module_version": "1.5.0",
          "state": {
            "_model_module": "@jupyter-widgets/controls",
            "_model_module_version": "1.5.0",
            "_model_name": "DescriptionStyleModel",
            "_view_count": null,
            "_view_module": "@jupyter-widgets/base",
            "_view_module_version": "1.2.0",
            "_view_name": "StyleView",
            "description_width": ""
          }
        },
        "3327fae584034ff59e8b2edab6f1c620": {
          "model_module": "@jupyter-widgets/base",
          "model_name": "LayoutModel",
          "model_module_version": "1.2.0",
          "state": {
            "_model_module": "@jupyter-widgets/base",
            "_model_module_version": "1.2.0",
            "_model_name": "LayoutModel",
            "_view_count": null,
            "_view_module": "@jupyter-widgets/base",
            "_view_module_version": "1.2.0",
            "_view_name": "LayoutView",
            "align_content": null,
            "align_items": null,
            "align_self": null,
            "border": null,
            "bottom": null,
            "display": null,
            "flex": null,
            "flex_flow": null,
            "grid_area": null,
            "grid_auto_columns": null,
            "grid_auto_flow": null,
            "grid_auto_rows": null,
            "grid_column": null,
            "grid_gap": null,
            "grid_row": null,
            "grid_template_areas": null,
            "grid_template_columns": null,
            "grid_template_rows": null,
            "height": null,
            "justify_content": null,
            "justify_items": null,
            "left": null,
            "margin": null,
            "max_height": null,
            "max_width": null,
            "min_height": null,
            "min_width": null,
            "object_fit": null,
            "object_position": null,
            "order": null,
            "overflow": null,
            "overflow_x": null,
            "overflow_y": null,
            "padding": null,
            "right": null,
            "top": null,
            "visibility": null,
            "width": null
          }
        },
        "9d431ecd9fcd49d5abc395470fd1c680": {
          "model_module": "@jupyter-widgets/controls",
          "model_name": "ProgressStyleModel",
          "model_module_version": "1.5.0",
          "state": {
            "_model_module": "@jupyter-widgets/controls",
            "_model_module_version": "1.5.0",
            "_model_name": "ProgressStyleModel",
            "_view_count": null,
            "_view_module": "@jupyter-widgets/base",
            "_view_module_version": "1.2.0",
            "_view_name": "StyleView",
            "bar_color": null,
            "description_width": ""
          }
        },
        "a5ddb4ee19324cdca6da8e4713dac0a1": {
          "model_module": "@jupyter-widgets/base",
          "model_name": "LayoutModel",
          "model_module_version": "1.2.0",
          "state": {
            "_model_module": "@jupyter-widgets/base",
            "_model_module_version": "1.2.0",
            "_model_name": "LayoutModel",
            "_view_count": null,
            "_view_module": "@jupyter-widgets/base",
            "_view_module_version": "1.2.0",
            "_view_name": "LayoutView",
            "align_content": null,
            "align_items": null,
            "align_self": null,
            "border": null,
            "bottom": null,
            "display": null,
            "flex": null,
            "flex_flow": null,
            "grid_area": null,
            "grid_auto_columns": null,
            "grid_auto_flow": null,
            "grid_auto_rows": null,
            "grid_column": null,
            "grid_gap": null,
            "grid_row": null,
            "grid_template_areas": null,
            "grid_template_columns": null,
            "grid_template_rows": null,
            "height": null,
            "justify_content": null,
            "justify_items": null,
            "left": null,
            "margin": null,
            "max_height": null,
            "max_width": null,
            "min_height": null,
            "min_width": null,
            "object_fit": null,
            "object_position": null,
            "order": null,
            "overflow": null,
            "overflow_x": null,
            "overflow_y": null,
            "padding": null,
            "right": null,
            "top": null,
            "visibility": null,
            "width": null
          }
        },
        "1cf237d4b17348d6a6ab6bfcbf82ec71": {
          "model_module": "@jupyter-widgets/controls",
          "model_name": "DescriptionStyleModel",
          "model_module_version": "1.5.0",
          "state": {
            "_model_module": "@jupyter-widgets/controls",
            "_model_module_version": "1.5.0",
            "_model_name": "DescriptionStyleModel",
            "_view_count": null,
            "_view_module": "@jupyter-widgets/base",
            "_view_module_version": "1.2.0",
            "_view_name": "StyleView",
            "description_width": ""
          }
        }
      }
    }
  },
  "nbformat": 4,
  "nbformat_minor": 0
}
